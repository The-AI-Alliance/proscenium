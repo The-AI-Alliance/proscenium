{
  "nbformat": 4,
  "nbformat_minor": 0,
  "metadata": {
    "colab": {
      "provenance": []
    },
    "kernelspec": {
      "name": "python3",
      "display_name": "Python 3"
    },
    "language_info": {
      "name": "python"
    }
  },
  "cells": [
    {
      "cell_type": "markdown",
      "source": [
        "# Literature Demo"
      ],
      "metadata": {
        "id": "cPk1pKkYPLxH"
      }
    },
    {
      "cell_type": "markdown",
      "source": [
        "## Install Proscenium"
      ],
      "metadata": {
        "id": "M0mOPbN_DWOu"
      }
    },
    {
      "cell_type": "code",
      "source": [
        "!pip install proscenium\n",
        "!pip install lapidarist\n"
      ],
      "metadata": {
        "collapsed": true,
        "id": "_6JJncvsDQIW"
      },
      "execution_count": null,
      "outputs": []
    },
    {
      "cell_type": "markdown",
      "source": [
        "## Install Demo code and dependencies"
      ],
      "metadata": {
        "id": "jNP0PyEcNdxK"
      }
    },
    {
      "cell_type": "code",
      "source": [
        "!pwd\n",
        "!git clone https://github.com/The-AI-Alliance/proscenium.git\n",
        "%cd proscenium\n",
        "!pwd\n",
        "!python -m pip install \".[test]\"\n",
        "%cd tests\n",
        "!pwd\n"
      ],
      "metadata": {
        "collapsed": true,
        "id": "_c6q87QsDQF-"
      },
      "execution_count": null,
      "outputs": []
    },
    {
      "cell_type": "markdown",
      "source": [
        "## Configure"
      ],
      "metadata": {
        "id": "Be4_fm1dNyv-"
      }
    },
    {
      "cell_type": "code",
      "source": [
        "from proscenium.util import get_secret\n",
        "_ = get_secret(\"TOGETHER_API_KEY\")\n",
        "\n",
        "import logging\n",
        "log = logging.getLogger(__name__)\n",
        "log.setLevel(logging.INFO)\n",
        "logging.getLogger(\"proscenium\").setLevel(logging.INFO)\n",
        "logging.getLogger(\"bartlebot\").setLevel(logging.INFO)\n",
        "\n",
        "from proscenium.verbs.display import header\n",
        "from rich.console import Console\n",
        "console = Console()\n",
        "console.print(header())\n",
        "\n",
        "import nest_asyncio\n",
        "nest_asyncio.apply()"
      ],
      "metadata": {
        "id": "XD6ahCTVDQBA"
      },
      "execution_count": null,
      "outputs": []
    },
    {
      "cell_type": "markdown",
      "source": [
        "## Create ChunkSpace Prop from Books"
      ],
      "metadata": {
        "id": "btbnJFd7N1qI"
      }
    },
    {
      "cell_type": "code",
      "source": [
        "from demo.scenes.literature import ChunkSpace\n",
        "\n",
        "milvus_uri = \"file:/milvus.db\"\n",
        "embedding_model = \"all-MiniLM-L6-v2\"\n",
        "collection_name = \"literature_chunks\"\n",
        "\n",
        "chunk_space = ChunkSpace(milvus_uri, collection_name, embedding_model, console)\n",
        "\n",
        "chunk_space.build()"
      ],
      "metadata": {
        "id": "SDyRu5fdHNuR"
      },
      "execution_count": null,
      "outputs": []
    },
    {
      "cell_type": "markdown",
      "source": [
        "## Create Literature Expert Character"
      ],
      "metadata": {
        "id": "l_jnSZtIWCzU"
      }
    },
    {
      "cell_type": "code",
      "source": [
        "from demo.scenes.literature import LiteratureExpert\n",
        "\n",
        "model = \"together:meta-llama/Llama-4-Maverick-17B-128E-Instruct-FP8\"\n",
        "\n",
        "expert = LiteratureExpert(model, model, milvus_uri, embedding_model, collection_name, None)"
      ],
      "metadata": {
        "id": "34clqHFqKXIZ"
      },
      "execution_count": null,
      "outputs": []
    },
    {
      "cell_type": "markdown",
      "source": [
        "## Ask it a question"
      ],
      "metadata": {
        "id": "ma_5QKgpWTO2"
      }
    },
    {
      "cell_type": "code",
      "source": [
        "question = \"What does Hermes say to Prometheus about giving fire to humans?\""
      ],
      "metadata": {
        "id": "_gt-9y_-KF2c"
      },
      "execution_count": null,
      "outputs": []
    },
    {
      "cell_type": "code",
      "source": [
        "from rich.panel import Panel\n",
        "\n",
        "for channel_id, answer in expert.handle(None, None, question):\n",
        "    console.print(Panel(answer, title=\"Answer\"))"
      ],
      "metadata": {
        "id": "C9zfL-jfTkQ8"
      },
      "execution_count": null,
      "outputs": []
    },
    {
      "cell_type": "markdown",
      "source": [
        "## Inspect the implementation"
      ],
      "metadata": {
        "id": "oaBMIsEQN8D2"
      }
    },
    {
      "cell_type": "code",
      "source": [
        "!cat demo/scenes/literature/query_handler.py"
      ],
      "metadata": {
        "id": "ig0p4FlHKnxy"
      },
      "execution_count": null,
      "outputs": []
    }
  ]
}