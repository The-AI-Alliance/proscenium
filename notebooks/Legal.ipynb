{
 "cells": [
  {
   "cell_type": "markdown",
   "metadata": {
    "id": "pxZ6E40Nic_D"
   },
   "source": [
    "# Proscenium Legal Demo"
   ]
  },
  {
   "cell_type": "markdown",
   "metadata": {
    "id": "pC1daMacfHFr"
   },
   "source": [
    "This notebook demonstrates\n",
    "\n",
    "1. The use of an LLM to enrich of publically available legal opinions\n",
    "2. Entity resolution\n",
    "3. Query parsing\n",
    "4. Context formation for question answering"
   ]
  },
  {
   "cell_type": "markdown",
   "metadata": {
    "id": "lYmJfcxSjFFD"
   },
   "source": [
    "## Prerequisites\n",
    "\n",
    "1. Obtain a `TOGETHER_API_KEY` from https://together.ai/ and store it as an environment variable or Colab secret.\n",
    "2. Obtain a Neo4j Sandbox https://neo4j.com/sandbox/\n",
    "\n"
   ]
  },
  {
   "cell_type": "markdown",
   "metadata": {
    "id": "v1yk5l_Yior5"
   },
   "source": [
    "## Setup"
   ]
  },
  {
   "cell_type": "code",
   "execution_count": null,
   "metadata": {
    "id": "BvWG9tliin4V"
   },
   "outputs": [],
   "source": [
    "!git clone https://github.com/The-AI-Alliance/proscenium.git"
   ]
  },
  {
   "cell_type": "code",
   "execution_count": null,
   "metadata": {
    "id": "r_INMy3YiHYq"
   },
   "outputs": [],
   "source": [
    "%cd proscenium"
   ]
  },
  {
   "cell_type": "code",
   "execution_count": null,
   "metadata": {
    "id": "Inx7AN8biTEz",
    "scrolled": true
   },
   "outputs": [],
   "source": [
    "!python -m pip install ."
   ]
  },
  {
   "cell_type": "code",
   "execution_count": null,
   "metadata": {
    "id": "u57Hb9SxiTCN"
   },
   "outputs": [],
   "source": [
    "import os\n",
    "\n",
    "os.environ[\"TOKENIZERS_PARALLELISM\"] = \"false\""
   ]
  },
  {
   "cell_type": "code",
   "execution_count": null,
   "metadata": {
    "id": "PnzJm_FPiS_3"
   },
   "outputs": [],
   "source": [
    "from rich import print\n",
    "from rich.panel import Panel\n",
    "from rich.prompt import Prompt\n",
    "import asyncio\n",
    "\n",
    "import nest_asyncio\n",
    "nest_asyncio.apply()"
   ]
  },
  {
   "cell_type": "markdown",
   "metadata": {
    "id": "2pvzpAntuhsd"
   },
   "source": [
    "## Configure\n",
    "\n",
    "The folowing cell defines\n",
    "\n",
    "1. Get secrets for accessing Together and Neo4j\n",
    "2. Hugging Face dataset id (NH caselaw)\n",
    "3. Filenames (entity csv)\n",
    "4. Model ids (for extraction, embedding, and generation)\n",
    "5. Domain-specific logic for processing caselaw and user queries\n",
    "\n"
   ]
  },
  {
   "cell_type": "code",
   "execution_count": null,
   "metadata": {
    "id": "7wR2fQHTxeSg"
   },
   "outputs": [],
   "source": [
    "default_neo4j_uri = \"bolt://localhost:7687\"\n",
    "default_neo4j_username = \"neo4j\"\n",
    "default_neo4j_password = \"password\"\n",
    "\n",
    "default_milvus_uri = \"file:/grag-milvus.db\"\n",
    "\n",
    "try:\n",
    "    from google.colab import userdata\n",
    "    import os\n",
    "    api_key = userdata.get('TOGETHER_API_KEY')\n",
    "    os.environ['TOGETHER_API_KEY'] = api_key\n",
    "    print(\"Pulled secrets from colab userdata\")\n",
    "\n",
    "    milvus_uri = userdata.get(\"MILVUS_URI\", default_milvus_uri)\n",
    "    neo4j_uri = userdata.get('NEO4J_URI', default_neo4j_uri)\n",
    "    neo4j_username = userdata.get('NEO4J_USERNAME', default_neo4j_username)\n",
    "    neo4j_password = userdata.get('NEO4J_PASSWORD', default_neo4j_password)\n",
    "\n",
    "except ImportError:\n",
    "    print(\"Not in colab.  Relying on environment variables\")\n",
    "    milvus_uri = os.environ.get(\"MILVUS_URI\", default_milvus_uri)\n",
    "    neo4j_uri = os.environ.get(\"NEO4J_URI\", default_neo4j_uri)\n",
    "    neo4j_username = os.environ.get(\"NEO4J_USERNAME\", default_neo4j_username)\n",
    "    neo4j_password = os.environ.get(\"NEO4J_PASSWORD\", default_neo4j_password)\n",
    "\n",
    "\n",
    "from pathlib import Path\n",
    "enrichment_jsonl_file = Path(\"enrichments.jsonl\")\n",
    "\n",
    "milvus_uri = \"file:/grag-milvus.db\"\n",
    "\n",
    "import demo.domains.legal as domain"
   ]
  },
  {
   "cell_type": "markdown",
   "metadata": {
    "id": "3I2O5JdZitcS"
   },
   "source": [
    "## Extract Knowledge Graph"
   ]
  },
  {
   "cell_type": "code",
   "execution_count": null,
   "metadata": {
    "id": "iHlQMVr2iS41"
   },
   "outputs": [],
   "source": [
    "from proscenium.scripts.document_enricher import enrich_documents\n",
    "\n",
    "extract_from_opinion_chunks = domain.extract_from_opinion_chunks_function(\n",
    "    domain.doc_as_rich,\n",
    "    domain.default_chunk_extraction_model_id,\n",
    "    domain.chunk_extraction_template,\n",
    "    domain.LegalOpinionChunkExtractions,\n",
    "    delay=0.1,\n",
    ")\n",
    "\n",
    "docs_per_dataset = 4\n",
    "\n",
    "enrich_documents(\n",
    "    domain.retriever(docs_per_dataset),\n",
    "    extract_from_opinion_chunks,\n",
    "    domain.doc_enrichments,\n",
    "    enrichment_jsonl_file,\n",
    "    verbose=True,\n",
    ")"
   ]
  },
  {
   "cell_type": "markdown",
   "metadata": {
    "id": "igdLPCURi4wp"
   },
   "source": [
    "## Load Knowledge Graph"
   ]
  },
  {
   "cell_type": "code",
   "execution_count": null,
   "metadata": {
    "id": "1QXRug_wiSxB"
   },
   "outputs": [],
   "source": [
    "from proscenium.verbs.know import knowledge_graph_client\n",
    "from proscenium.scripts.knowledge_graph import load_knowledge_graph\n",
    "\n",
    "driver = knowledge_graph_client(neo4j_uri, neo4j_username, neo4j_password)\n",
    "\n",
    "load_knowledge_graph(\n",
    "    driver,\n",
    "    enrichment_jsonl_file,\n",
    "    domain.LegalOpinionEnrichments,\n",
    "    domain.doc_enrichments_to_graph,\n",
    ")\n",
    "\n",
    "driver.close()\n"
   ]
  },
  {
   "cell_type": "markdown",
   "metadata": {
    "id": "J8u_IWZhx_57"
   },
   "source": [
    "## Show Knowledge Graph"
   ]
  },
  {
   "cell_type": "code",
   "execution_count": null,
   "metadata": {
    "id": "VkniMyeBiSua"
   },
   "outputs": [],
   "source": [
    "driver = knowledge_graph_client(neo4j_uri, neo4j_username, neo4j_password)\n",
    "\n",
    "domain.show_knowledge_graph(driver)\n",
    "\n",
    "driver.close()"
   ]
  },
  {
   "cell_type": "markdown",
   "metadata": {
    "id": "Y62MCvToysZc"
   },
   "source": [
    "## Load Entity Resolver"
   ]
  },
  {
   "cell_type": "code",
   "execution_count": null,
   "metadata": {
    "id": "4FGTKzaUiSr-"
   },
   "outputs": [],
   "source": [
    "from proscenium.scripts.entity_resolver import load_entity_resolver\n",
    "\n",
    "driver = knowledge_graph_client(neo4j_uri, neo4j_username, neo4j_password)\n",
    "\n",
    "load_entity_resolver(\n",
    "    driver,\n",
    "    domain.resolvers,\n",
    "    milvus_uri,\n",
    ")\n",
    "\n",
    "driver.close()"
   ]
  },
  {
   "cell_type": "markdown",
   "metadata": {
    "id": "EYuhF8cozqGa"
   },
   "source": [
    "## Answer Question"
   ]
  },
  {
   "cell_type": "code",
   "execution_count": null,
   "metadata": {
    "id": "1Pd0wgW0iSpY"
   },
   "outputs": [],
   "source": [
    "question = \"How has 291 A.2d 605 been used in NH caselaw?\""
   ]
  },
  {
   "cell_type": "code",
   "execution_count": null,
   "metadata": {
    "id": "6vEIsmv90Fd1"
   },
   "outputs": [],
   "source": [
    "from proscenium.scripts.graph_rag import query_to_prompts\n",
    "from rich.panel import Panel\n",
    "\n",
    "driver = knowledge_graph_client(neo4j_uri, neo4j_username, neo4j_password)"
   ]
  },
  {
   "cell_type": "code",
   "execution_count": null,
   "metadata": {},
   "outputs": [],
   "source": [
    "prompts = query_to_prompts(\n",
    "    question,\n",
    "    domain.default_query_extraction_model_id,\n",
    "    milvus_uri,\n",
    "    driver,\n",
    "    domain.query_extract,\n",
    "    domain.query_extract_to_graph,\n",
    "    domain.query_extract_to_context,\n",
    "    domain.context_to_prompts,\n",
    "    verbose=True,\n",
    ")\n"
   ]
  },
  {
   "cell_type": "code",
   "execution_count": null,
   "metadata": {},
   "outputs": [],
   "source": [
    "from proscenium.verbs.complete import complete_simple\n",
    "\n",
    "if prompts is None:\n",
    "\n",
    "    print(\"Unable to form prompts\")\n",
    "\n",
    "else:\n",
    "\n",
    "    system_prompt, user_prompt = prompts\n",
    "    \n",
    "    response = complete_simple(\n",
    "        domain.default_generation_model_id,\n",
    "        system_prompt,\n",
    "        user_prompt,\n",
    "        rich_output=True,\n",
    "    )\n",
    "    \n",
    "    if response:\n",
    "        print(Panel(response, title=\"Answer\"))\n",
    "    else:\n",
    "        print(\"No answer\")\n",
    "\n",
    "driver.close()"
   ]
  }
 ],
 "metadata": {
  "colab": {
   "provenance": []
  },
  "kernelspec": {
   "display_name": "Python 3 (ipykernel)",
   "language": "python",
   "name": "python3"
  },
  "language_info": {
   "codemirror_mode": {
    "name": "ipython",
    "version": 3
   },
   "file_extension": ".py",
   "mimetype": "text/x-python",
   "name": "python",
   "nbconvert_exporter": "python",
   "pygments_lexer": "ipython3",
   "version": "3.13.2"
  }
 },
 "nbformat": 4,
 "nbformat_minor": 4
}
