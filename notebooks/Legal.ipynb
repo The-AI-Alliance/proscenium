{
  "nbformat": 4,
  "nbformat_minor": 0,
  "metadata": {
    "colab": {
      "provenance": []
    },
    "kernelspec": {
      "name": "python3",
      "display_name": "Python 3"
    },
    "language_info": {
      "name": "python"
    }
  },
  "cells": [
    {
      "cell_type": "markdown",
      "source": [
        "# Proscenium Legal Demo"
      ],
      "metadata": {
        "id": "pxZ6E40Nic_D"
      }
    },
    {
      "cell_type": "markdown",
      "source": [
        "This notebook demonstrates\n",
        "\n",
        "1. The use of an LLM to enrich of publically available legal opinions\n",
        "2. Entity resolution\n",
        "3. Query parsing\n",
        "4. Context formation for question answering"
      ],
      "metadata": {
        "id": "pC1daMacfHFr"
      }
    },
    {
      "cell_type": "markdown",
      "source": [
        "## Prerequisites\n",
        "\n",
        "1. Obtain a `TOGETHER_API_KEY` from https://together.ai/ and store it as an environment variable or Colab secret.\n",
        "2. Obtain a Neo4j Sandbox https://neo4j.com/sandbox/\n",
        "\n"
      ],
      "metadata": {
        "id": "lYmJfcxSjFFD"
      }
    },
    {
      "cell_type": "markdown",
      "source": [
        "## Setup"
      ],
      "metadata": {
        "id": "v1yk5l_Yior5"
      }
    },
    {
      "cell_type": "code",
      "source": [
        "!git clone https://github.com/The-AI-Alliance/proscenium.git"
      ],
      "metadata": {
        "collapsed": true,
        "id": "BvWG9tliin4V"
      },
      "execution_count": null,
      "outputs": []
    },
    {
      "cell_type": "code",
      "execution_count": null,
      "metadata": {
        "id": "r_INMy3YiHYq"
      },
      "outputs": [],
      "source": [
        "%cd proscenium"
      ]
    },
    {
      "cell_type": "code",
      "source": [
        "!python -m pip install ."
      ],
      "metadata": {
        "collapsed": true,
        "id": "Inx7AN8biTEz"
      },
      "execution_count": null,
      "outputs": []
    },
    {
      "cell_type": "code",
      "source": [
        "import os\n",
        "\n",
        "os.environ[\"TOKENIZERS_PARALLELISM\"] = \"false\""
      ],
      "metadata": {
        "id": "u57Hb9SxiTCN"
      },
      "execution_count": null,
      "outputs": []
    },
    {
      "cell_type": "code",
      "source": [
        "from rich import print\n",
        "from rich.panel import Panel\n",
        "from rich.prompt import Prompt\n",
        "import asyncio\n",
        "\n",
        "import nest_asyncio\n",
        "nest_asyncio.apply()"
      ],
      "metadata": {
        "id": "PnzJm_FPiS_3"
      },
      "execution_count": null,
      "outputs": []
    },
    {
      "cell_type": "markdown",
      "source": [
        "## Configure\n",
        "\n",
        "The folowing cell defines\n",
        "\n",
        "1. Get secrets for accessing Together and Neo4j\n",
        "2. Hugging Face dataset id (NH caselaw)\n",
        "3. Filenames (entity csv)\n",
        "4. Model ids (for extraction, embedding, and generation)\n",
        "5. Domain-specific logic for processing caselaw and user queries\n",
        "\n"
      ],
      "metadata": {
        "id": "2pvzpAntuhsd"
      }
    },
    {
      "cell_type": "code",
      "source": [
        "from google.colab import userdata\n",
        "\n",
        "api_key = userdata.get('TOGETHER_API_KEY')\n",
        "os.environ['TOGETHER_API_KEY'] = api_key\n",
        "\n",
        "neo4j_uri = userdata.get('NEO4J_URI')\n",
        "neo4j_username = userdata.get(\"NEO4J_USERNAME\")\n",
        "neo4j_password = userdata.get(\"NEO4J_PASSWORD\")\n",
        "\n",
        "from pathlib import Path\n",
        "enrichment_jsonl_file = Path(\"enrichments.jsonl\")\n",
        "\n",
        "milvus_uri = \"file:/grag-milvus.db\"\n",
        "\n",
        "import demo.domains.legal as domain\n"
      ],
      "metadata": {
        "id": "7wR2fQHTxeSg"
      },
      "execution_count": null,
      "outputs": []
    },
    {
      "cell_type": "markdown",
      "source": [
        "## Extract Knowledge Graph"
      ],
      "metadata": {
        "id": "3I2O5JdZitcS"
      }
    },
    {
      "cell_type": "code",
      "source": [
        "from proscenium.scripts.document_enricher import enrich_documents\n",
        "\n",
        "docs_per_dataset = 4\n",
        "\n",
        "enrich_documents(\n",
        "    domain.retriever(docs_per_dataset),\n",
        "    domain.doc_as_rich,\n",
        "    enrichment_jsonl_file,\n",
        "    domain.default_chunk_extraction_model_id,\n",
        "    domain.chunk_extraction_template,\n",
        "    domain.LegalOpinionChunkExtractions,\n",
        "    domain.doc_enrichments,\n",
        "    delay=2,\n",
        "    verbose=True,\n",
        ")\n"
      ],
      "metadata": {
        "id": "iHlQMVr2iS41",
        "collapsed": true
      },
      "execution_count": null,
      "outputs": []
    },
    {
      "cell_type": "markdown",
      "source": [
        "## Load Knowledge Graph"
      ],
      "metadata": {
        "id": "igdLPCURi4wp"
      }
    },
    {
      "cell_type": "code",
      "source": [
        "from proscenium.verbs.know import knowledge_graph_client\n",
        "from proscenium.scripts.knowledge_graph import load_knowledge_graph\n"
      ],
      "metadata": {
        "id": "sajBBSjbiSzo"
      },
      "execution_count": null,
      "outputs": []
    },
    {
      "cell_type": "code",
      "source": [
        "driver = knowledge_graph_client(neo4j_uri, neo4j_username, neo4j_password)\n",
        "\n",
        "load_knowledge_graph(\n",
        "    driver,\n",
        "    enrichment_jsonl_file,\n",
        "    domain.LegalOpinionEnrichments,\n",
        "    domain.doc_enrichments_to_graph,\n",
        ")\n",
        "\n",
        "driver.close()\n"
      ],
      "metadata": {
        "id": "1QXRug_wiSxB"
      },
      "execution_count": null,
      "outputs": []
    },
    {
      "cell_type": "markdown",
      "source": [
        "## Show Knowledge Graph"
      ],
      "metadata": {
        "id": "J8u_IWZhx_57"
      }
    },
    {
      "cell_type": "code",
      "source": [
        "driver = knowledge_graph_client(neo4j_uri, neo4j_username, neo4j_password)\n",
        "\n",
        "domain.show_knowledge_graph(driver)\n",
        "\n",
        "driver.close()"
      ],
      "metadata": {
        "id": "VkniMyeBiSua",
        "collapsed": true
      },
      "execution_count": null,
      "outputs": []
    },
    {
      "cell_type": "markdown",
      "source": [
        "## Load Entity Resolver"
      ],
      "metadata": {
        "id": "Y62MCvToysZc"
      }
    },
    {
      "cell_type": "code",
      "source": [
        "from proscenium.scripts.entity_resolver import load_entity_resolver\n",
        "\n",
        "driver = knowledge_graph_client(neo4j_uri, neo4j_username, neo4j_password)\n",
        "\n",
        "load_entity_resolver(\n",
        "    driver,\n",
        "    domain.resolvers,\n",
        "    milvus_uri,\n",
        ")\n",
        "\n",
        "driver.close()"
      ],
      "metadata": {
        "collapsed": true,
        "id": "4FGTKzaUiSr-"
      },
      "execution_count": null,
      "outputs": []
    },
    {
      "cell_type": "markdown",
      "source": [
        "## Answer Question"
      ],
      "metadata": {
        "id": "EYuhF8cozqGa"
      }
    },
    {
      "cell_type": "code",
      "source": [
        "question = \"How has Judge Kenison used Ballou v. Ballou to rule on cases?\""
      ],
      "metadata": {
        "id": "1Pd0wgW0iSpY"
      },
      "execution_count": null,
      "outputs": []
    },
    {
      "cell_type": "code",
      "source": [
        "from proscenium.scripts.graph_rag import answer_question\n",
        "#from rich.panel import Panel\n",
        "\n",
        "driver = knowledge_graph_client(neo4j_uri, neo4j_username, neo4j_password)\n",
        "\n",
        "answer = answer_question(\n",
        "    question,\n",
        "    domain.default_query_extraction_model_id,\n",
        "    milvus_uri,\n",
        "    driver,\n",
        "    domain.default_generation_model_id,\n",
        "    domain.query_extract,\n",
        "    domain.extract_to_context,\n",
        "    domain.context_to_prompts,\n",
        "    True,\n",
        ")\n",
        "\n",
        "\n",
        "if answer:\n",
        "    print(Panel(answer, title=\"Answer\"))\n",
        "else:\n",
        "    print(\"No answer\")\n",
        "\n",
        "driver.close()"
      ],
      "metadata": {
        "id": "6vEIsmv90Fd1",
        "collapsed": true
      },
      "execution_count": null,
      "outputs": []
    }
  ]
}