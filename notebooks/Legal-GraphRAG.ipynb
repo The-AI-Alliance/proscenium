{
  "nbformat": 4,
  "nbformat_minor": 0,
  "metadata": {
    "colab": {
      "provenance": []
    },
    "kernelspec": {
      "name": "python3",
      "display_name": "Python 3"
    },
    "language_info": {
      "name": "python"
    }
  },
  "cells": [
    {
      "cell_type": "markdown",
      "source": [
        "# Proscenium Legal Demo (GraphRAG)"
      ],
      "metadata": {
        "id": "pxZ6E40Nic_D"
      }
    },
    {
      "cell_type": "markdown",
      "source": [
        "## Prerequisites\n",
        "\n",
        "1. Obtain a `TOGETHER_API_KEY` from https://together.ai/ and store it as an environment variable or Colab secret.\n",
        "2. Obtain a Neo4j Sandbox https://neo4j.com/sandbox/\n",
        "\n"
      ],
      "metadata": {
        "id": "lYmJfcxSjFFD"
      }
    },
    {
      "cell_type": "markdown",
      "source": [
        "## Setup"
      ],
      "metadata": {
        "id": "v1yk5l_Yior5"
      }
    },
    {
      "cell_type": "code",
      "source": [
        "!git clone https://github.com/The-AI-Alliance/proscenium.git"
      ],
      "metadata": {
        "collapsed": true,
        "id": "BvWG9tliin4V"
      },
      "execution_count": null,
      "outputs": []
    },
    {
      "cell_type": "code",
      "execution_count": null,
      "metadata": {
        "id": "r_INMy3YiHYq"
      },
      "outputs": [],
      "source": [
        "%cd proscenium"
      ]
    },
    {
      "cell_type": "code",
      "source": [
        "!python -m pip install ."
      ],
      "metadata": {
        "collapsed": true,
        "id": "Inx7AN8biTEz"
      },
      "execution_count": null,
      "outputs": []
    },
    {
      "cell_type": "code",
      "source": [
        "import os\n",
        "\n",
        "os.environ[\"TOKENIZERS_PARALLELISM\"] = \"false\""
      ],
      "metadata": {
        "id": "u57Hb9SxiTCN"
      },
      "execution_count": null,
      "outputs": []
    },
    {
      "cell_type": "code",
      "source": [
        "from rich import print\n",
        "from rich.panel import Panel\n",
        "from rich.prompt import Prompt\n",
        "import asyncio\n",
        "\n",
        "import nest_asyncio\n",
        "nest_asyncio.apply()"
      ],
      "metadata": {
        "id": "PnzJm_FPiS_3"
      },
      "execution_count": null,
      "outputs": []
    },
    {
      "cell_type": "markdown",
      "source": [
        "## Configure\n",
        "\n",
        "The folowing import defines\n",
        "\n",
        "1. Hugging Face dataset id (NH caselaw)\n",
        "2. Filenames (entity csv)\n",
        "3. Model ids (for extraction, embedding, and generation)\n",
        "4. Domain-specific logic for processing caselaw and user queries\n"
      ],
      "metadata": {
        "id": "2pvzpAntuhsd"
      }
    },
    {
      "cell_type": "code",
      "source": [
        "import demo.domains.legal as legal_config\n",
        "\n",
        "print(legal_config.default_chunk_extraction_model_id)"
      ],
      "metadata": {
        "id": "1PcdmRQGuduq"
      },
      "execution_count": null,
      "outputs": []
    },
    {
      "cell_type": "markdown",
      "source": [
        "Now set secrets for accessing Together and Neo4j"
      ],
      "metadata": {
        "id": "2-9V_YtsxfM4"
      }
    },
    {
      "cell_type": "code",
      "source": [
        "from google.colab import userdata\n",
        "\n",
        "api_key = userdata.get('TOGETHER_API_KEY')\n",
        "os.environ['TOGETHER_API_KEY'] = api_key\n",
        "\n",
        "neo4j_uri = userdata.get('NEO4J_URI')\n",
        "neo4j_username = userdata.get(\"NEO4J_USERNAME\")\n",
        "neo4j_password = userdata.get(\"NEO4J_PASSWORD\")\n"
      ],
      "metadata": {
        "id": "7wR2fQHTxeSg"
      },
      "execution_count": null,
      "outputs": []
    },
    {
      "cell_type": "markdown",
      "source": [
        "## Extract Knowledge Graph"
      ],
      "metadata": {
        "id": "3I2O5JdZitcS"
      }
    },
    {
      "cell_type": "code",
      "source": [
        "from proscenium.scripts.graph_rag import extract_entities\n",
        "\n",
        "extract_entities(\n",
        "  legal_config.retrieve_documents,\n",
        "  legal_config.doc_as_rich,\n",
        "  legal_config.entity_csv_file,\n",
        "  legal_config.doc_direct_triples,\n",
        "  legal_config.default_chunk_extraction_model_id,\n",
        "  legal_config.triples_from_chunk)\n"
      ],
      "metadata": {
        "id": "iHlQMVr2iS41"
      },
      "execution_count": null,
      "outputs": []
    },
    {
      "cell_type": "markdown",
      "source": [
        "## Load Knowledge Graph"
      ],
      "metadata": {
        "id": "igdLPCURi4wp"
      }
    },
    {
      "cell_type": "code",
      "source": [
        "from proscenium.verbs.know import knowledge_graph_client\n",
        "\n",
        "driver = knowledge_graph_client(neo4j_uri, neo4j_username, neo4j_password)"
      ],
      "metadata": {
        "id": "sajBBSjbiSzo"
      },
      "execution_count": null,
      "outputs": []
    },
    {
      "cell_type": "code",
      "source": [
        "from proscenium.scripts.graph_rag import load_entity_graph\n",
        "\n",
        "load_entity_graph(\n",
        "    driver,\n",
        "    legal_config.entity_csv_file,\n",
        "    legal_config.add_triple)\n",
        "\n",
        "driver.close()"
      ],
      "metadata": {
        "id": "1QXRug_wiSxB"
      },
      "execution_count": null,
      "outputs": []
    },
    {
      "cell_type": "markdown",
      "source": [
        "## Show Knowledge Graph"
      ],
      "metadata": {
        "id": "J8u_IWZhx_57"
      }
    },
    {
      "cell_type": "code",
      "source": [
        "from proscenium.scripts.graph_rag import show_entity_graph\n",
        "\n",
        "driver = knowledge_graph_client(neo4j_uri, neo4j_username, neo4j_password)\n",
        "\n",
        "show_entity_graph(driver)\n",
        "\n",
        "driver.close()"
      ],
      "metadata": {
        "id": "VkniMyeBiSua"
      },
      "execution_count": null,
      "outputs": []
    },
    {
      "cell_type": "markdown",
      "source": [
        "## Load Entity Resolver"
      ],
      "metadata": {
        "id": "Y62MCvToysZc"
      }
    },
    {
      "cell_type": "code",
      "source": [
        "from proscenium.verbs.vector_database import embedding_function\n",
        "\n",
        "embedding_fn = embedding_function(legal_config.embedding_model_id)\n",
        "print(\"Embedding model\", legal_config.embedding_model_id)\n",
        "\n",
        "from proscenium.verbs.vector_database import create_vector_db\n",
        "\n",
        "vector_db_client = create_vector_db(legal_config.milvus_uri, embedding_fn, overwrite=True)\n",
        "print(\"Vector db stored at\", legal_config.milvus_uri)\n",
        "\n",
        "driver = knowledge_graph_client(neo4j_uri, neo4j_username, neo4j_password)\n",
        "\n",
        "from proscenium.verbs.vector_database import collection_name\n",
        "from proscenium.scripts.graph_rag import load_entity_resolver\n",
        "load_entity_resolver(driver, vector_db_client, embedding_fn, collection_name)\n",
        "\n",
        "driver.close()\n",
        "vector_db_client.close()"
      ],
      "metadata": {
        "collapsed": true,
        "id": "4FGTKzaUiSr-"
      },
      "execution_count": null,
      "outputs": []
    },
    {
      "cell_type": "markdown",
      "source": [
        "## Answer Question"
      ],
      "metadata": {
        "id": "EYuhF8cozqGa"
      }
    },
    {
      "cell_type": "code",
      "source": [
        "question = \"How has Judge Kenison used Ballou v. Ballou to rule on cases?\""
      ],
      "metadata": {
        "id": "1Pd0wgW0iSpY"
      },
      "execution_count": null,
      "outputs": []
    },
    {
      "cell_type": "code",
      "source": [
        "driver = knowledge_graph_client(neo4j_uri, neo4j_username, neo4j_password)\n",
        "\n",
        "from proscenium.verbs.vector_database import vector_db\n",
        "vector_db_client = vector_db(legal_config.milvus_uri)\n",
        "\n",
        "from proscenium.scripts.graph_rag import answer_question\n",
        "\n",
        "answer = answer_question(\n",
        "    question,\n",
        "    legal_config.default_query_extraction_model_id,\n",
        "    vector_db_client,\n",
        "    legal_config.embedding_model_id,\n",
        "    driver,\n",
        "    legal_config.default_generation_model_id,\n",
        "    legal_config.triples_from_query,\n",
        "    legal_config.generation_prompts,\n",
        "    )\n",
        "\n",
        "if answer:\n",
        "    print(Panel(answer, title=\"Answer\"))\n",
        "else:\n",
        "    print(\"No answer\")\n",
        "\n",
        "driver.close()\n",
        "vector_db_client.close()\n"
      ],
      "metadata": {
        "id": "6vEIsmv90Fd1"
      },
      "execution_count": null,
      "outputs": []
    }
  ]
}