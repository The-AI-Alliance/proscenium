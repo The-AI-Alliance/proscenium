{
  "nbformat": 4,
  "nbformat_minor": 0,
  "metadata": {
    "colab": {
      "provenance": []
    },
    "kernelspec": {
      "name": "python3",
      "display_name": "Python 3"
    },
    "language_info": {
      "name": "python"
    }
  },
  "cells": [
    {
      "cell_type": "code",
      "execution_count": 2,
      "metadata": {
        "colab": {
          "base_uri": "https://localhost:8080/"
        },
        "collapsed": true,
        "id": "mr43wzP-ekNr",
        "outputId": "4c371a67-19c0-45bb-ac3d-3686c993b3f9"
      },
      "outputs": [
        {
          "output_type": "stream",
          "name": "stdout",
          "text": [
            "Cloning into 'proscenium'...\n",
            "remote: Enumerating objects: 679, done.\u001b[K\n",
            "remote: Counting objects: 100% (243/243), done.\u001b[K\n",
            "remote: Compressing objects: 100% (125/125), done.\u001b[K\n",
            "remote: Total 679 (delta 170), reused 128 (delta 118), pack-reused 436 (from 1)\u001b[K\n",
            "Receiving objects: 100% (679/679), 173.83 KiB | 1.64 MiB/s, done.\n",
            "Resolving deltas: 100% (437/437), done.\n"
          ]
        }
      ],
      "source": [
        "!git clone https://github.com/The-AI-Alliance/proscenium.git"
      ]
    },
    {
      "cell_type": "code",
      "source": [
        "%cd proscenium"
      ],
      "metadata": {
        "colab": {
          "base_uri": "https://localhost:8080/"
        },
        "id": "V5FNMWc-fTlp",
        "outputId": "38e32a90-aae0-4f4a-e97c-e55b4f56fd7e"
      },
      "execution_count": 3,
      "outputs": [
        {
          "output_type": "stream",
          "name": "stdout",
          "text": [
            "/content/proscenium\n"
          ]
        }
      ]
    },
    {
      "cell_type": "code",
      "source": [
        "!python -m pip install ."
      ],
      "metadata": {
        "colab": {
          "base_uri": "https://localhost:8080/"
        },
        "collapsed": true,
        "id": "ifnHtqSmfOPc",
        "outputId": "93bade47-e50d-410c-8366-786c72b31e46"
      },
      "execution_count": 4,
      "outputs": [
        {
          "output_type": "stream",
          "name": "stdout",
          "text": [
            "Processing /content/proscenium\n",
            "  Installing build dependencies ... \u001b[?25l\u001b[?25hdone\n",
            "  Getting requirements to build wheel ... \u001b[?25l\u001b[?25hdone\n",
            "  Preparing metadata (pyproject.toml) ... \u001b[?25l\u001b[?25hdone\n",
            "Collecting aisuite<0.2.0,>=0.1.10 (from aisuite[anthropic,openai]<0.2.0,>=0.1.10->proscenium==0.0.1.dev0)\n",
            "  Downloading aisuite-0.1.10-py3-none-any.whl.metadata (9.2 kB)\n",
            "Collecting datasets<4.0.0,>=3.3.2 (from proscenium==0.0.1.dev0)\n",
            "  Downloading datasets-3.4.1-py3-none-any.whl.metadata (19 kB)\n",
            "Requirement already satisfied: docstring_parser<0.17,>=0.16 in /usr/local/lib/python3.11/dist-packages (from proscenium==0.0.1.dev0) (0.16)\n",
            "Collecting eyecite<3.0.0,>=2.6.11 (from proscenium==0.0.1.dev0)\n",
            "  Downloading eyecite-2.6.11-py3-none-any.whl.metadata (22 kB)\n",
            "Collecting gofannon<0.26.0,>=0.25.11 (from proscenium==0.0.1.dev0)\n",
            "  Downloading gofannon-0.25.13-py3-none-any.whl.metadata (6.0 kB)\n",
            "Collecting langchain-community<0.4.0,>=0.3.18 (from proscenium==0.0.1.dev0)\n",
            "  Downloading langchain_community-0.3.20-py3-none-any.whl.metadata (2.4 kB)\n",
            "Collecting langchain-huggingface<0.2.0,>=0.1.2 (from proscenium==0.0.1.dev0)\n",
            "  Downloading langchain_huggingface-0.1.2-py3-none-any.whl.metadata (1.3 kB)\n",
            "Collecting neo4j<6.0.0,>=5.28.1 (from proscenium==0.0.1.dev0)\n",
            "  Downloading neo4j-5.28.1-py3-none-any.whl.metadata (5.9 kB)\n",
            "Requirement already satisfied: pydantic<3.0.0,>=2.10.6 in /usr/local/lib/python3.11/dist-packages (from proscenium==0.0.1.dev0) (2.10.6)\n",
            "Collecting pymilvus<3.0.0,>=2.5.4 (from pymilvus[model]<3.0.0,>=2.5.4->proscenium==0.0.1.dev0)\n",
            "  Downloading pymilvus-2.5.6-py3-none-any.whl.metadata (5.7 kB)\n",
            "Collecting python-dotenv<2.0.0,>=1.0.1 (from proscenium==0.0.1.dev0)\n",
            "  Downloading python_dotenv-1.1.0-py3-none-any.whl.metadata (24 kB)\n",
            "Requirement already satisfied: rich<14.0.0,>=13.9.4 in /usr/local/lib/python3.11/dist-packages (from proscenium==0.0.1.dev0) (13.9.4)\n",
            "Collecting stringcase<2.0.0,>=1.2.0 (from proscenium==0.0.1.dev0)\n",
            "  Downloading stringcase-1.2.0.tar.gz (3.0 kB)\n",
            "  Preparing metadata (setup.py) ... \u001b[?25l\u001b[?25hdone\n",
            "Collecting thespian<5.0.0,>=4.0.0 (from proscenium==0.0.1.dev0)\n",
            "  Downloading thespian-4.0.1.tar.gz (437 kB)\n",
            "\u001b[2K     \u001b[90m━━━━━━━━━━━━━━━━━━━━━━━━━━━━━━━━━━━━━━━━\u001b[0m \u001b[32m437.4/437.4 kB\u001b[0m \u001b[31m8.8 MB/s\u001b[0m eta \u001b[36m0:00:00\u001b[0m\n",
            "\u001b[?25h  Preparing metadata (setup.py) ... \u001b[?25l\u001b[?25hdone\n",
            "Collecting tiktoken<0.10.0,>=0.9.0 (from proscenium==0.0.1.dev0)\n",
            "  Downloading tiktoken-0.9.0-cp311-cp311-manylinux_2_17_x86_64.manylinux2014_x86_64.whl.metadata (6.7 kB)\n",
            "Requirement already satisfied: typer<0.16.0,>=0.15.2 in /usr/local/lib/python3.11/dist-packages (from proscenium==0.0.1.dev0) (0.15.2)\n",
            "Collecting httpx<0.28.0,>=0.27.0 (from aisuite<0.2.0,>=0.1.10->aisuite[anthropic,openai]<0.2.0,>=0.1.10->proscenium==0.0.1.dev0)\n",
            "  Downloading httpx-0.27.2-py3-none-any.whl.metadata (7.1 kB)\n",
            "Collecting anthropic<0.31.0,>=0.30.1 (from aisuite[anthropic,openai]<0.2.0,>=0.1.10->proscenium==0.0.1.dev0)\n",
            "  Downloading anthropic-0.30.1-py3-none-any.whl.metadata (18 kB)\n",
            "Requirement already satisfied: openai<2.0.0,>=1.35.8 in /usr/local/lib/python3.11/dist-packages (from aisuite[anthropic,openai]<0.2.0,>=0.1.10->proscenium==0.0.1.dev0) (1.68.2)\n",
            "Requirement already satisfied: filelock in /usr/local/lib/python3.11/dist-packages (from datasets<4.0.0,>=3.3.2->proscenium==0.0.1.dev0) (3.18.0)\n",
            "Requirement already satisfied: numpy>=1.17 in /usr/local/lib/python3.11/dist-packages (from datasets<4.0.0,>=3.3.2->proscenium==0.0.1.dev0) (2.0.2)\n",
            "Requirement already satisfied: pyarrow>=15.0.0 in /usr/local/lib/python3.11/dist-packages (from datasets<4.0.0,>=3.3.2->proscenium==0.0.1.dev0) (18.1.0)\n",
            "Collecting dill<0.3.9,>=0.3.0 (from datasets<4.0.0,>=3.3.2->proscenium==0.0.1.dev0)\n",
            "  Downloading dill-0.3.8-py3-none-any.whl.metadata (10 kB)\n",
            "Requirement already satisfied: pandas in /usr/local/lib/python3.11/dist-packages (from datasets<4.0.0,>=3.3.2->proscenium==0.0.1.dev0) (2.2.2)\n",
            "Requirement already satisfied: requests>=2.32.2 in /usr/local/lib/python3.11/dist-packages (from datasets<4.0.0,>=3.3.2->proscenium==0.0.1.dev0) (2.32.3)\n",
            "Requirement already satisfied: tqdm>=4.66.3 in /usr/local/lib/python3.11/dist-packages (from datasets<4.0.0,>=3.3.2->proscenium==0.0.1.dev0) (4.67.1)\n",
            "Collecting xxhash (from datasets<4.0.0,>=3.3.2->proscenium==0.0.1.dev0)\n",
            "  Downloading xxhash-3.5.0-cp311-cp311-manylinux_2_17_x86_64.manylinux2014_x86_64.whl.metadata (12 kB)\n",
            "Collecting multiprocess<0.70.17 (from datasets<4.0.0,>=3.3.2->proscenium==0.0.1.dev0)\n",
            "  Downloading multiprocess-0.70.16-py311-none-any.whl.metadata (7.2 kB)\n",
            "Collecting fsspec<=2024.12.0,>=2023.1.0 (from fsspec[http]<=2024.12.0,>=2023.1.0->datasets<4.0.0,>=3.3.2->proscenium==0.0.1.dev0)\n",
            "  Downloading fsspec-2024.12.0-py3-none-any.whl.metadata (11 kB)\n",
            "Requirement already satisfied: aiohttp in /usr/local/lib/python3.11/dist-packages (from datasets<4.0.0,>=3.3.2->proscenium==0.0.1.dev0) (3.11.14)\n",
            "Requirement already satisfied: huggingface-hub>=0.24.0 in /usr/local/lib/python3.11/dist-packages (from datasets<4.0.0,>=3.3.2->proscenium==0.0.1.dev0) (0.29.3)\n",
            "Requirement already satisfied: packaging in /usr/local/lib/python3.11/dist-packages (from datasets<4.0.0,>=3.3.2->proscenium==0.0.1.dev0) (24.2)\n",
            "Requirement already satisfied: pyyaml>=5.1 in /usr/local/lib/python3.11/dist-packages (from datasets<4.0.0,>=3.3.2->proscenium==0.0.1.dev0) (6.0.2)\n",
            "Collecting courts-db>=0.10.9 (from eyecite<3.0.0,>=2.6.11->proscenium==0.0.1.dev0)\n",
            "  Downloading courts_db-0.10.25-py2.py3-none-any.whl.metadata (6.5 kB)\n",
            "Collecting fast-diff-match-patch>=2.0.0 (from eyecite<3.0.0,>=2.6.11->proscenium==0.0.1.dev0)\n",
            "  Downloading fast_diff_match_patch-2.1.0-cp311-cp311-manylinux_2_17_x86_64.manylinux2014_x86_64.whl.metadata (5.2 kB)\n",
            "Requirement already satisfied: lxml>=4.6.3 in /usr/local/lib/python3.11/dist-packages (from eyecite<3.0.0,>=2.6.11->proscenium==0.0.1.dev0) (5.3.1)\n",
            "Collecting pyahocorasick>=1.2 (from eyecite<3.0.0,>=2.6.11->proscenium==0.0.1.dev0)\n",
            "  Downloading pyahocorasick-2.1.0-cp311-cp311-manylinux_2_17_x86_64.manylinux2014_x86_64.whl.metadata (13 kB)\n",
            "Requirement already satisfied: regex>=2020.1.8 in /usr/local/lib/python3.11/dist-packages (from eyecite<3.0.0,>=2.6.11->proscenium==0.0.1.dev0) (2024.11.6)\n",
            "Collecting reporters-db>=3.2.53 (from eyecite<3.0.0,>=2.6.11->proscenium==0.0.1.dev0)\n",
            "  Downloading reporters_db-3.2.54-py2.py3-none-any.whl.metadata (13 kB)\n",
            "Requirement already satisfied: GitPython<4.0.0,>=3.1.43 in /usr/local/lib/python3.11/dist-packages (from gofannon<0.26.0,>=0.25.11->proscenium==0.0.1.dev0) (3.1.44)\n",
            "Requirement already satisfied: jsonschema<5.0.0,>=4.23.0 in /usr/local/lib/python3.11/dist-packages (from gofannon<0.26.0,>=0.25.11->proscenium==0.0.1.dev0) (4.23.0)\n",
            "Collecting pygithub<3.0.0,>=2.6.1 (from gofannon<0.26.0,>=0.25.11->proscenium==0.0.1.dev0)\n",
            "  Downloading PyGithub-2.6.1-py3-none-any.whl.metadata (3.9 kB)\n",
            "Requirement already satisfied: langchain-core<1.0.0,>=0.3.45 in /usr/local/lib/python3.11/dist-packages (from langchain-community<0.4.0,>=0.3.18->proscenium==0.0.1.dev0) (0.3.47)\n",
            "Requirement already satisfied: langchain<1.0.0,>=0.3.21 in /usr/local/lib/python3.11/dist-packages (from langchain-community<0.4.0,>=0.3.18->proscenium==0.0.1.dev0) (0.3.21)\n",
            "Requirement already satisfied: SQLAlchemy<3,>=1.4 in /usr/local/lib/python3.11/dist-packages (from langchain-community<0.4.0,>=0.3.18->proscenium==0.0.1.dev0) (2.0.39)\n",
            "Requirement already satisfied: tenacity!=8.4.0,<10,>=8.1.0 in /usr/local/lib/python3.11/dist-packages (from langchain-community<0.4.0,>=0.3.18->proscenium==0.0.1.dev0) (9.0.0)\n",
            "Collecting dataclasses-json<0.7,>=0.5.7 (from langchain-community<0.4.0,>=0.3.18->proscenium==0.0.1.dev0)\n",
            "  Downloading dataclasses_json-0.6.7-py3-none-any.whl.metadata (25 kB)\n",
            "Collecting pydantic-settings<3.0.0,>=2.4.0 (from langchain-community<0.4.0,>=0.3.18->proscenium==0.0.1.dev0)\n",
            "  Downloading pydantic_settings-2.8.1-py3-none-any.whl.metadata (3.5 kB)\n",
            "Requirement already satisfied: langsmith<0.4,>=0.1.125 in /usr/local/lib/python3.11/dist-packages (from langchain-community<0.4.0,>=0.3.18->proscenium==0.0.1.dev0) (0.3.18)\n",
            "Collecting httpx-sse<1.0.0,>=0.4.0 (from langchain-community<0.4.0,>=0.3.18->proscenium==0.0.1.dev0)\n",
            "  Downloading httpx_sse-0.4.0-py3-none-any.whl.metadata (9.0 kB)\n",
            "Requirement already satisfied: sentence-transformers>=2.6.0 in /usr/local/lib/python3.11/dist-packages (from langchain-huggingface<0.2.0,>=0.1.2->proscenium==0.0.1.dev0) (3.4.1)\n",
            "Requirement already satisfied: tokenizers>=0.19.1 in /usr/local/lib/python3.11/dist-packages (from langchain-huggingface<0.2.0,>=0.1.2->proscenium==0.0.1.dev0) (0.21.1)\n",
            "Requirement already satisfied: transformers>=4.39.0 in /usr/local/lib/python3.11/dist-packages (from langchain-huggingface<0.2.0,>=0.1.2->proscenium==0.0.1.dev0) (4.50.0)\n",
            "Requirement already satisfied: pytz in /usr/local/lib/python3.11/dist-packages (from neo4j<6.0.0,>=5.28.1->proscenium==0.0.1.dev0) (2025.1)\n",
            "Requirement already satisfied: annotated-types>=0.6.0 in /usr/local/lib/python3.11/dist-packages (from pydantic<3.0.0,>=2.10.6->proscenium==0.0.1.dev0) (0.7.0)\n",
            "Requirement already satisfied: pydantic-core==2.27.2 in /usr/local/lib/python3.11/dist-packages (from pydantic<3.0.0,>=2.10.6->proscenium==0.0.1.dev0) (2.27.2)\n",
            "Requirement already satisfied: typing-extensions>=4.12.2 in /usr/local/lib/python3.11/dist-packages (from pydantic<3.0.0,>=2.10.6->proscenium==0.0.1.dev0) (4.12.2)\n",
            "Requirement already satisfied: setuptools>69 in /usr/local/lib/python3.11/dist-packages (from pymilvus<3.0.0,>=2.5.4->pymilvus[model]<3.0.0,>=2.5.4->proscenium==0.0.1.dev0) (75.1.0)\n",
            "Collecting grpcio<=1.67.1,>=1.49.1 (from pymilvus<3.0.0,>=2.5.4->pymilvus[model]<3.0.0,>=2.5.4->proscenium==0.0.1.dev0)\n",
            "  Downloading grpcio-1.67.1-cp311-cp311-manylinux_2_17_x86_64.manylinux2014_x86_64.whl.metadata (3.9 kB)\n",
            "Requirement already satisfied: protobuf>=3.20.0 in /usr/local/lib/python3.11/dist-packages (from pymilvus<3.0.0,>=2.5.4->pymilvus[model]<3.0.0,>=2.5.4->proscenium==0.0.1.dev0) (5.29.4)\n",
            "Collecting ujson>=2.0.0 (from pymilvus<3.0.0,>=2.5.4->pymilvus[model]<3.0.0,>=2.5.4->proscenium==0.0.1.dev0)\n",
            "  Downloading ujson-5.10.0-cp311-cp311-manylinux_2_17_x86_64.manylinux2014_x86_64.whl.metadata (9.3 kB)\n",
            "Collecting milvus-lite>=2.4.0 (from pymilvus<3.0.0,>=2.5.4->pymilvus[model]<3.0.0,>=2.5.4->proscenium==0.0.1.dev0)\n",
            "  Downloading milvus_lite-2.4.12-py3-none-manylinux2014_x86_64.whl.metadata (10.0 kB)\n",
            "Collecting pymilvus.model>=0.3.0 (from pymilvus[model]<3.0.0,>=2.5.4->proscenium==0.0.1.dev0)\n",
            "  Downloading pymilvus_model-0.3.1-py3-none-any.whl.metadata (2.0 kB)\n",
            "Requirement already satisfied: markdown-it-py>=2.2.0 in /usr/local/lib/python3.11/dist-packages (from rich<14.0.0,>=13.9.4->proscenium==0.0.1.dev0) (3.0.0)\n",
            "Requirement already satisfied: pygments<3.0.0,>=2.13.0 in /usr/local/lib/python3.11/dist-packages (from rich<14.0.0,>=13.9.4->proscenium==0.0.1.dev0) (2.18.0)\n",
            "Requirement already satisfied: click>=8.0.0 in /usr/local/lib/python3.11/dist-packages (from typer<0.16.0,>=0.15.2->proscenium==0.0.1.dev0) (8.1.8)\n",
            "Requirement already satisfied: shellingham>=1.3.0 in /usr/local/lib/python3.11/dist-packages (from typer<0.16.0,>=0.15.2->proscenium==0.0.1.dev0) (1.5.4)\n",
            "Requirement already satisfied: aiohappyeyeballs>=2.3.0 in /usr/local/lib/python3.11/dist-packages (from aiohttp->datasets<4.0.0,>=3.3.2->proscenium==0.0.1.dev0) (2.6.1)\n",
            "Requirement already satisfied: aiosignal>=1.1.2 in /usr/local/lib/python3.11/dist-packages (from aiohttp->datasets<4.0.0,>=3.3.2->proscenium==0.0.1.dev0) (1.3.2)\n",
            "Requirement already satisfied: attrs>=17.3.0 in /usr/local/lib/python3.11/dist-packages (from aiohttp->datasets<4.0.0,>=3.3.2->proscenium==0.0.1.dev0) (25.3.0)\n",
            "Requirement already satisfied: frozenlist>=1.1.1 in /usr/local/lib/python3.11/dist-packages (from aiohttp->datasets<4.0.0,>=3.3.2->proscenium==0.0.1.dev0) (1.5.0)\n",
            "Requirement already satisfied: multidict<7.0,>=4.5 in /usr/local/lib/python3.11/dist-packages (from aiohttp->datasets<4.0.0,>=3.3.2->proscenium==0.0.1.dev0) (6.2.0)\n",
            "Requirement already satisfied: propcache>=0.2.0 in /usr/local/lib/python3.11/dist-packages (from aiohttp->datasets<4.0.0,>=3.3.2->proscenium==0.0.1.dev0) (0.3.0)\n",
            "Requirement already satisfied: yarl<2.0,>=1.17.0 in /usr/local/lib/python3.11/dist-packages (from aiohttp->datasets<4.0.0,>=3.3.2->proscenium==0.0.1.dev0) (1.18.3)\n",
            "Requirement already satisfied: anyio<5,>=3.5.0 in /usr/local/lib/python3.11/dist-packages (from anthropic<0.31.0,>=0.30.1->aisuite[anthropic,openai]<0.2.0,>=0.1.10->proscenium==0.0.1.dev0) (4.9.0)\n",
            "Requirement already satisfied: distro<2,>=1.7.0 in /usr/local/lib/python3.11/dist-packages (from anthropic<0.31.0,>=0.30.1->aisuite[anthropic,openai]<0.2.0,>=0.1.10->proscenium==0.0.1.dev0) (1.9.0)\n",
            "Requirement already satisfied: jiter<1,>=0.4.0 in /usr/local/lib/python3.11/dist-packages (from anthropic<0.31.0,>=0.30.1->aisuite[anthropic,openai]<0.2.0,>=0.1.10->proscenium==0.0.1.dev0) (0.9.0)\n",
            "Requirement already satisfied: sniffio in /usr/local/lib/python3.11/dist-packages (from anthropic<0.31.0,>=0.30.1->aisuite[anthropic,openai]<0.2.0,>=0.1.10->proscenium==0.0.1.dev0) (1.3.1)\n",
            "Collecting marshmallow<4.0.0,>=3.18.0 (from dataclasses-json<0.7,>=0.5.7->langchain-community<0.4.0,>=0.3.18->proscenium==0.0.1.dev0)\n",
            "  Downloading marshmallow-3.26.1-py3-none-any.whl.metadata (7.3 kB)\n",
            "Collecting typing-inspect<1,>=0.4.0 (from dataclasses-json<0.7,>=0.5.7->langchain-community<0.4.0,>=0.3.18->proscenium==0.0.1.dev0)\n",
            "  Downloading typing_inspect-0.9.0-py3-none-any.whl.metadata (1.5 kB)\n",
            "Requirement already satisfied: gitdb<5,>=4.0.1 in /usr/local/lib/python3.11/dist-packages (from GitPython<4.0.0,>=3.1.43->gofannon<0.26.0,>=0.25.11->proscenium==0.0.1.dev0) (4.0.12)\n",
            "Requirement already satisfied: certifi in /usr/local/lib/python3.11/dist-packages (from httpx<0.28.0,>=0.27.0->aisuite<0.2.0,>=0.1.10->aisuite[anthropic,openai]<0.2.0,>=0.1.10->proscenium==0.0.1.dev0) (2025.1.31)\n",
            "Requirement already satisfied: httpcore==1.* in /usr/local/lib/python3.11/dist-packages (from httpx<0.28.0,>=0.27.0->aisuite<0.2.0,>=0.1.10->aisuite[anthropic,openai]<0.2.0,>=0.1.10->proscenium==0.0.1.dev0) (1.0.7)\n",
            "Requirement already satisfied: idna in /usr/local/lib/python3.11/dist-packages (from httpx<0.28.0,>=0.27.0->aisuite<0.2.0,>=0.1.10->aisuite[anthropic,openai]<0.2.0,>=0.1.10->proscenium==0.0.1.dev0) (3.10)\n",
            "Requirement already satisfied: h11<0.15,>=0.13 in /usr/local/lib/python3.11/dist-packages (from httpcore==1.*->httpx<0.28.0,>=0.27.0->aisuite<0.2.0,>=0.1.10->aisuite[anthropic,openai]<0.2.0,>=0.1.10->proscenium==0.0.1.dev0) (0.14.0)\n",
            "Requirement already satisfied: jsonschema-specifications>=2023.03.6 in /usr/local/lib/python3.11/dist-packages (from jsonschema<5.0.0,>=4.23.0->gofannon<0.26.0,>=0.25.11->proscenium==0.0.1.dev0) (2024.10.1)\n",
            "Requirement already satisfied: referencing>=0.28.4 in /usr/local/lib/python3.11/dist-packages (from jsonschema<5.0.0,>=4.23.0->gofannon<0.26.0,>=0.25.11->proscenium==0.0.1.dev0) (0.36.2)\n",
            "Requirement already satisfied: rpds-py>=0.7.1 in /usr/local/lib/python3.11/dist-packages (from jsonschema<5.0.0,>=4.23.0->gofannon<0.26.0,>=0.25.11->proscenium==0.0.1.dev0) (0.23.1)\n",
            "Requirement already satisfied: langchain-text-splitters<1.0.0,>=0.3.7 in /usr/local/lib/python3.11/dist-packages (from langchain<1.0.0,>=0.3.21->langchain-community<0.4.0,>=0.3.18->proscenium==0.0.1.dev0) (0.3.7)\n",
            "Requirement already satisfied: jsonpatch<2.0,>=1.33 in /usr/local/lib/python3.11/dist-packages (from langchain-core<1.0.0,>=0.3.45->langchain-community<0.4.0,>=0.3.18->proscenium==0.0.1.dev0) (1.33)\n",
            "Requirement already satisfied: orjson<4.0.0,>=3.9.14 in /usr/local/lib/python3.11/dist-packages (from langsmith<0.4,>=0.1.125->langchain-community<0.4.0,>=0.3.18->proscenium==0.0.1.dev0) (3.10.15)\n",
            "Requirement already satisfied: requests-toolbelt<2.0.0,>=1.0.0 in /usr/local/lib/python3.11/dist-packages (from langsmith<0.4,>=0.1.125->langchain-community<0.4.0,>=0.3.18->proscenium==0.0.1.dev0) (1.0.0)\n",
            "Requirement already satisfied: zstandard<0.24.0,>=0.23.0 in /usr/local/lib/python3.11/dist-packages (from langsmith<0.4,>=0.1.125->langchain-community<0.4.0,>=0.3.18->proscenium==0.0.1.dev0) (0.23.0)\n",
            "Requirement already satisfied: mdurl~=0.1 in /usr/local/lib/python3.11/dist-packages (from markdown-it-py>=2.2.0->rich<14.0.0,>=13.9.4->proscenium==0.0.1.dev0) (0.1.2)\n",
            "Requirement already satisfied: python-dateutil>=2.8.2 in /usr/local/lib/python3.11/dist-packages (from pandas->datasets<4.0.0,>=3.3.2->proscenium==0.0.1.dev0) (2.8.2)\n",
            "Requirement already satisfied: tzdata>=2022.7 in /usr/local/lib/python3.11/dist-packages (from pandas->datasets<4.0.0,>=3.3.2->proscenium==0.0.1.dev0) (2025.1)\n",
            "Collecting pynacl>=1.4.0 (from pygithub<3.0.0,>=2.6.1->gofannon<0.26.0,>=0.25.11->proscenium==0.0.1.dev0)\n",
            "  Downloading PyNaCl-1.5.0-cp36-abi3-manylinux_2_17_x86_64.manylinux2014_x86_64.manylinux_2_24_x86_64.whl.metadata (8.6 kB)\n",
            "Requirement already satisfied: pyjwt>=2.4.0 in /usr/local/lib/python3.11/dist-packages (from pyjwt[crypto]>=2.4.0->pygithub<3.0.0,>=2.6.1->gofannon<0.26.0,>=0.25.11->proscenium==0.0.1.dev0) (2.10.1)\n",
            "Requirement already satisfied: urllib3>=1.26.0 in /usr/local/lib/python3.11/dist-packages (from pygithub<3.0.0,>=2.6.1->gofannon<0.26.0,>=0.25.11->proscenium==0.0.1.dev0) (2.3.0)\n",
            "Requirement already satisfied: Deprecated in /usr/local/lib/python3.11/dist-packages (from pygithub<3.0.0,>=2.6.1->gofannon<0.26.0,>=0.25.11->proscenium==0.0.1.dev0) (1.2.18)\n",
            "Collecting onnxruntime (from pymilvus.model>=0.3.0->pymilvus[model]<3.0.0,>=2.5.4->proscenium==0.0.1.dev0)\n",
            "  Downloading onnxruntime-1.21.0-cp311-cp311-manylinux_2_27_x86_64.manylinux_2_28_x86_64.whl.metadata (4.5 kB)\n",
            "Requirement already satisfied: scipy>=1.10.0 in /usr/local/lib/python3.11/dist-packages (from pymilvus.model>=0.3.0->pymilvus[model]<3.0.0,>=2.5.4->proscenium==0.0.1.dev0) (1.14.1)\n",
            "Requirement already satisfied: six>=1.0.0 in /usr/local/lib/python3.11/dist-packages (from reporters-db>=3.2.53->eyecite<3.0.0,>=2.6.11->proscenium==0.0.1.dev0) (1.17.0)\n",
            "Requirement already satisfied: charset-normalizer<4,>=2 in /usr/local/lib/python3.11/dist-packages (from requests>=2.32.2->datasets<4.0.0,>=3.3.2->proscenium==0.0.1.dev0) (3.4.1)\n",
            "Requirement already satisfied: torch>=1.11.0 in /usr/local/lib/python3.11/dist-packages (from sentence-transformers>=2.6.0->langchain-huggingface<0.2.0,>=0.1.2->proscenium==0.0.1.dev0) (2.6.0+cu124)\n",
            "Requirement already satisfied: scikit-learn in /usr/local/lib/python3.11/dist-packages (from sentence-transformers>=2.6.0->langchain-huggingface<0.2.0,>=0.1.2->proscenium==0.0.1.dev0) (1.6.1)\n",
            "Requirement already satisfied: Pillow in /usr/local/lib/python3.11/dist-packages (from sentence-transformers>=2.6.0->langchain-huggingface<0.2.0,>=0.1.2->proscenium==0.0.1.dev0) (11.1.0)\n",
            "Requirement already satisfied: greenlet!=0.4.17 in /usr/local/lib/python3.11/dist-packages (from SQLAlchemy<3,>=1.4->langchain-community<0.4.0,>=0.3.18->proscenium==0.0.1.dev0) (3.1.1)\n",
            "Requirement already satisfied: safetensors>=0.4.3 in /usr/local/lib/python3.11/dist-packages (from transformers>=4.39.0->langchain-huggingface<0.2.0,>=0.1.2->proscenium==0.0.1.dev0) (0.5.3)\n",
            "Requirement already satisfied: smmap<6,>=3.0.1 in /usr/local/lib/python3.11/dist-packages (from gitdb<5,>=4.0.1->GitPython<4.0.0,>=3.1.43->gofannon<0.26.0,>=0.25.11->proscenium==0.0.1.dev0) (5.0.2)\n",
            "Requirement already satisfied: jsonpointer>=1.9 in /usr/local/lib/python3.11/dist-packages (from jsonpatch<2.0,>=1.33->langchain-core<1.0.0,>=0.3.45->langchain-community<0.4.0,>=0.3.18->proscenium==0.0.1.dev0) (3.0.0)\n",
            "Requirement already satisfied: cryptography>=3.4.0 in /usr/local/lib/python3.11/dist-packages (from pyjwt[crypto]>=2.4.0->pygithub<3.0.0,>=2.6.1->gofannon<0.26.0,>=0.25.11->proscenium==0.0.1.dev0) (43.0.3)\n",
            "Requirement already satisfied: cffi>=1.4.1 in /usr/local/lib/python3.11/dist-packages (from pynacl>=1.4.0->pygithub<3.0.0,>=2.6.1->gofannon<0.26.0,>=0.25.11->proscenium==0.0.1.dev0) (1.17.1)\n",
            "Requirement already satisfied: networkx in /usr/local/lib/python3.11/dist-packages (from torch>=1.11.0->sentence-transformers>=2.6.0->langchain-huggingface<0.2.0,>=0.1.2->proscenium==0.0.1.dev0) (3.4.2)\n",
            "Requirement already satisfied: jinja2 in /usr/local/lib/python3.11/dist-packages (from torch>=1.11.0->sentence-transformers>=2.6.0->langchain-huggingface<0.2.0,>=0.1.2->proscenium==0.0.1.dev0) (3.1.6)\n",
            "Collecting nvidia-cuda-nvrtc-cu12==12.4.127 (from torch>=1.11.0->sentence-transformers>=2.6.0->langchain-huggingface<0.2.0,>=0.1.2->proscenium==0.0.1.dev0)\n",
            "  Downloading nvidia_cuda_nvrtc_cu12-12.4.127-py3-none-manylinux2014_x86_64.whl.metadata (1.5 kB)\n",
            "Collecting nvidia-cuda-runtime-cu12==12.4.127 (from torch>=1.11.0->sentence-transformers>=2.6.0->langchain-huggingface<0.2.0,>=0.1.2->proscenium==0.0.1.dev0)\n",
            "  Downloading nvidia_cuda_runtime_cu12-12.4.127-py3-none-manylinux2014_x86_64.whl.metadata (1.5 kB)\n",
            "Collecting nvidia-cuda-cupti-cu12==12.4.127 (from torch>=1.11.0->sentence-transformers>=2.6.0->langchain-huggingface<0.2.0,>=0.1.2->proscenium==0.0.1.dev0)\n",
            "  Downloading nvidia_cuda_cupti_cu12-12.4.127-py3-none-manylinux2014_x86_64.whl.metadata (1.6 kB)\n",
            "Collecting nvidia-cudnn-cu12==9.1.0.70 (from torch>=1.11.0->sentence-transformers>=2.6.0->langchain-huggingface<0.2.0,>=0.1.2->proscenium==0.0.1.dev0)\n",
            "  Downloading nvidia_cudnn_cu12-9.1.0.70-py3-none-manylinux2014_x86_64.whl.metadata (1.6 kB)\n",
            "Collecting nvidia-cublas-cu12==12.4.5.8 (from torch>=1.11.0->sentence-transformers>=2.6.0->langchain-huggingface<0.2.0,>=0.1.2->proscenium==0.0.1.dev0)\n",
            "  Downloading nvidia_cublas_cu12-12.4.5.8-py3-none-manylinux2014_x86_64.whl.metadata (1.5 kB)\n",
            "Collecting nvidia-cufft-cu12==11.2.1.3 (from torch>=1.11.0->sentence-transformers>=2.6.0->langchain-huggingface<0.2.0,>=0.1.2->proscenium==0.0.1.dev0)\n",
            "  Downloading nvidia_cufft_cu12-11.2.1.3-py3-none-manylinux2014_x86_64.whl.metadata (1.5 kB)\n",
            "Collecting nvidia-curand-cu12==10.3.5.147 (from torch>=1.11.0->sentence-transformers>=2.6.0->langchain-huggingface<0.2.0,>=0.1.2->proscenium==0.0.1.dev0)\n",
            "  Downloading nvidia_curand_cu12-10.3.5.147-py3-none-manylinux2014_x86_64.whl.metadata (1.5 kB)\n",
            "Collecting nvidia-cusolver-cu12==11.6.1.9 (from torch>=1.11.0->sentence-transformers>=2.6.0->langchain-huggingface<0.2.0,>=0.1.2->proscenium==0.0.1.dev0)\n",
            "  Downloading nvidia_cusolver_cu12-11.6.1.9-py3-none-manylinux2014_x86_64.whl.metadata (1.6 kB)\n",
            "Collecting nvidia-cusparse-cu12==12.3.1.170 (from torch>=1.11.0->sentence-transformers>=2.6.0->langchain-huggingface<0.2.0,>=0.1.2->proscenium==0.0.1.dev0)\n",
            "  Downloading nvidia_cusparse_cu12-12.3.1.170-py3-none-manylinux2014_x86_64.whl.metadata (1.6 kB)\n",
            "Requirement already satisfied: nvidia-cusparselt-cu12==0.6.2 in /usr/local/lib/python3.11/dist-packages (from torch>=1.11.0->sentence-transformers>=2.6.0->langchain-huggingface<0.2.0,>=0.1.2->proscenium==0.0.1.dev0) (0.6.2)\n",
            "Requirement already satisfied: nvidia-nccl-cu12==2.21.5 in /usr/local/lib/python3.11/dist-packages (from torch>=1.11.0->sentence-transformers>=2.6.0->langchain-huggingface<0.2.0,>=0.1.2->proscenium==0.0.1.dev0) (2.21.5)\n",
            "Requirement already satisfied: nvidia-nvtx-cu12==12.4.127 in /usr/local/lib/python3.11/dist-packages (from torch>=1.11.0->sentence-transformers>=2.6.0->langchain-huggingface<0.2.0,>=0.1.2->proscenium==0.0.1.dev0) (12.4.127)\n",
            "Collecting nvidia-nvjitlink-cu12==12.4.127 (from torch>=1.11.0->sentence-transformers>=2.6.0->langchain-huggingface<0.2.0,>=0.1.2->proscenium==0.0.1.dev0)\n",
            "  Downloading nvidia_nvjitlink_cu12-12.4.127-py3-none-manylinux2014_x86_64.whl.metadata (1.5 kB)\n",
            "Requirement already satisfied: triton==3.2.0 in /usr/local/lib/python3.11/dist-packages (from torch>=1.11.0->sentence-transformers>=2.6.0->langchain-huggingface<0.2.0,>=0.1.2->proscenium==0.0.1.dev0) (3.2.0)\n",
            "Requirement already satisfied: sympy==1.13.1 in /usr/local/lib/python3.11/dist-packages (from torch>=1.11.0->sentence-transformers>=2.6.0->langchain-huggingface<0.2.0,>=0.1.2->proscenium==0.0.1.dev0) (1.13.1)\n",
            "Requirement already satisfied: mpmath<1.4,>=1.1.0 in /usr/local/lib/python3.11/dist-packages (from sympy==1.13.1->torch>=1.11.0->sentence-transformers>=2.6.0->langchain-huggingface<0.2.0,>=0.1.2->proscenium==0.0.1.dev0) (1.3.0)\n",
            "Collecting mypy-extensions>=0.3.0 (from typing-inspect<1,>=0.4.0->dataclasses-json<0.7,>=0.5.7->langchain-community<0.4.0,>=0.3.18->proscenium==0.0.1.dev0)\n",
            "  Downloading mypy_extensions-1.0.0-py3-none-any.whl.metadata (1.1 kB)\n",
            "Requirement already satisfied: wrapt<2,>=1.10 in /usr/local/lib/python3.11/dist-packages (from Deprecated->pygithub<3.0.0,>=2.6.1->gofannon<0.26.0,>=0.25.11->proscenium==0.0.1.dev0) (1.17.2)\n",
            "Collecting coloredlogs (from onnxruntime->pymilvus.model>=0.3.0->pymilvus[model]<3.0.0,>=2.5.4->proscenium==0.0.1.dev0)\n",
            "  Downloading coloredlogs-15.0.1-py2.py3-none-any.whl.metadata (12 kB)\n",
            "Requirement already satisfied: flatbuffers in /usr/local/lib/python3.11/dist-packages (from onnxruntime->pymilvus.model>=0.3.0->pymilvus[model]<3.0.0,>=2.5.4->proscenium==0.0.1.dev0) (25.2.10)\n",
            "Requirement already satisfied: joblib>=1.2.0 in /usr/local/lib/python3.11/dist-packages (from scikit-learn->sentence-transformers>=2.6.0->langchain-huggingface<0.2.0,>=0.1.2->proscenium==0.0.1.dev0) (1.4.2)\n",
            "Requirement already satisfied: threadpoolctl>=3.1.0 in /usr/local/lib/python3.11/dist-packages (from scikit-learn->sentence-transformers>=2.6.0->langchain-huggingface<0.2.0,>=0.1.2->proscenium==0.0.1.dev0) (3.6.0)\n",
            "Requirement already satisfied: pycparser in /usr/local/lib/python3.11/dist-packages (from cffi>=1.4.1->pynacl>=1.4.0->pygithub<3.0.0,>=2.6.1->gofannon<0.26.0,>=0.25.11->proscenium==0.0.1.dev0) (2.22)\n",
            "Collecting humanfriendly>=9.1 (from coloredlogs->onnxruntime->pymilvus.model>=0.3.0->pymilvus[model]<3.0.0,>=2.5.4->proscenium==0.0.1.dev0)\n",
            "  Downloading humanfriendly-10.0-py2.py3-none-any.whl.metadata (9.2 kB)\n",
            "Requirement already satisfied: MarkupSafe>=2.0 in /usr/local/lib/python3.11/dist-packages (from jinja2->torch>=1.11.0->sentence-transformers>=2.6.0->langchain-huggingface<0.2.0,>=0.1.2->proscenium==0.0.1.dev0) (3.0.2)\n",
            "Downloading aisuite-0.1.10-py3-none-any.whl (43 kB)\n",
            "\u001b[2K   \u001b[90m━━━━━━━━━━━━━━━━━━━━━━━━━━━━━━━━━━━━━━━━\u001b[0m \u001b[32m44.0/44.0 kB\u001b[0m \u001b[31m3.1 MB/s\u001b[0m eta \u001b[36m0:00:00\u001b[0m\n",
            "\u001b[?25hDownloading datasets-3.4.1-py3-none-any.whl (487 kB)\n",
            "\u001b[2K   \u001b[90m━━━━━━━━━━━━━━━━━━━━━━━━━━━━━━━━━━━━━━━━\u001b[0m \u001b[32m487.4/487.4 kB\u001b[0m \u001b[31m28.0 MB/s\u001b[0m eta \u001b[36m0:00:00\u001b[0m\n",
            "\u001b[?25hDownloading eyecite-2.6.11-py3-none-any.whl (47 kB)\n",
            "\u001b[2K   \u001b[90m━━━━━━━━━━━━━━━━━━━━━━━━━━━━━━━━━━━━━━━━\u001b[0m \u001b[32m48.0/48.0 kB\u001b[0m \u001b[31m3.0 MB/s\u001b[0m eta \u001b[36m0:00:00\u001b[0m\n",
            "\u001b[?25hDownloading gofannon-0.25.13-py3-none-any.whl (46 kB)\n",
            "\u001b[2K   \u001b[90m━━━━━━━━━━━━━━━━━━━━━━━━━━━━━━━━━━━━━━━━\u001b[0m \u001b[32m46.4/46.4 kB\u001b[0m \u001b[31m3.0 MB/s\u001b[0m eta \u001b[36m0:00:00\u001b[0m\n",
            "\u001b[?25hDownloading langchain_community-0.3.20-py3-none-any.whl (2.5 MB)\n",
            "\u001b[2K   \u001b[90m━━━━━━━━━━━━━━━━━━━━━━━━━━━━━━━━━━━━━━━━\u001b[0m \u001b[32m2.5/2.5 MB\u001b[0m \u001b[31m29.5 MB/s\u001b[0m eta \u001b[36m0:00:00\u001b[0m\n",
            "\u001b[?25hDownloading langchain_huggingface-0.1.2-py3-none-any.whl (21 kB)\n",
            "Downloading neo4j-5.28.1-py3-none-any.whl (312 kB)\n",
            "\u001b[2K   \u001b[90m━━━━━━━━━━━━━━━━━━━━━━━━━━━━━━━━━━━━━━━━\u001b[0m \u001b[32m312.3/312.3 kB\u001b[0m \u001b[31m19.7 MB/s\u001b[0m eta \u001b[36m0:00:00\u001b[0m\n",
            "\u001b[?25hDownloading pymilvus-2.5.6-py3-none-any.whl (223 kB)\n",
            "\u001b[2K   \u001b[90m━━━━━━━━━━━━━━━━━━━━━━━━━━━━━━━━━━━━━━━━\u001b[0m \u001b[32m223.4/223.4 kB\u001b[0m \u001b[31m15.0 MB/s\u001b[0m eta \u001b[36m0:00:00\u001b[0m\n",
            "\u001b[?25hDownloading python_dotenv-1.1.0-py3-none-any.whl (20 kB)\n",
            "Downloading tiktoken-0.9.0-cp311-cp311-manylinux_2_17_x86_64.manylinux2014_x86_64.whl (1.2 MB)\n",
            "\u001b[2K   \u001b[90m━━━━━━━━━━━━━━━━━━━━━━━━━━━━━━━━━━━━━━━━\u001b[0m \u001b[32m1.2/1.2 MB\u001b[0m \u001b[31m42.7 MB/s\u001b[0m eta \u001b[36m0:00:00\u001b[0m\n",
            "\u001b[?25hDownloading anthropic-0.30.1-py3-none-any.whl (863 kB)\n",
            "\u001b[2K   \u001b[90m━━━━━━━━━━━━━━━━━━━━━━━━━━━━━━━━━━━━━━━━\u001b[0m \u001b[32m863.9/863.9 kB\u001b[0m \u001b[31m38.1 MB/s\u001b[0m eta \u001b[36m0:00:00\u001b[0m\n",
            "\u001b[?25hDownloading courts_db-0.10.25-py2.py3-none-any.whl (148 kB)\n",
            "\u001b[2K   \u001b[90m━━━━━━━━━━━━━━━━━━━━━━━━━━━━━━━━━━━━━━━━\u001b[0m \u001b[32m148.2/148.2 kB\u001b[0m \u001b[31m9.4 MB/s\u001b[0m eta \u001b[36m0:00:00\u001b[0m\n",
            "\u001b[?25hDownloading dataclasses_json-0.6.7-py3-none-any.whl (28 kB)\n",
            "Downloading dill-0.3.8-py3-none-any.whl (116 kB)\n",
            "\u001b[2K   \u001b[90m━━━━━━━━━━━━━━━━━━━━━━━━━━━━━━━━━━━━━━━━\u001b[0m \u001b[32m116.3/116.3 kB\u001b[0m \u001b[31m8.7 MB/s\u001b[0m eta \u001b[36m0:00:00\u001b[0m\n",
            "\u001b[?25hDownloading fast_diff_match_patch-2.1.0-cp311-cp311-manylinux_2_17_x86_64.manylinux2014_x86_64.whl (855 kB)\n",
            "\u001b[2K   \u001b[90m━━━━━━━━━━━━━━━━━━━━━━━━━━━━━━━━━━━━━━━━\u001b[0m \u001b[32m855.0/855.0 kB\u001b[0m \u001b[31m40.5 MB/s\u001b[0m eta \u001b[36m0:00:00\u001b[0m\n",
            "\u001b[?25hDownloading fsspec-2024.12.0-py3-none-any.whl (183 kB)\n",
            "\u001b[2K   \u001b[90m━━━━━━━━━━━━━━━━━━━━━━━━━━━━━━━━━━━━━━━━\u001b[0m \u001b[32m183.9/183.9 kB\u001b[0m \u001b[31m12.8 MB/s\u001b[0m eta \u001b[36m0:00:00\u001b[0m\n",
            "\u001b[?25hDownloading grpcio-1.67.1-cp311-cp311-manylinux_2_17_x86_64.manylinux2014_x86_64.whl (5.9 MB)\n",
            "\u001b[2K   \u001b[90m━━━━━━━━━━━━━━━━━━━━━━━━━━━━━━━━━━━━━━━━\u001b[0m \u001b[32m5.9/5.9 MB\u001b[0m \u001b[31m87.5 MB/s\u001b[0m eta \u001b[36m0:00:00\u001b[0m\n",
            "\u001b[?25hDownloading httpx-0.27.2-py3-none-any.whl (76 kB)\n",
            "\u001b[2K   \u001b[90m━━━━━━━━━━━━━━━━━━━━━━━━━━━━━━━━━━━━━━━━\u001b[0m \u001b[32m76.4/76.4 kB\u001b[0m \u001b[31m6.1 MB/s\u001b[0m eta \u001b[36m0:00:00\u001b[0m\n",
            "\u001b[?25hDownloading httpx_sse-0.4.0-py3-none-any.whl (7.8 kB)\n",
            "Downloading milvus_lite-2.4.12-py3-none-manylinux2014_x86_64.whl (45.2 MB)\n",
            "\u001b[2K   \u001b[90m━━━━━━━━━━━━━━━━━━━━━━━━━━━━━━━━━━━━━━━━\u001b[0m \u001b[32m45.2/45.2 MB\u001b[0m \u001b[31m15.2 MB/s\u001b[0m eta \u001b[36m0:00:00\u001b[0m\n",
            "\u001b[?25hDownloading multiprocess-0.70.16-py311-none-any.whl (143 kB)\n",
            "\u001b[2K   \u001b[90m━━━━━━━━━━━━━━━━━━━━━━━━━━━━━━━━━━━━━━━━\u001b[0m \u001b[32m143.5/143.5 kB\u001b[0m \u001b[31m11.2 MB/s\u001b[0m eta \u001b[36m0:00:00\u001b[0m\n",
            "\u001b[?25hDownloading pyahocorasick-2.1.0-cp311-cp311-manylinux_2_17_x86_64.manylinux2014_x86_64.whl (118 kB)\n",
            "\u001b[2K   \u001b[90m━━━━━━━━━━━━━━━━━━━━━━━━━━━━━━━━━━━━━━━━\u001b[0m \u001b[32m118.3/118.3 kB\u001b[0m \u001b[31m8.9 MB/s\u001b[0m eta \u001b[36m0:00:00\u001b[0m\n",
            "\u001b[?25hDownloading pydantic_settings-2.8.1-py3-none-any.whl (30 kB)\n",
            "Downloading PyGithub-2.6.1-py3-none-any.whl (410 kB)\n",
            "\u001b[2K   \u001b[90m━━━━━━━━━━━━━━━━━━━━━━━━━━━━━━━━━━━━━━━━\u001b[0m \u001b[32m410.5/410.5 kB\u001b[0m \u001b[31m27.5 MB/s\u001b[0m eta \u001b[36m0:00:00\u001b[0m\n",
            "\u001b[?25hDownloading pymilvus_model-0.3.1-py3-none-any.whl (46 kB)\n",
            "\u001b[2K   \u001b[90m━━━━━━━━━━━━━━━━━━━━━━━━━━━━━━━━━━━━━━━━\u001b[0m \u001b[32m46.7/46.7 kB\u001b[0m \u001b[31m2.9 MB/s\u001b[0m eta \u001b[36m0:00:00\u001b[0m\n",
            "\u001b[?25hDownloading reporters_db-3.2.54-py2.py3-none-any.whl (171 kB)\n",
            "\u001b[2K   \u001b[90m━━━━━━━━━━━━━━━━━━━━━━━━━━━━━━━━━━━━━━━━\u001b[0m \u001b[32m171.3/171.3 kB\u001b[0m \u001b[31m13.7 MB/s\u001b[0m eta \u001b[36m0:00:00\u001b[0m\n",
            "\u001b[?25hDownloading ujson-5.10.0-cp311-cp311-manylinux_2_17_x86_64.manylinux2014_x86_64.whl (53 kB)\n",
            "\u001b[2K   \u001b[90m━━━━━━━━━━━━━━━━━━━━━━━━━━━━━━━━━━━━━━━━\u001b[0m \u001b[32m53.6/53.6 kB\u001b[0m \u001b[31m3.6 MB/s\u001b[0m eta \u001b[36m0:00:00\u001b[0m\n",
            "\u001b[?25hDownloading xxhash-3.5.0-cp311-cp311-manylinux_2_17_x86_64.manylinux2014_x86_64.whl (194 kB)\n",
            "\u001b[2K   \u001b[90m━━━━━━━━━━━━━━━━━━━━━━━━━━━━━━━━━━━━━━━━\u001b[0m \u001b[32m194.8/194.8 kB\u001b[0m \u001b[31m13.4 MB/s\u001b[0m eta \u001b[36m0:00:00\u001b[0m\n",
            "\u001b[?25hDownloading marshmallow-3.26.1-py3-none-any.whl (50 kB)\n",
            "\u001b[2K   \u001b[90m━━━━━━━━━━━━━━━━━━━━━━━━━━━━━━━━━━━━━━━━\u001b[0m \u001b[32m50.9/50.9 kB\u001b[0m \u001b[31m3.4 MB/s\u001b[0m eta \u001b[36m0:00:00\u001b[0m\n",
            "\u001b[?25hDownloading PyNaCl-1.5.0-cp36-abi3-manylinux_2_17_x86_64.manylinux2014_x86_64.manylinux_2_24_x86_64.whl (856 kB)\n",
            "\u001b[2K   \u001b[90m━━━━━━━━━━━━━━━━━━━━━━━━━━━━━━━━━━━━━━━━\u001b[0m \u001b[32m856.7/856.7 kB\u001b[0m \u001b[31m44.9 MB/s\u001b[0m eta \u001b[36m0:00:00\u001b[0m\n",
            "\u001b[?25hDownloading nvidia_cublas_cu12-12.4.5.8-py3-none-manylinux2014_x86_64.whl (363.4 MB)\n",
            "\u001b[2K   \u001b[90m━━━━━━━━━━━━━━━━━━━━━━━━━━━━━━━━━━━━━━━━\u001b[0m \u001b[32m363.4/363.4 MB\u001b[0m \u001b[31m1.9 MB/s\u001b[0m eta \u001b[36m0:00:00\u001b[0m\n",
            "\u001b[?25hDownloading nvidia_cuda_cupti_cu12-12.4.127-py3-none-manylinux2014_x86_64.whl (13.8 MB)\n",
            "\u001b[2K   \u001b[90m━━━━━━━━━━━━━━━━━━━━━━━━━━━━━━━━━━━━━━━━\u001b[0m \u001b[32m13.8/13.8 MB\u001b[0m \u001b[31m89.7 MB/s\u001b[0m eta \u001b[36m0:00:00\u001b[0m\n",
            "\u001b[?25hDownloading nvidia_cuda_nvrtc_cu12-12.4.127-py3-none-manylinux2014_x86_64.whl (24.6 MB)\n",
            "\u001b[2K   \u001b[90m━━━━━━━━━━━━━━━━━━━━━━━━━━━━━━━━━━━━━━━━\u001b[0m \u001b[32m24.6/24.6 MB\u001b[0m \u001b[31m72.0 MB/s\u001b[0m eta \u001b[36m0:00:00\u001b[0m\n",
            "\u001b[?25hDownloading nvidia_cuda_runtime_cu12-12.4.127-py3-none-manylinux2014_x86_64.whl (883 kB)\n",
            "\u001b[2K   \u001b[90m━━━━━━━━━━━━━━━━━━━━━━━━━━━━━━━━━━━━━━━━\u001b[0m \u001b[32m883.7/883.7 kB\u001b[0m \u001b[31m49.9 MB/s\u001b[0m eta \u001b[36m0:00:00\u001b[0m\n",
            "\u001b[?25hDownloading nvidia_cudnn_cu12-9.1.0.70-py3-none-manylinux2014_x86_64.whl (664.8 MB)\n",
            "\u001b[2K   \u001b[90m━━━━━━━━━━━━━━━━━━━━━━━━━━━━━━━━━━━━━━━━\u001b[0m \u001b[32m664.8/664.8 MB\u001b[0m \u001b[31m2.7 MB/s\u001b[0m eta \u001b[36m0:00:00\u001b[0m\n",
            "\u001b[?25hDownloading nvidia_cufft_cu12-11.2.1.3-py3-none-manylinux2014_x86_64.whl (211.5 MB)\n",
            "\u001b[2K   \u001b[90m━━━━━━━━━━━━━━━━━━━━━━━━━━━━━━━━━━━━━━━━\u001b[0m \u001b[32m211.5/211.5 MB\u001b[0m \u001b[31m6.2 MB/s\u001b[0m eta \u001b[36m0:00:00\u001b[0m\n",
            "\u001b[?25hDownloading nvidia_curand_cu12-10.3.5.147-py3-none-manylinux2014_x86_64.whl (56.3 MB)\n",
            "\u001b[2K   \u001b[90m━━━━━━━━━━━━━━━━━━━━━━━━━━━━━━━━━━━━━━━━\u001b[0m \u001b[32m56.3/56.3 MB\u001b[0m \u001b[31m9.7 MB/s\u001b[0m eta \u001b[36m0:00:00\u001b[0m\n",
            "\u001b[?25hDownloading nvidia_cusolver_cu12-11.6.1.9-py3-none-manylinux2014_x86_64.whl (127.9 MB)\n",
            "\u001b[2K   \u001b[90m━━━━━━━━━━━━━━━━━━━━━━━━━━━━━━━━━━━━━━━━\u001b[0m \u001b[32m127.9/127.9 MB\u001b[0m \u001b[31m8.1 MB/s\u001b[0m eta \u001b[36m0:00:00\u001b[0m\n",
            "\u001b[?25hDownloading nvidia_cusparse_cu12-12.3.1.170-py3-none-manylinux2014_x86_64.whl (207.5 MB)\n",
            "\u001b[2K   \u001b[90m━━━━━━━━━━━━━━━━━━━━━━━━━━━━━━━━━━━━━━━━\u001b[0m \u001b[32m207.5/207.5 MB\u001b[0m \u001b[31m5.9 MB/s\u001b[0m eta \u001b[36m0:00:00\u001b[0m\n",
            "\u001b[?25hDownloading nvidia_nvjitlink_cu12-12.4.127-py3-none-manylinux2014_x86_64.whl (21.1 MB)\n",
            "\u001b[2K   \u001b[90m━━━━━━━━━━━━━━━━━━━━━━━━━━━━━━━━━━━━━━━━\u001b[0m \u001b[32m21.1/21.1 MB\u001b[0m \u001b[31m82.0 MB/s\u001b[0m eta \u001b[36m0:00:00\u001b[0m\n",
            "\u001b[?25hDownloading typing_inspect-0.9.0-py3-none-any.whl (8.8 kB)\n",
            "Downloading onnxruntime-1.21.0-cp311-cp311-manylinux_2_27_x86_64.manylinux_2_28_x86_64.whl (16.0 MB)\n",
            "\u001b[2K   \u001b[90m━━━━━━━━━━━━━━━━━━━━━━━━━━━━━━━━━━━━━━━━\u001b[0m \u001b[32m16.0/16.0 MB\u001b[0m \u001b[31m89.4 MB/s\u001b[0m eta \u001b[36m0:00:00\u001b[0m\n",
            "\u001b[?25hDownloading mypy_extensions-1.0.0-py3-none-any.whl (4.7 kB)\n",
            "Downloading coloredlogs-15.0.1-py2.py3-none-any.whl (46 kB)\n",
            "\u001b[2K   \u001b[90m━━━━━━━━━━━━━━━━━━━━━━━━━━━━━━━━━━━━━━━━\u001b[0m \u001b[32m46.0/46.0 kB\u001b[0m \u001b[31m3.5 MB/s\u001b[0m eta \u001b[36m0:00:00\u001b[0m\n",
            "\u001b[?25hDownloading humanfriendly-10.0-py2.py3-none-any.whl (86 kB)\n",
            "\u001b[2K   \u001b[90m━━━━━━━━━━━━━━━━━━━━━━━━━━━━━━━━━━━━━━━━\u001b[0m \u001b[32m86.8/86.8 kB\u001b[0m \u001b[31m6.3 MB/s\u001b[0m eta \u001b[36m0:00:00\u001b[0m\n",
            "\u001b[?25hBuilding wheels for collected packages: proscenium, stringcase, thespian\n",
            "  Building wheel for proscenium (pyproject.toml) ... \u001b[?25l\u001b[?25hdone\n",
            "  Created wheel for proscenium: filename=proscenium-0.0.1.dev0-py3-none-any.whl size=20975 sha256=28d7505dbf5a524950b09e3604db6b52b0b9674c2e80141d885befbf8c69a9d0\n",
            "  Stored in directory: /tmp/pip-ephem-wheel-cache-7lii19ef/wheels/0f/31/77/340f9d613dcef8a3818e623e5d49614761c3b102a69f74c54b\n",
            "  Building wheel for stringcase (setup.py) ... \u001b[?25l\u001b[?25hdone\n",
            "  Created wheel for stringcase: filename=stringcase-1.2.0-py3-none-any.whl size=3568 sha256=c48f563398908d4c3e3a47757a963df36f6f20ba83d728a0582fc6870f1be102\n",
            "  Stored in directory: /root/.cache/pip/wheels/b4/33/6d/d0820be98063da218c3206fbad2381cd2db3fbb1a0f0d254b5\n",
            "  Building wheel for thespian (setup.py) ... \u001b[?25l\u001b[?25hdone\n",
            "  Created wheel for thespian: filename=thespian-4.0.1-py3-none-any.whl size=278972 sha256=9dee0308e4b9fc56b9c955e2e11abce9bd73b87ecddd9c43c24ce591c5975254\n",
            "  Stored in directory: /root/.cache/pip/wheels/01/ae/39/224eb7ed74303bf71be6bc9c6a9b4835d8f2845cfecef3efaf\n",
            "Successfully built proscenium stringcase thespian\n",
            "Installing collected packages: thespian, stringcase, fast-diff-match-patch, courts-db, xxhash, ujson, reporters-db, python-dotenv, pyahocorasick, nvidia-nvjitlink-cu12, nvidia-curand-cu12, nvidia-cufft-cu12, nvidia-cuda-runtime-cu12, nvidia-cuda-nvrtc-cu12, nvidia-cuda-cupti-cu12, nvidia-cublas-cu12, neo4j, mypy-extensions, milvus-lite, marshmallow, humanfriendly, httpx-sse, grpcio, fsspec, dill, typing-inspect, tiktoken, pynacl, nvidia-cusparse-cu12, nvidia-cudnn-cu12, multiprocess, httpx, eyecite, coloredlogs, pymilvus, pydantic-settings, onnxruntime, nvidia-cusolver-cu12, dataclasses-json, aisuite, pygithub, datasets, anthropic, pymilvus.model, gofannon, langchain-huggingface, langchain-community, proscenium\n",
            "  Attempting uninstall: nvidia-nvjitlink-cu12\n",
            "    Found existing installation: nvidia-nvjitlink-cu12 12.5.82\n",
            "    Uninstalling nvidia-nvjitlink-cu12-12.5.82:\n",
            "      Successfully uninstalled nvidia-nvjitlink-cu12-12.5.82\n",
            "  Attempting uninstall: nvidia-curand-cu12\n",
            "    Found existing installation: nvidia-curand-cu12 10.3.6.82\n",
            "    Uninstalling nvidia-curand-cu12-10.3.6.82:\n",
            "      Successfully uninstalled nvidia-curand-cu12-10.3.6.82\n",
            "  Attempting uninstall: nvidia-cufft-cu12\n",
            "    Found existing installation: nvidia-cufft-cu12 11.2.3.61\n",
            "    Uninstalling nvidia-cufft-cu12-11.2.3.61:\n",
            "      Successfully uninstalled nvidia-cufft-cu12-11.2.3.61\n",
            "  Attempting uninstall: nvidia-cuda-runtime-cu12\n",
            "    Found existing installation: nvidia-cuda-runtime-cu12 12.5.82\n",
            "    Uninstalling nvidia-cuda-runtime-cu12-12.5.82:\n",
            "      Successfully uninstalled nvidia-cuda-runtime-cu12-12.5.82\n",
            "  Attempting uninstall: nvidia-cuda-nvrtc-cu12\n",
            "    Found existing installation: nvidia-cuda-nvrtc-cu12 12.5.82\n",
            "    Uninstalling nvidia-cuda-nvrtc-cu12-12.5.82:\n",
            "      Successfully uninstalled nvidia-cuda-nvrtc-cu12-12.5.82\n",
            "  Attempting uninstall: nvidia-cuda-cupti-cu12\n",
            "    Found existing installation: nvidia-cuda-cupti-cu12 12.5.82\n",
            "    Uninstalling nvidia-cuda-cupti-cu12-12.5.82:\n",
            "      Successfully uninstalled nvidia-cuda-cupti-cu12-12.5.82\n",
            "  Attempting uninstall: nvidia-cublas-cu12\n",
            "    Found existing installation: nvidia-cublas-cu12 12.5.3.2\n",
            "    Uninstalling nvidia-cublas-cu12-12.5.3.2:\n",
            "      Successfully uninstalled nvidia-cublas-cu12-12.5.3.2\n",
            "  Attempting uninstall: grpcio\n",
            "    Found existing installation: grpcio 1.71.0\n",
            "    Uninstalling grpcio-1.71.0:\n",
            "      Successfully uninstalled grpcio-1.71.0\n",
            "  Attempting uninstall: fsspec\n",
            "    Found existing installation: fsspec 2025.3.0\n",
            "    Uninstalling fsspec-2025.3.0:\n",
            "      Successfully uninstalled fsspec-2025.3.0\n",
            "  Attempting uninstall: nvidia-cusparse-cu12\n",
            "    Found existing installation: nvidia-cusparse-cu12 12.5.1.3\n",
            "    Uninstalling nvidia-cusparse-cu12-12.5.1.3:\n",
            "      Successfully uninstalled nvidia-cusparse-cu12-12.5.1.3\n",
            "  Attempting uninstall: nvidia-cudnn-cu12\n",
            "    Found existing installation: nvidia-cudnn-cu12 9.3.0.75\n",
            "    Uninstalling nvidia-cudnn-cu12-9.3.0.75:\n",
            "      Successfully uninstalled nvidia-cudnn-cu12-9.3.0.75\n",
            "  Attempting uninstall: httpx\n",
            "    Found existing installation: httpx 0.28.1\n",
            "    Uninstalling httpx-0.28.1:\n",
            "      Successfully uninstalled httpx-0.28.1\n",
            "  Attempting uninstall: nvidia-cusolver-cu12\n",
            "    Found existing installation: nvidia-cusolver-cu12 11.6.3.83\n",
            "    Uninstalling nvidia-cusolver-cu12-11.6.3.83:\n",
            "      Successfully uninstalled nvidia-cusolver-cu12-11.6.3.83\n",
            "\u001b[31mERROR: pip's dependency resolver does not currently take into account all the packages that are installed. This behaviour is the source of the following dependency conflicts.\n",
            "gcsfs 2025.3.0 requires fsspec==2025.3.0, but you have fsspec 2024.12.0 which is incompatible.\n",
            "grpcio-status 1.71.0 requires grpcio>=1.71.0, but you have grpcio 1.67.1 which is incompatible.\n",
            "google-genai 1.7.0 requires httpx<1.0.0,>=0.28.1, but you have httpx 0.27.2 which is incompatible.\u001b[0m\u001b[31m\n",
            "\u001b[0mSuccessfully installed aisuite-0.1.10 anthropic-0.30.1 coloredlogs-15.0.1 courts-db-0.10.25 dataclasses-json-0.6.7 datasets-3.4.1 dill-0.3.8 eyecite-2.6.11 fast-diff-match-patch-2.1.0 fsspec-2024.12.0 gofannon-0.25.13 grpcio-1.67.1 httpx-0.27.2 httpx-sse-0.4.0 humanfriendly-10.0 langchain-community-0.3.20 langchain-huggingface-0.1.2 marshmallow-3.26.1 milvus-lite-2.4.12 multiprocess-0.70.16 mypy-extensions-1.0.0 neo4j-5.28.1 nvidia-cublas-cu12-12.4.5.8 nvidia-cuda-cupti-cu12-12.4.127 nvidia-cuda-nvrtc-cu12-12.4.127 nvidia-cuda-runtime-cu12-12.4.127 nvidia-cudnn-cu12-9.1.0.70 nvidia-cufft-cu12-11.2.1.3 nvidia-curand-cu12-10.3.5.147 nvidia-cusolver-cu12-11.6.1.9 nvidia-cusparse-cu12-12.3.1.170 nvidia-nvjitlink-cu12-12.4.127 onnxruntime-1.21.0 proscenium-0.0.1.dev0 pyahocorasick-2.1.0 pydantic-settings-2.8.1 pygithub-2.6.1 pymilvus-2.5.6 pymilvus.model-0.3.1 pynacl-1.5.0 python-dotenv-1.1.0 reporters-db-3.2.54 stringcase-1.2.0 thespian-4.0.1 tiktoken-0.9.0 typing-inspect-0.9.0 ujson-5.10.0 xxhash-3.5.0\n"
          ]
        }
      ]
    },
    {
      "cell_type": "code",
      "source": [
        "import os\n",
        "from google.colab import userdata\n",
        "\n",
        "api_key = userdata.get('TOGETHER_API_KEY')\n",
        "os.environ['TOGETHER_API_KEY'] = api_key"
      ],
      "metadata": {
        "id": "KCD-bj-_f7Ff"
      },
      "execution_count": 5,
      "outputs": []
    },
    {
      "cell_type": "code",
      "source": [
        "from rich import print\n",
        "from rich.panel import Panel\n",
        "from rich.prompt import Prompt"
      ],
      "metadata": {
        "id": "GtzWB4Fmem9p"
      },
      "execution_count": 6,
      "outputs": []
    },
    {
      "cell_type": "code",
      "source": [
        "from gofannon.basic_math.addition import Addition\n",
        "from gofannon.basic_math.subtraction import Subtraction\n",
        "from gofannon.basic_math.multiplication import Multiplication\n",
        "from gofannon.basic_math.division import Division\n",
        "\n",
        "tools = [Addition, Subtraction, Multiplication, Division]\n",
        "\n",
        "from proscenium.verbs.invoke import process_tools\n",
        "\n",
        "tool_map, tool_desc_list = process_tools(tools)\n"
      ],
      "metadata": {
        "id": "OpI3i1QPenAP"
      },
      "execution_count": 7,
      "outputs": []
    },
    {
      "cell_type": "code",
      "source": [
        "# question = \"What is your favorite color?\"\n",
        "\n",
        "question = \"What is 33312+458?\"\n"
      ],
      "metadata": {
        "id": "SCl-IMNUenDG"
      },
      "execution_count": 27,
      "outputs": []
    },
    {
      "cell_type": "code",
      "source": [
        "from demo.config import default_model_id\n",
        "\n",
        "\n",
        "#model_id = default_model_id\n",
        "\n",
        "model_id = \"together:meta-llama/Meta-Llama-3.1-70B-Instruct-Turbo\"\n",
        "print(model_id)\n"
      ],
      "metadata": {
        "colab": {
          "base_uri": "https://localhost:8080/",
          "height": 34
        },
        "id": "wAk0r3zMibod",
        "outputId": "5224abba-1cfa-43bc-d1bc-f3111fc73215"
      },
      "execution_count": 28,
      "outputs": [
        {
          "output_type": "display_data",
          "data": {
            "text/plain": [
              "together:meta-llama/Meta-Llama-\u001b[1;36m3.1\u001b[0m-70B-Instruct-Turbo\n"
            ],
            "text/html": [
              "<pre style=\"white-space:pre;overflow-x:auto;line-height:normal;font-family:Menlo,'DejaVu Sans Mono',consolas,'Courier New',monospace\">together:meta-llama/Meta-Llama-<span style=\"color: #008080; text-decoration-color: #008080; font-weight: bold\">3.1</span>-70B-Instruct-Turbo\n",
              "</pre>\n"
            ]
          },
          "metadata": {}
        }
      ]
    },
    {
      "cell_type": "code",
      "source": [
        "from proscenium.scripts.tools import apply_tools\n"
      ],
      "metadata": {
        "id": "wHJzSJBce3BR"
      },
      "execution_count": 29,
      "outputs": []
    },
    {
      "cell_type": "code",
      "source": [
        "answer = apply_tools(\n",
        "    model_id = model_id,\n",
        "    system_message = \"\"\"\"\n",
        "Use the tools specified in this request to perform the arithmeticin the user's question.\n",
        "Do not use any other tools.\n",
        "\"\"\",\n",
        "    message = question,\n",
        "    tool_desc_list = tool_desc_list,\n",
        "    tool_map = tool_map,\n",
        "    rich_output = True\n",
        ")"
      ],
      "metadata": {
        "colab": {
          "base_uri": "https://localhost:8080/",
          "height": 1000
        },
        "id": "_7AeAU8rholS",
        "outputId": "7495ea9f-e469-4508-bef6-9e45e710d6e6"
      },
      "execution_count": 30,
      "outputs": [
        {
          "output_type": "display_data",
          "data": {
            "text/plain": [
              "╭──────────────────────────────────────── complete for tool applications ─────────────────────────────────────────╮\n",
              "│                                                                                                                 │\n",
              "│ model_id: together:meta-llama/Meta-Llama-3.1-70B-Instruct-Turbo                                                 │\n",
              "│ temperature: 0.75                                                                                               │\n",
              "│                                                                                                                 │\n",
              "│ ╭─────────────────────────────────────────── Function Descriptions ───────────────────────────────────────────╮ │\n",
              "│ │ ╭─────────────────────────────────────────────────────────────────────────────────────────────────────────╮ │ │\n",
              "│ │ │ function addition: Calculate the sum of two numbers                                                     │ │ │\n",
              "│ │ │                                                                                                         │ │ │\n",
              "│ │ │ \u001b[3m           Parameters            \u001b[0m                                                                       │ │ │\n",
              "│ │ │ \u001b[1m \u001b[0m\u001b[1mname\u001b[0m\u001b[1m \u001b[0m\u001b[1m \u001b[0m\u001b[1mtype  \u001b[0m\u001b[1m \u001b[0m\u001b[1m \u001b[0m\u001b[1mdescription      \u001b[0m\u001b[1m \u001b[0m                                                                       │ │ │\n",
              "│ │ │  num1  number  The first number                                                                         │ │ │\n",
              "│ │ │  num2  number  The second number                                                                        │ │ │\n",
              "│ │ ╰─────────────────────────────────────────────────────────────────────────────────────────────────────────╯ │ │\n",
              "│ │ ╭─────────────────────────────────────────────────────────────────────────────────────────────────────────╮ │ │\n",
              "│ │ │ function subtraction: Calculate the difference between two numbers                                      │ │ │\n",
              "│ │ │                                                                                                         │ │ │\n",
              "│ │ │ \u001b[3m          Parameters          \u001b[0m                                                                          │ │ │\n",
              "│ │ │ \u001b[1m \u001b[0m\u001b[1mname\u001b[0m\u001b[1m \u001b[0m\u001b[1m \u001b[0m\u001b[1mtype  \u001b[0m\u001b[1m \u001b[0m\u001b[1m \u001b[0m\u001b[1mdescription   \u001b[0m\u001b[1m \u001b[0m                                                                          │ │ │\n",
              "│ │ │  num1  number  The minuend                                                                              │ │ │\n",
              "│ │ │  num2  number  The subtrahend                                                                           │ │ │\n",
              "│ │ ╰─────────────────────────────────────────────────────────────────────────────────────────────────────────╯ │ │\n",
              "│ │ ╭─────────────────────────────────────────────────────────────────────────────────────────────────────────╮ │ │\n",
              "│ │ │ function multiplication: Calculate the product of two numbers                                           │ │ │\n",
              "│ │ │                                                                                                         │ │ │\n",
              "│ │ │ \u001b[3m           Parameters            \u001b[0m                                                                       │ │ │\n",
              "│ │ │ \u001b[1m \u001b[0m\u001b[1mname\u001b[0m\u001b[1m \u001b[0m\u001b[1m \u001b[0m\u001b[1mtype  \u001b[0m\u001b[1m \u001b[0m\u001b[1m \u001b[0m\u001b[1mdescription      \u001b[0m\u001b[1m \u001b[0m                                                                       │ │ │\n",
              "│ │ │  num1  number  The first number                                                                         │ │ │\n",
              "│ │ │  num2  number  The second number                                                                        │ │ │\n",
              "│ │ ╰─────────────────────────────────────────────────────────────────────────────────────────────────────────╯ │ │\n",
              "│ │ ╭─────────────────────────────────────────────────────────────────────────────────────────────────────────╮ │ │\n",
              "│ │ │ function division: Calculate the quotient of two numbers                                                │ │ │\n",
              "│ │ │                                                                                                         │ │ │\n",
              "│ │ │ \u001b[3m         Parameters         \u001b[0m                                                                            │ │ │\n",
              "│ │ │ \u001b[1m \u001b[0m\u001b[1mname\u001b[0m\u001b[1m \u001b[0m\u001b[1m \u001b[0m\u001b[1mtype  \u001b[0m\u001b[1m \u001b[0m\u001b[1m \u001b[0m\u001b[1mdescription \u001b[0m\u001b[1m \u001b[0m                                                                            │ │ │\n",
              "│ │ │  num1  number  The dividend                                                                             │ │ │\n",
              "│ │ │  num2  number  The divisor                                                                              │ │ │\n",
              "│ │ ╰─────────────────────────────────────────────────────────────────────────────────────────────────────────╯ │ │\n",
              "│ ╰─────────────────────────────────────────────────────────────────────────────────────────────────────────────╯ │\n",
              "│ \u001b[3m                                      Messages in Chat Context                                       \u001b[0m           │\n",
              "│ ┏━━━━━━━━┳━━━━━━━━━━━━━━━━━━━━━━━━━━━━━━━━━━━━━━━━━━━━━━━━━━━━━━━━━━━━━━━━━━━━━━━━━━━━━━━━━━━━━━━━━━┓           │\n",
              "│ ┃\u001b[1m \u001b[0m\u001b[1mRole  \u001b[0m\u001b[1m \u001b[0m┃\u001b[1m \u001b[0m\u001b[1mContent                                                                                 \u001b[0m\u001b[1m \u001b[0m┃           │\n",
              "│ ┡━━━━━━━━╇━━━━━━━━━━━━━━━━━━━━━━━━━━━━━━━━━━━━━━━━━━━━━━━━━━━━━━━━━━━━━━━━━━━━━━━━━━━━━━━━━━━━━━━━━━┩           │\n",
              "│ │\u001b[34m \u001b[0m\u001b[34msystem\u001b[0m\u001b[34m \u001b[0m│\u001b[32m \u001b[0m\u001b[32m\"                                                                                       \u001b[0m\u001b[32m \u001b[0m│           │\n",
              "│ │\u001b[34m        \u001b[0m│\u001b[32m \u001b[0m\u001b[32mUse the tools specified in this request to perform the arithmeticin the user's question.\u001b[0m\u001b[32m \u001b[0m│           │\n",
              "│ │\u001b[34m        \u001b[0m│\u001b[32m \u001b[0m\u001b[32mDo not use any other tools.                                                             \u001b[0m\u001b[32m \u001b[0m│           │\n",
              "│ │\u001b[34m        \u001b[0m│\u001b[32m \u001b[0m\u001b[32m                                                                                        \u001b[0m\u001b[32m \u001b[0m│           │\n",
              "│ ├────────┼──────────────────────────────────────────────────────────────────────────────────────────┤           │\n",
              "│ │\u001b[34m \u001b[0m\u001b[34muser  \u001b[0m\u001b[34m \u001b[0m│\u001b[32m \u001b[0m\u001b[32mWhat is 33312+458?                                                                      \u001b[0m\u001b[32m \u001b[0m│           │\n",
              "│ └────────┴──────────────────────────────────────────────────────────────────────────────────────────┘           │\n",
              "╰─────────────────────────────────────────────────────────────────────────────────────────────────────────────────╯\n"
            ],
            "text/html": [
              "<pre style=\"white-space:pre;overflow-x:auto;line-height:normal;font-family:Menlo,'DejaVu Sans Mono',consolas,'Courier New',monospace\">╭──────────────────────────────────────── complete for tool applications ─────────────────────────────────────────╮\n",
              "│                                                                                                                 │\n",
              "│ model_id: together:meta-llama/Meta-Llama-3.1-70B-Instruct-Turbo                                                 │\n",
              "│ temperature: 0.75                                                                                               │\n",
              "│                                                                                                                 │\n",
              "│ ╭─────────────────────────────────────────── Function Descriptions ───────────────────────────────────────────╮ │\n",
              "│ │ ╭─────────────────────────────────────────────────────────────────────────────────────────────────────────╮ │ │\n",
              "│ │ │ function addition: Calculate the sum of two numbers                                                     │ │ │\n",
              "│ │ │                                                                                                         │ │ │\n",
              "│ │ │ <span style=\"font-style: italic\">           Parameters            </span>                                                                       │ │ │\n",
              "│ │ │ <span style=\"font-weight: bold\"> name  type    description       </span>                                                                       │ │ │\n",
              "│ │ │  num1  number  The first number                                                                         │ │ │\n",
              "│ │ │  num2  number  The second number                                                                        │ │ │\n",
              "│ │ ╰─────────────────────────────────────────────────────────────────────────────────────────────────────────╯ │ │\n",
              "│ │ ╭─────────────────────────────────────────────────────────────────────────────────────────────────────────╮ │ │\n",
              "│ │ │ function subtraction: Calculate the difference between two numbers                                      │ │ │\n",
              "│ │ │                                                                                                         │ │ │\n",
              "│ │ │ <span style=\"font-style: italic\">          Parameters          </span>                                                                          │ │ │\n",
              "│ │ │ <span style=\"font-weight: bold\"> name  type    description    </span>                                                                          │ │ │\n",
              "│ │ │  num1  number  The minuend                                                                              │ │ │\n",
              "│ │ │  num2  number  The subtrahend                                                                           │ │ │\n",
              "│ │ ╰─────────────────────────────────────────────────────────────────────────────────────────────────────────╯ │ │\n",
              "│ │ ╭─────────────────────────────────────────────────────────────────────────────────────────────────────────╮ │ │\n",
              "│ │ │ function multiplication: Calculate the product of two numbers                                           │ │ │\n",
              "│ │ │                                                                                                         │ │ │\n",
              "│ │ │ <span style=\"font-style: italic\">           Parameters            </span>                                                                       │ │ │\n",
              "│ │ │ <span style=\"font-weight: bold\"> name  type    description       </span>                                                                       │ │ │\n",
              "│ │ │  num1  number  The first number                                                                         │ │ │\n",
              "│ │ │  num2  number  The second number                                                                        │ │ │\n",
              "│ │ ╰─────────────────────────────────────────────────────────────────────────────────────────────────────────╯ │ │\n",
              "│ │ ╭─────────────────────────────────────────────────────────────────────────────────────────────────────────╮ │ │\n",
              "│ │ │ function division: Calculate the quotient of two numbers                                                │ │ │\n",
              "│ │ │                                                                                                         │ │ │\n",
              "│ │ │ <span style=\"font-style: italic\">         Parameters         </span>                                                                            │ │ │\n",
              "│ │ │ <span style=\"font-weight: bold\"> name  type    description  </span>                                                                            │ │ │\n",
              "│ │ │  num1  number  The dividend                                                                             │ │ │\n",
              "│ │ │  num2  number  The divisor                                                                              │ │ │\n",
              "│ │ ╰─────────────────────────────────────────────────────────────────────────────────────────────────────────╯ │ │\n",
              "│ ╰─────────────────────────────────────────────────────────────────────────────────────────────────────────────╯ │\n",
              "│ <span style=\"font-style: italic\">                                      Messages in Chat Context                                       </span>           │\n",
              "│ ┏━━━━━━━━┳━━━━━━━━━━━━━━━━━━━━━━━━━━━━━━━━━━━━━━━━━━━━━━━━━━━━━━━━━━━━━━━━━━━━━━━━━━━━━━━━━━━━━━━━━━┓           │\n",
              "│ ┃<span style=\"font-weight: bold\"> Role   </span>┃<span style=\"font-weight: bold\"> Content                                                                                  </span>┃           │\n",
              "│ ┡━━━━━━━━╇━━━━━━━━━━━━━━━━━━━━━━━━━━━━━━━━━━━━━━━━━━━━━━━━━━━━━━━━━━━━━━━━━━━━━━━━━━━━━━━━━━━━━━━━━━┩           │\n",
              "│ │<span style=\"color: #000080; text-decoration-color: #000080\"> system </span>│<span style=\"color: #008000; text-decoration-color: #008000\"> \"                                                                                        </span>│           │\n",
              "│ │<span style=\"color: #000080; text-decoration-color: #000080\">        </span>│<span style=\"color: #008000; text-decoration-color: #008000\"> Use the tools specified in this request to perform the arithmeticin the user's question. </span>│           │\n",
              "│ │<span style=\"color: #000080; text-decoration-color: #000080\">        </span>│<span style=\"color: #008000; text-decoration-color: #008000\"> Do not use any other tools.                                                              </span>│           │\n",
              "│ │<span style=\"color: #000080; text-decoration-color: #000080\">        </span>│<span style=\"color: #008000; text-decoration-color: #008000\">                                                                                          </span>│           │\n",
              "│ ├────────┼──────────────────────────────────────────────────────────────────────────────────────────┤           │\n",
              "│ │<span style=\"color: #000080; text-decoration-color: #000080\"> user   </span>│<span style=\"color: #008000; text-decoration-color: #008000\"> What is 33312+458?                                                                       </span>│           │\n",
              "│ └────────┴──────────────────────────────────────────────────────────────────────────────────────────┘           │\n",
              "╰─────────────────────────────────────────────────────────────────────────────────────────────────────────────────╯\n",
              "</pre>\n"
            ]
          },
          "metadata": {}
        },
        {
          "output_type": "display_data",
          "data": {
            "text/plain": [
              "╭─────────────────────────────────────────── Tool Application Response ───────────────────────────────────────────╮\n",
              "│ content=None reasoning_content=None                                                                             │\n",
              "│ tool_calls=[ChatCompletionMessageToolCall(id='call_dbw9zpenwkb96bmvceyxxiv0',                                   │\n",
              "│ function=Function(arguments='{\"num1\":33312,\"num2\":458}', name='addition'), type='function')] role='assistant'   │\n",
              "│ refusal=None                                                                                                    │\n",
              "╰─────────────────────────────────────────────────────────────────────────────────────────────────────────────────╯\n"
            ],
            "text/html": [
              "<pre style=\"white-space:pre;overflow-x:auto;line-height:normal;font-family:Menlo,'DejaVu Sans Mono',consolas,'Courier New',monospace\">╭─────────────────────────────────────────── Tool Application Response ───────────────────────────────────────────╮\n",
              "│ content=None reasoning_content=None                                                                             │\n",
              "│ tool_calls=[ChatCompletionMessageToolCall(id='call_dbw9zpenwkb96bmvceyxxiv0',                                   │\n",
              "│ function=Function(arguments='{\"num1\":33312,\"num2\":458}', name='addition'), type='function')] role='assistant'   │\n",
              "│ refusal=None                                                                                                    │\n",
              "╰─────────────────────────────────────────────────────────────────────────────────────────────────────────────────╯\n",
              "</pre>\n"
            ]
          },
          "metadata": {}
        },
        {
          "output_type": "display_data",
          "data": {
            "text/plain": [
              "Evaluating tool calls\n"
            ],
            "text/html": [
              "<pre style=\"white-space:pre;overflow-x:auto;line-height:normal;font-family:Menlo,'DejaVu Sans Mono',consolas,'Courier New',monospace\">Evaluating tool calls\n",
              "</pre>\n"
            ]
          },
          "metadata": {}
        },
        {
          "output_type": "display_data",
          "data": {
            "text/plain": [
              "Evaluating tool call: addition with args \u001b[1m{\u001b[0m\u001b[32m'num1'\u001b[0m: \u001b[1;36m33312\u001b[0m, \u001b[32m'num2'\u001b[0m: \u001b[1;36m458\u001b[0m\u001b[1m}\u001b[0m\n"
            ],
            "text/html": [
              "<pre style=\"white-space:pre;overflow-x:auto;line-height:normal;font-family:Menlo,'DejaVu Sans Mono',consolas,'Courier New',monospace\">Evaluating tool call: addition with args <span style=\"font-weight: bold\">{</span><span style=\"color: #008000; text-decoration-color: #008000\">'num1'</span>: <span style=\"color: #008080; text-decoration-color: #008080; font-weight: bold\">33312</span>, <span style=\"color: #008000; text-decoration-color: #008000\">'num2'</span>: <span style=\"color: #008080; text-decoration-color: #008080; font-weight: bold\">458</span><span style=\"font-weight: bold\">}</span>\n",
              "</pre>\n"
            ]
          },
          "metadata": {}
        },
        {
          "output_type": "display_data",
          "data": {
            "text/plain": [
              "   Response: \u001b[1;36m33770\u001b[0m\n"
            ],
            "text/html": [
              "<pre style=\"white-space:pre;overflow-x:auto;line-height:normal;font-family:Menlo,'DejaVu Sans Mono',consolas,'Courier New',monospace\">   Response: <span style=\"color: #008080; text-decoration-color: #008080; font-weight: bold\">33770</span>\n",
              "</pre>\n"
            ]
          },
          "metadata": {}
        },
        {
          "output_type": "display_data",
          "data": {
            "text/plain": [
              "Tool calls evaluated\n"
            ],
            "text/html": [
              "<pre style=\"white-space:pre;overflow-x:auto;line-height:normal;font-family:Menlo,'DejaVu Sans Mono',consolas,'Courier New',monospace\">Tool calls evaluated\n",
              "</pre>\n"
            ]
          },
          "metadata": {}
        },
        {
          "output_type": "display_data",
          "data": {
            "text/plain": [
              "╭──────────────────────────────────────── complete call with tool results ────────────────────────────────────────╮\n",
              "│                                                                                                                 │\n",
              "│ model_id: together:meta-llama/Meta-Llama-3.1-70B-Instruct-Turbo                                                 │\n",
              "│ temperature: 0.75                                                                                               │\n",
              "│                                                                                                                 │\n",
              "│ ╭─────────────────────────────────────────── Function Descriptions ───────────────────────────────────────────╮ │\n",
              "│ │ ╭─────────────────────────────────────────────────────────────────────────────────────────────────────────╮ │ │\n",
              "│ │ │ function addition: Calculate the sum of two numbers                                                     │ │ │\n",
              "│ │ │                                                                                                         │ │ │\n",
              "│ │ │ \u001b[3m           Parameters            \u001b[0m                                                                       │ │ │\n",
              "│ │ │ \u001b[1m \u001b[0m\u001b[1mname\u001b[0m\u001b[1m \u001b[0m\u001b[1m \u001b[0m\u001b[1mtype  \u001b[0m\u001b[1m \u001b[0m\u001b[1m \u001b[0m\u001b[1mdescription      \u001b[0m\u001b[1m \u001b[0m                                                                       │ │ │\n",
              "│ │ │  num1  number  The first number                                                                         │ │ │\n",
              "│ │ │  num2  number  The second number                                                                        │ │ │\n",
              "│ │ ╰─────────────────────────────────────────────────────────────────────────────────────────────────────────╯ │ │\n",
              "│ │ ╭─────────────────────────────────────────────────────────────────────────────────────────────────────────╮ │ │\n",
              "│ │ │ function subtraction: Calculate the difference between two numbers                                      │ │ │\n",
              "│ │ │                                                                                                         │ │ │\n",
              "│ │ │ \u001b[3m          Parameters          \u001b[0m                                                                          │ │ │\n",
              "│ │ │ \u001b[1m \u001b[0m\u001b[1mname\u001b[0m\u001b[1m \u001b[0m\u001b[1m \u001b[0m\u001b[1mtype  \u001b[0m\u001b[1m \u001b[0m\u001b[1m \u001b[0m\u001b[1mdescription   \u001b[0m\u001b[1m \u001b[0m                                                                          │ │ │\n",
              "│ │ │  num1  number  The minuend                                                                              │ │ │\n",
              "│ │ │  num2  number  The subtrahend                                                                           │ │ │\n",
              "│ │ ╰─────────────────────────────────────────────────────────────────────────────────────────────────────────╯ │ │\n",
              "│ │ ╭─────────────────────────────────────────────────────────────────────────────────────────────────────────╮ │ │\n",
              "│ │ │ function multiplication: Calculate the product of two numbers                                           │ │ │\n",
              "│ │ │                                                                                                         │ │ │\n",
              "│ │ │ \u001b[3m           Parameters            \u001b[0m                                                                       │ │ │\n",
              "│ │ │ \u001b[1m \u001b[0m\u001b[1mname\u001b[0m\u001b[1m \u001b[0m\u001b[1m \u001b[0m\u001b[1mtype  \u001b[0m\u001b[1m \u001b[0m\u001b[1m \u001b[0m\u001b[1mdescription      \u001b[0m\u001b[1m \u001b[0m                                                                       │ │ │\n",
              "│ │ │  num1  number  The first number                                                                         │ │ │\n",
              "│ │ │  num2  number  The second number                                                                        │ │ │\n",
              "│ │ ╰─────────────────────────────────────────────────────────────────────────────────────────────────────────╯ │ │\n",
              "│ │ ╭─────────────────────────────────────────────────────────────────────────────────────────────────────────╮ │ │\n",
              "│ │ │ function division: Calculate the quotient of two numbers                                                │ │ │\n",
              "│ │ │                                                                                                         │ │ │\n",
              "│ │ │ \u001b[3m         Parameters         \u001b[0m                                                                            │ │ │\n",
              "│ │ │ \u001b[1m \u001b[0m\u001b[1mname\u001b[0m\u001b[1m \u001b[0m\u001b[1m \u001b[0m\u001b[1mtype  \u001b[0m\u001b[1m \u001b[0m\u001b[1m \u001b[0m\u001b[1mdescription \u001b[0m\u001b[1m \u001b[0m                                                                            │ │ │\n",
              "│ │ │  num1  number  The dividend                                                                             │ │ │\n",
              "│ │ │  num2  number  The divisor                                                                              │ │ │\n",
              "│ │ ╰─────────────────────────────────────────────────────────────────────────────────────────────────────────╯ │ │\n",
              "│ ╰─────────────────────────────────────────────────────────────────────────────────────────────────────────────╯ │\n",
              "│ \u001b[3m                                           Messages in Chat Context                                            \u001b[0m │\n",
              "│ ┏━━━━━━━━━━━┳━━━━━━━━━━━━━━━━━━━━━━━━━━━━━━━━━━━━━━━━━━━━━━━━━━━━━━━━━━━━━━━━━━━━━━━━━━━━━━━━━━━━━━━━━━━━━━━━━┓ │\n",
              "│ ┃\u001b[1m \u001b[0m\u001b[1mRole     \u001b[0m\u001b[1m \u001b[0m┃\u001b[1m \u001b[0m\u001b[1mContent                                                                                        \u001b[0m\u001b[1m \u001b[0m┃ │\n",
              "│ ┡━━━━━━━━━━━╇━━━━━━━━━━━━━━━━━━━━━━━━━━━━━━━━━━━━━━━━━━━━━━━━━━━━━━━━━━━━━━━━━━━━━━━━━━━━━━━━━━━━━━━━━━━━━━━━━┩ │\n",
              "│ │\u001b[34m \u001b[0m\u001b[34msystem   \u001b[0m\u001b[34m \u001b[0m│\u001b[32m \u001b[0m\u001b[32m\"                                                                                              \u001b[0m\u001b[32m \u001b[0m│ │\n",
              "│ │\u001b[34m           \u001b[0m│\u001b[32m \u001b[0m\u001b[32mUse the tools specified in this request to perform the arithmeticin the user's question.       \u001b[0m\u001b[32m \u001b[0m│ │\n",
              "│ │\u001b[34m           \u001b[0m│\u001b[32m \u001b[0m\u001b[32mDo not use any other tools.                                                                    \u001b[0m\u001b[32m \u001b[0m│ │\n",
              "│ │\u001b[34m           \u001b[0m│\u001b[32m \u001b[0m\u001b[32m                                                                                               \u001b[0m\u001b[32m \u001b[0m│ │\n",
              "│ ├───────────┼─────────────────────────────────────────────────────────────────────────────────────────────────┤ │\n",
              "│ │\u001b[34m \u001b[0m\u001b[34muser     \u001b[0m\u001b[34m \u001b[0m│\u001b[32m \u001b[0m\u001b[32mWhat is 33312+458?                                                                             \u001b[0m\u001b[32m \u001b[0m│ │\n",
              "│ ├───────────┼─────────────────────────────────────────────────────────────────────────────────────────────────┤ │\n",
              "│ │\u001b[34m \u001b[0m\u001b[34massistant\u001b[0m\u001b[34m \u001b[0m│\u001b[32m \u001b[0m\u001b[32mcontent=None reasoning_content=None                                                            \u001b[0m\u001b[32m \u001b[0m│ │\n",
              "│ │\u001b[34m           \u001b[0m│\u001b[32m \u001b[0m\u001b[32mtool_calls=[ChatCompletionMessageToolCall(id='call_dbw9zpenwkb96bmvceyxxiv0',                  \u001b[0m\u001b[32m \u001b[0m│ │\n",
              "│ │\u001b[34m           \u001b[0m│\u001b[32m \u001b[0m\u001b[32mfunction=Function(arguments='{\"num1\":33312,\"num2\":458}', name='addition'), type='function')]   \u001b[0m\u001b[32m \u001b[0m│ │\n",
              "│ │\u001b[34m           \u001b[0m│\u001b[32m \u001b[0m\u001b[32mrole='assistant' refusal=None                                                                  \u001b[0m\u001b[32m \u001b[0m│ │\n",
              "│ ├───────────┼─────────────────────────────────────────────────────────────────────────────────────────────────┤ │\n",
              "│ │\u001b[34m \u001b[0m\u001b[34mtool     \u001b[0m\u001b[34m \u001b[0m│\u001b[32m \u001b[0m\u001b[32mtool call id = call_dbw9zpenwkb96bmvceyxxiv0                                                   \u001b[0m\u001b[32m \u001b[0m│ │\n",
              "│ │\u001b[34m           \u001b[0m│\u001b[32m \u001b[0m\u001b[32mfn name = addition                                                                             \u001b[0m\u001b[32m \u001b[0m│ │\n",
              "│ │\u001b[34m           \u001b[0m│\u001b[32m \u001b[0m\u001b[32mresult = 33770                                                                                 \u001b[0m\u001b[32m \u001b[0m│ │\n",
              "│ └───────────┴─────────────────────────────────────────────────────────────────────────────────────────────────┘ │\n",
              "╰─────────────────────────────────────────────────────────────────────────────────────────────────────────────────╯\n"
            ],
            "text/html": [
              "<pre style=\"white-space:pre;overflow-x:auto;line-height:normal;font-family:Menlo,'DejaVu Sans Mono',consolas,'Courier New',monospace\">╭──────────────────────────────────────── complete call with tool results ────────────────────────────────────────╮\n",
              "│                                                                                                                 │\n",
              "│ model_id: together:meta-llama/Meta-Llama-3.1-70B-Instruct-Turbo                                                 │\n",
              "│ temperature: 0.75                                                                                               │\n",
              "│                                                                                                                 │\n",
              "│ ╭─────────────────────────────────────────── Function Descriptions ───────────────────────────────────────────╮ │\n",
              "│ │ ╭─────────────────────────────────────────────────────────────────────────────────────────────────────────╮ │ │\n",
              "│ │ │ function addition: Calculate the sum of two numbers                                                     │ │ │\n",
              "│ │ │                                                                                                         │ │ │\n",
              "│ │ │ <span style=\"font-style: italic\">           Parameters            </span>                                                                       │ │ │\n",
              "│ │ │ <span style=\"font-weight: bold\"> name  type    description       </span>                                                                       │ │ │\n",
              "│ │ │  num1  number  The first number                                                                         │ │ │\n",
              "│ │ │  num2  number  The second number                                                                        │ │ │\n",
              "│ │ ╰─────────────────────────────────────────────────────────────────────────────────────────────────────────╯ │ │\n",
              "│ │ ╭─────────────────────────────────────────────────────────────────────────────────────────────────────────╮ │ │\n",
              "│ │ │ function subtraction: Calculate the difference between two numbers                                      │ │ │\n",
              "│ │ │                                                                                                         │ │ │\n",
              "│ │ │ <span style=\"font-style: italic\">          Parameters          </span>                                                                          │ │ │\n",
              "│ │ │ <span style=\"font-weight: bold\"> name  type    description    </span>                                                                          │ │ │\n",
              "│ │ │  num1  number  The minuend                                                                              │ │ │\n",
              "│ │ │  num2  number  The subtrahend                                                                           │ │ │\n",
              "│ │ ╰─────────────────────────────────────────────────────────────────────────────────────────────────────────╯ │ │\n",
              "│ │ ╭─────────────────────────────────────────────────────────────────────────────────────────────────────────╮ │ │\n",
              "│ │ │ function multiplication: Calculate the product of two numbers                                           │ │ │\n",
              "│ │ │                                                                                                         │ │ │\n",
              "│ │ │ <span style=\"font-style: italic\">           Parameters            </span>                                                                       │ │ │\n",
              "│ │ │ <span style=\"font-weight: bold\"> name  type    description       </span>                                                                       │ │ │\n",
              "│ │ │  num1  number  The first number                                                                         │ │ │\n",
              "│ │ │  num2  number  The second number                                                                        │ │ │\n",
              "│ │ ╰─────────────────────────────────────────────────────────────────────────────────────────────────────────╯ │ │\n",
              "│ │ ╭─────────────────────────────────────────────────────────────────────────────────────────────────────────╮ │ │\n",
              "│ │ │ function division: Calculate the quotient of two numbers                                                │ │ │\n",
              "│ │ │                                                                                                         │ │ │\n",
              "│ │ │ <span style=\"font-style: italic\">         Parameters         </span>                                                                            │ │ │\n",
              "│ │ │ <span style=\"font-weight: bold\"> name  type    description  </span>                                                                            │ │ │\n",
              "│ │ │  num1  number  The dividend                                                                             │ │ │\n",
              "│ │ │  num2  number  The divisor                                                                              │ │ │\n",
              "│ │ ╰─────────────────────────────────────────────────────────────────────────────────────────────────────────╯ │ │\n",
              "│ ╰─────────────────────────────────────────────────────────────────────────────────────────────────────────────╯ │\n",
              "│ <span style=\"font-style: italic\">                                           Messages in Chat Context                                            </span> │\n",
              "│ ┏━━━━━━━━━━━┳━━━━━━━━━━━━━━━━━━━━━━━━━━━━━━━━━━━━━━━━━━━━━━━━━━━━━━━━━━━━━━━━━━━━━━━━━━━━━━━━━━━━━━━━━━━━━━━━━┓ │\n",
              "│ ┃<span style=\"font-weight: bold\"> Role      </span>┃<span style=\"font-weight: bold\"> Content                                                                                         </span>┃ │\n",
              "│ ┡━━━━━━━━━━━╇━━━━━━━━━━━━━━━━━━━━━━━━━━━━━━━━━━━━━━━━━━━━━━━━━━━━━━━━━━━━━━━━━━━━━━━━━━━━━━━━━━━━━━━━━━━━━━━━━┩ │\n",
              "│ │<span style=\"color: #000080; text-decoration-color: #000080\"> system    </span>│<span style=\"color: #008000; text-decoration-color: #008000\"> \"                                                                                               </span>│ │\n",
              "│ │<span style=\"color: #000080; text-decoration-color: #000080\">           </span>│<span style=\"color: #008000; text-decoration-color: #008000\"> Use the tools specified in this request to perform the arithmeticin the user's question.        </span>│ │\n",
              "│ │<span style=\"color: #000080; text-decoration-color: #000080\">           </span>│<span style=\"color: #008000; text-decoration-color: #008000\"> Do not use any other tools.                                                                     </span>│ │\n",
              "│ │<span style=\"color: #000080; text-decoration-color: #000080\">           </span>│<span style=\"color: #008000; text-decoration-color: #008000\">                                                                                                 </span>│ │\n",
              "│ ├───────────┼─────────────────────────────────────────────────────────────────────────────────────────────────┤ │\n",
              "│ │<span style=\"color: #000080; text-decoration-color: #000080\"> user      </span>│<span style=\"color: #008000; text-decoration-color: #008000\"> What is 33312+458?                                                                              </span>│ │\n",
              "│ ├───────────┼─────────────────────────────────────────────────────────────────────────────────────────────────┤ │\n",
              "│ │<span style=\"color: #000080; text-decoration-color: #000080\"> assistant </span>│<span style=\"color: #008000; text-decoration-color: #008000\"> content=None reasoning_content=None                                                             </span>│ │\n",
              "│ │<span style=\"color: #000080; text-decoration-color: #000080\">           </span>│<span style=\"color: #008000; text-decoration-color: #008000\"> tool_calls=[ChatCompletionMessageToolCall(id='call_dbw9zpenwkb96bmvceyxxiv0',                   </span>│ │\n",
              "│ │<span style=\"color: #000080; text-decoration-color: #000080\">           </span>│<span style=\"color: #008000; text-decoration-color: #008000\"> function=Function(arguments='{\"num1\":33312,\"num2\":458}', name='addition'), type='function')]    </span>│ │\n",
              "│ │<span style=\"color: #000080; text-decoration-color: #000080\">           </span>│<span style=\"color: #008000; text-decoration-color: #008000\"> role='assistant' refusal=None                                                                   </span>│ │\n",
              "│ ├───────────┼─────────────────────────────────────────────────────────────────────────────────────────────────┤ │\n",
              "│ │<span style=\"color: #000080; text-decoration-color: #000080\"> tool      </span>│<span style=\"color: #008000; text-decoration-color: #008000\"> tool call id = call_dbw9zpenwkb96bmvceyxxiv0                                                    </span>│ │\n",
              "│ │<span style=\"color: #000080; text-decoration-color: #000080\">           </span>│<span style=\"color: #008000; text-decoration-color: #008000\"> fn name = addition                                                                              </span>│ │\n",
              "│ │<span style=\"color: #000080; text-decoration-color: #000080\">           </span>│<span style=\"color: #008000; text-decoration-color: #008000\"> result = 33770                                                                                  </span>│ │\n",
              "│ └───────────┴─────────────────────────────────────────────────────────────────────────────────────────────────┘ │\n",
              "╰─────────────────────────────────────────────────────────────────────────────────────────────────────────────────╯\n",
              "</pre>\n"
            ]
          },
          "metadata": {}
        }
      ]
    },
    {
      "cell_type": "code",
      "source": [
        "print(Panel(answer, title=\"Answer\"))\n"
      ],
      "metadata": {
        "colab": {
          "base_uri": "https://localhost:8080/",
          "height": 67
        },
        "id": "-9lCXhbDe4Xb",
        "outputId": "45d95fe0-633c-4b06-dc24-0710d0802c42"
      },
      "execution_count": 31,
      "outputs": [
        {
          "output_type": "display_data",
          "data": {
            "text/plain": [
              "╭──────────────────────────────────────────────────── Answer ─────────────────────────────────────────────────────╮\n",
              "│ The answer to 33312 + 458 is 33770.                                                                             │\n",
              "╰─────────────────────────────────────────────────────────────────────────────────────────────────────────────────╯\n"
            ],
            "text/html": [
              "<pre style=\"white-space:pre;overflow-x:auto;line-height:normal;font-family:Menlo,'DejaVu Sans Mono',consolas,'Courier New',monospace\">╭──────────────────────────────────────────────────── Answer ─────────────────────────────────────────────────────╮\n",
              "│ The answer to 33312 + 458 is 33770.                                                                             │\n",
              "╰─────────────────────────────────────────────────────────────────────────────────────────────────────────────────╯\n",
              "</pre>\n"
            ]
          },
          "metadata": {}
        }
      ]
    }
  ]
}