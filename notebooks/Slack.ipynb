{
  "nbformat": 4,
  "nbformat_minor": 0,
  "metadata": {
    "colab": {
      "provenance": []
    },
    "kernelspec": {
      "name": "python3",
      "display_name": "Python 3"
    },
    "language_info": {
      "name": "python"
    }
  },
  "cells": [
    {
      "cell_type": "markdown",
      "source": [
        "# Proscenium Slack Demo"
      ],
      "metadata": {
        "id": "cPk1pKkYPLxH"
      }
    },
    {
      "cell_type": "markdown",
      "source": [
        "## Install Proscenium"
      ],
      "metadata": {
        "id": "M0mOPbN_DWOu"
      }
    },
    {
      "cell_type": "code",
      "source": [
        "!git clone https://github.com/The-AI-Alliance/proscenium.git"
      ],
      "metadata": {
        "collapsed": true,
        "id": "_6JJncvsDQIW"
      },
      "execution_count": null,
      "outputs": []
    },
    {
      "cell_type": "code",
      "execution_count": null,
      "metadata": {
        "id": "inI9Ic9VDMtD"
      },
      "outputs": [],
      "source": [
        "%cd proscenium"
      ]
    },
    {
      "cell_type": "code",
      "source": [
        "!python -m pip install ."
      ],
      "metadata": {
        "collapsed": true,
        "id": "_c6q87QsDQF-"
      },
      "execution_count": null,
      "outputs": []
    },
    {
      "cell_type": "markdown",
      "source": [
        "## Configure"
      ],
      "metadata": {
        "id": "Be4_fm1dNyv-"
      }
    },
    {
      "cell_type": "code",
      "source": [
        "from proscenium.util import get_secret\n",
        "_ = get_secret(\"TOGETHER_API_KEY\")\n",
        "\n",
        "import logging\n",
        "log = logging.getLogger(__name__)\n",
        "log.setLevel(logging.INFO)\n",
        "logging.getLogger(\"proscenium\").setLevel(logging.INFO)\n",
        "logging.getLogger(\"bartlebot\").setLevel(logging.INFO)\n",
        "\n",
        "from proscenium.verbs.display import header\n",
        "from rich.console import Console\n",
        "console = Console()\n",
        "console.print(header())\n",
        "\n",
        "import nest_asyncio\n",
        "nest_asyncio.apply()"
      ],
      "metadata": {
        "id": "XD6ahCTVDQBA"
      },
      "execution_count": null,
      "outputs": []
    },
    {
      "cell_type": "markdown",
      "source": [
        "## Create Production with Scenes, Characters, and Props"
      ],
      "metadata": {
        "id": "PyLfwhuZS-qd"
      }
    },
    {
      "cell_type": "code",
      "source": [
        "from pathlib import Path\n",
        "from proscenium.bin import production_from_config\n",
        "\n",
        "config_file = Path(\"demo/demo.yml\")\n",
        "\n",
        "production, config = production_from_config(\n",
        "    config_file, get_secret, console\n",
        ")"
      ],
      "metadata": {
        "id": "zVrS4Q-rSqzs"
      },
      "execution_count": null,
      "outputs": []
    },
    {
      "cell_type": "markdown",
      "source": [
        "## Prepare all Data Dependencies"
      ],
      "metadata": {
        "id": "btbnJFd7N1qI"
      }
    },
    {
      "cell_type": "code",
      "source": [
        "production.prepare_props()"
      ],
      "metadata": {
        "id": "SDyRu5fdHNuR"
      },
      "execution_count": null,
      "outputs": []
    },
    {
      "cell_type": "markdown",
      "source": [
        "## Attach Production to Slack Server\n",
        "\n"
      ],
      "metadata": {
        "id": "l_jnSZtIWCzU"
      }
    },
    {
      "cell_type": "code",
      "source": [
        "from proscenium.interfaces.slack import slack_main\n",
        "\n",
        "_ = get_secret(\"SLACK_APP_TOKEN\")\n",
        "_ = get_secret(\"SLACK_BOT_TOKEN\")\n",
        "\n",
        "slack_main(production, config, console)"
      ],
      "metadata": {
        "id": "34clqHFqKXIZ"
      },
      "execution_count": null,
      "outputs": []
    }
  ]
}