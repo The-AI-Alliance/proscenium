{
  "nbformat": 4,
  "nbformat_minor": 0,
  "metadata": {
    "colab": {
      "provenance": []
    },
    "kernelspec": {
      "name": "python3",
      "display_name": "Python 3"
    },
    "language_info": {
      "name": "python"
    }
  },
  "cells": [
    {
      "cell_type": "markdown",
      "source": [
        "# Proscenium Slack Demo"
      ],
      "metadata": {
        "id": "cPk1pKkYPLxH"
      }
    },
    {
      "cell_type": "markdown",
      "source": [
        "## Install Proscenium"
      ],
      "metadata": {
        "id": "M0mOPbN_DWOu"
      }
    },
    {
      "cell_type": "code",
      "source": [
        "!pip install proscenium\n",
        "!pip install lapidarist"
      ],
      "metadata": {
        "collapsed": true,
        "id": "_6JJncvsDQIW"
      },
      "execution_count": null,
      "outputs": []
    },
    {
      "cell_type": "markdown",
      "source": [
        "## Install Demo code and dependencies"
      ],
      "metadata": {
        "id": "HfNbdWXgPZYZ"
      }
    },
    {
      "cell_type": "code",
      "source": [
        "!pwd\n",
        "!git clone https://github.com/The-AI-Alliance/proscenium.git\n",
        "%cd proscenium\n",
        "!pwd\n",
        "!python -m pip install \".[test]\"\n",
        "%cd tests\n",
        "!pwd\n"
      ],
      "metadata": {
        "id": "u232yihmPSbg"
      },
      "execution_count": null,
      "outputs": []
    },
    {
      "cell_type": "markdown",
      "source": [
        "## Configure"
      ],
      "metadata": {
        "id": "Be4_fm1dNyv-"
      }
    },
    {
      "cell_type": "code",
      "source": [
        "from proscenium.util import get_secret\n",
        "_ = get_secret(\"TOGETHER_API_KEY\")\n",
        "\n",
        "import logging\n",
        "log = logging.getLogger(__name__)\n",
        "log.setLevel(logging.INFO)\n",
        "logging.getLogger(\"proscenium\").setLevel(logging.INFO)\n",
        "logging.getLogger(\"bartlebot\").setLevel(logging.INFO)\n",
        "\n",
        "from proscenium.verbs.display import header\n",
        "from rich.console import Console\n",
        "console = Console()\n",
        "console.print(header())\n",
        "\n",
        "import nest_asyncio\n",
        "nest_asyncio.apply()\n",
        "\n",
        "from pathlib import Path\n",
        "config_file = Path(\"demo/demo.yml\")"
      ],
      "metadata": {
        "id": "XD6ahCTVDQBA"
      },
      "execution_count": null,
      "outputs": []
    },
    {
      "cell_type": "markdown",
      "source": [
        "## Create Production with Scenes, Characters, and Props"
      ],
      "metadata": {
        "id": "PyLfwhuZS-qd"
      }
    },
    {
      "cell_type": "code",
      "source": [
        "\n",
        "from proscenium.bin import production_from_config\n",
        "\n",
        "\n",
        "production, config = production_from_config(\n",
        "    config_file, get_secret, console\n",
        ")"
      ],
      "metadata": {
        "id": "zVrS4Q-rSqzs"
      },
      "execution_count": null,
      "outputs": []
    },
    {
      "cell_type": "markdown",
      "source": [
        "## Prepare all Data Dependencies"
      ],
      "metadata": {
        "id": "btbnJFd7N1qI"
      }
    },
    {
      "cell_type": "code",
      "source": [
        "production.prepare_props()"
      ],
      "metadata": {
        "id": "SDyRu5fdHNuR"
      },
      "execution_count": null,
      "outputs": []
    },
    {
      "cell_type": "markdown",
      "source": [
        "## Attach Production to Slack Server\n",
        "\n"
      ],
      "metadata": {
        "id": "l_jnSZtIWCzU"
      }
    },
    {
      "cell_type": "code",
      "source": [
        "from proscenium.interfaces.slack import slack_main\n",
        "\n",
        "_ = get_secret(\"SLACK_APP_TOKEN\")\n",
        "_ = get_secret(\"SLACK_BOT_TOKEN\")\n",
        "\n",
        "slack_main(production, config, console)"
      ],
      "metadata": {
        "id": "34clqHFqKXIZ"
      },
      "execution_count": null,
      "outputs": []
    }
  ]
}