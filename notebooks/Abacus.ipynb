{
 "cells": [
  {
   "cell_type": "code",
   "execution_count": null,
   "metadata": {
    "id": "mr43wzP-ekNr"
   },
   "outputs": [],
   "source": [
    "!git clone https://github.com/The-AI-Alliance/proscenium.git"
   ]
  },
  {
   "cell_type": "code",
   "execution_count": null,
   "metadata": {
    "id": "V5FNMWc-fTlp"
   },
   "outputs": [],
   "source": [
    "%cd proscenium"
   ]
  },
  {
   "cell_type": "code",
   "execution_count": null,
   "metadata": {
    "id": "ifnHtqSmfOPc"
   },
   "outputs": [],
   "source": [
    "!python -m pip install ."
   ]
  },
  {
   "cell_type": "code",
   "execution_count": null,
   "metadata": {
    "id": "KCD-bj-_f7Ff"
   },
   "outputs": [],
   "source": [
    "try:\n",
    "    from google.colab import userdata\n",
    "    import os\n",
    "    api_key = userdata.get('TOGETHER_API_KEY')\n",
    "    os.environ['TOGETHER_API_KEY'] = api_key\n",
    "    print(\"Pulled secrets from colab userdata\")\n",
    "except ImportError:\n",
    "    print(\"Not in colab.  Relying on environment variables\")"
   ]
  },
  {
   "cell_type": "code",
   "execution_count": null,
   "metadata": {
    "id": "OpI3i1QPenAP"
   },
   "outputs": [],
   "source": [
    "from gofannon.basic_math.addition import Addition\n",
    "from gofannon.basic_math.subtraction import Subtraction\n",
    "from gofannon.basic_math.multiplication import Multiplication\n",
    "from gofannon.basic_math.division import Division\n",
    "\n",
    "from proscenium.verbs.invoke import process_tools\n",
    "\n",
    "tools = [Addition, Subtraction, Multiplication, Division]\n",
    "\n",
    "tool_map, tool_desc_list = process_tools(tools)"
   ]
  },
  {
   "cell_type": "code",
   "execution_count": null,
   "metadata": {
    "id": "wAk0r3zMibod"
   },
   "outputs": [],
   "source": [
    "# This notebook uses an older version of Llama because newer ones hosted on Together seem to\n",
    "# strongly prefer applying their own calculator tools\n",
    "\n",
    "model_id = \"together:meta-llama/Meta-Llama-3.1-70B-Instruct-Turbo\""
   ]
  },
  {
   "cell_type": "code",
   "execution_count": null,
   "metadata": {
    "id": "SCl-IMNUenDG"
   },
   "outputs": [],
   "source": [
    "question = \"What is 33312+458?\""
   ]
  },
  {
   "cell_type": "code",
   "execution_count": null,
   "metadata": {
    "id": "_7AeAU8rholS"
   },
   "outputs": [],
   "source": [
    "from proscenium.scripts.tools import apply_tools\n",
    "\n",
    "answer = apply_tools(\n",
    "    model_id = model_id,\n",
    "    system_message = \"\"\"\"\n",
    "Use the tools specified in this request to perform the arithmeticin the user's question.\n",
    "Do not use any other tools.\n",
    "\"\"\",\n",
    "    message = question,\n",
    "    tool_desc_list = tool_desc_list,\n",
    "    tool_map = tool_map,\n",
    "    rich_output = True\n",
    ")"
   ]
  },
  {
   "cell_type": "code",
   "execution_count": null,
   "metadata": {
    "id": "GtzWB4Fmem9p"
   },
   "outputs": [],
   "source": [
    "from rich import print\n",
    "from rich.panel import Panel\n",
    "\n",
    "print(Panel(answer, title=\"Answer\"))"
   ]
  }
 ],
 "metadata": {
  "colab": {
   "provenance": []
  },
  "kernelspec": {
   "display_name": "Python 3 (ipykernel)",
   "language": "python",
   "name": "python3"
  },
  "language_info": {
   "codemirror_mode": {
    "name": "ipython",
    "version": 3
   },
   "file_extension": ".py",
   "mimetype": "text/x-python",
   "name": "python",
   "nbconvert_exporter": "python",
   "pygments_lexer": "ipython3",
   "version": "3.13.2"
  }
 },
 "nbformat": 4,
 "nbformat_minor": 4
}
