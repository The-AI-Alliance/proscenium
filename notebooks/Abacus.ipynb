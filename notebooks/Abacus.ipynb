{
  "nbformat": 4,
  "nbformat_minor": 0,
  "metadata": {
    "colab": {
      "provenance": []
    },
    "kernelspec": {
      "name": "python3",
      "display_name": "Python 3"
    },
    "language_info": {
      "name": "python"
    }
  },
  "cells": [
    {
      "cell_type": "markdown",
      "source": [
        "# Abacus Demo"
      ],
      "metadata": {
        "id": "9WEVC0JPPTAI"
      }
    },
    {
      "cell_type": "markdown",
      "source": [
        "## Install Proscenium"
      ],
      "metadata": {
        "id": "M0mOPbN_DWOu"
      }
    },
    {
      "cell_type": "code",
      "source": [
        "!git clone https://github.com/The-AI-Alliance/proscenium.git"
      ],
      "metadata": {
        "collapsed": true,
        "id": "_6JJncvsDQIW"
      },
      "execution_count": null,
      "outputs": []
    },
    {
      "cell_type": "code",
      "execution_count": null,
      "metadata": {
        "id": "inI9Ic9VDMtD"
      },
      "outputs": [],
      "source": [
        "%cd proscenium"
      ]
    },
    {
      "cell_type": "code",
      "source": [
        "!python -m pip install ."
      ],
      "metadata": {
        "collapsed": true,
        "id": "_c6q87QsDQF-"
      },
      "execution_count": null,
      "outputs": []
    },
    {
      "cell_type": "markdown",
      "source": [
        "## Configure"
      ],
      "metadata": {
        "id": "Be4_fm1dNyv-"
      }
    },
    {
      "cell_type": "code",
      "source": [
        "from proscenium.util import get_secret\n",
        "_ = get_secret(\"TOGETHER_API_KEY\")\n",
        "\n",
        "import logging\n",
        "log = logging.getLogger(__name__)\n",
        "log.setLevel(logging.INFO)\n",
        "logging.getLogger(\"proscenium\").setLevel(logging.INFO)\n",
        "logging.getLogger(\"bartlebot\").setLevel(logging.INFO)\n",
        "\n",
        "from proscenium.verbs.display import header\n",
        "from rich.console import Console\n",
        "console = Console()\n",
        "console.print(header())"
      ],
      "metadata": {
        "id": "XD6ahCTVDQBA"
      },
      "execution_count": null,
      "outputs": []
    },
    {
      "cell_type": "markdown",
      "source": [
        "## Create Abacus Character, and ask it to handle a question"
      ],
      "metadata": {
        "id": "btbnJFd7N1qI"
      }
    },
    {
      "cell_type": "code",
      "source": [
        "from demo.scenes.abacus import Abacus\n",
        "\n",
        "model_id = \"together:meta-llama/Llama-4-Maverick-17B-128E-Instruct-FP8\"\n",
        "\n",
        "abacus = Abacus(None, model_id, model_id)"
      ],
      "metadata": {
        "id": "SDyRu5fdHNuR"
      },
      "execution_count": null,
      "outputs": []
    },
    {
      "cell_type": "code",
      "source": [
        "question = \"What is 1 + 2?\""
      ],
      "metadata": {
        "id": "_gt-9y_-KF2c"
      },
      "execution_count": null,
      "outputs": []
    },
    {
      "cell_type": "code",
      "source": [
        "from rich.panel import Panel\n",
        "\n",
        "for channel_id, answer in abacus.handle(None, None, question):\n",
        "    console.print(Panel(answer, title=\"Answer\"))"
      ],
      "metadata": {
        "id": "34clqHFqKXIZ"
      },
      "execution_count": null,
      "outputs": []
    },
    {
      "cell_type": "markdown",
      "source": [
        "## Inspect the implementation"
      ],
      "metadata": {
        "id": "oaBMIsEQN8D2"
      }
    },
    {
      "cell_type": "code",
      "source": [
        "!cat demo/scenes/abacus/__init__.py"
      ],
      "metadata": {
        "id": "ig0p4FlHKnxy"
      },
      "execution_count": null,
      "outputs": []
    }
  ]
}