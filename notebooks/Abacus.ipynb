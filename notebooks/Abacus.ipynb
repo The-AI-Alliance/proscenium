{
  "nbformat": 4,
  "nbformat_minor": 0,
  "metadata": {
    "colab": {
      "provenance": []
    },
    "kernelspec": {
      "name": "python3",
      "display_name": "Python 3"
    },
    "language_info": {
      "name": "python"
    }
  },
  "cells": [
    {
      "cell_type": "code",
      "execution_count": null,
      "metadata": {
        "collapsed": true,
        "id": "mr43wzP-ekNr"
      },
      "outputs": [],
      "source": [
        "!git clone https://github.com/The-AI-Alliance/proscenium.git"
      ]
    },
    {
      "cell_type": "code",
      "source": [
        "%cd proscenium"
      ],
      "metadata": {
        "id": "V5FNMWc-fTlp"
      },
      "execution_count": null,
      "outputs": []
    },
    {
      "cell_type": "code",
      "source": [
        "!python -m pip install ."
      ],
      "metadata": {
        "collapsed": true,
        "id": "ifnHtqSmfOPc"
      },
      "execution_count": null,
      "outputs": []
    },
    {
      "cell_type": "code",
      "source": [
        "import os\n",
        "from google.colab import userdata\n",
        "\n",
        "api_key = userdata.get('TOGETHER_API_KEY')\n",
        "os.environ['TOGETHER_API_KEY'] = api_key"
      ],
      "metadata": {
        "id": "KCD-bj-_f7Ff"
      },
      "execution_count": null,
      "outputs": []
    },
    {
      "cell_type": "code",
      "source": [
        "from gofannon.basic_math.addition import Addition\n",
        "from gofannon.basic_math.subtraction import Subtraction\n",
        "from gofannon.basic_math.multiplication import Multiplication\n",
        "from gofannon.basic_math.division import Division\n",
        "\n",
        "from proscenium.verbs.invoke import process_tools\n",
        "\n",
        "tools = [Addition, Subtraction, Multiplication, Division]\n",
        "\n",
        "tool_map, tool_desc_list = process_tools(tools)"
      ],
      "metadata": {
        "id": "OpI3i1QPenAP"
      },
      "execution_count": null,
      "outputs": []
    },
    {
      "cell_type": "code",
      "source": [
        "# This notebook uses an older version of Llama because newer ones hosted on Together seem to\n",
        "# strongly prefer applying their own calculator tools\n",
        "\n",
        "model_id = \"together:meta-llama/Meta-Llama-3.1-70B-Instruct-Turbo\""
      ],
      "metadata": {
        "id": "wAk0r3zMibod"
      },
      "execution_count": null,
      "outputs": []
    },
    {
      "cell_type": "code",
      "source": [
        "question = \"What is 33312+458?\""
      ],
      "metadata": {
        "id": "SCl-IMNUenDG"
      },
      "execution_count": null,
      "outputs": []
    },
    {
      "cell_type": "code",
      "source": [
        "from proscenium.scripts.tools import apply_tools\n",
        "\n",
        "answer = apply_tools(\n",
        "    model_id = model_id,\n",
        "    system_message = \"\"\"\"\n",
        "Use the tools specified in this request to perform the arithmeticin the user's question.\n",
        "Do not use any other tools.\n",
        "\"\"\",\n",
        "    message = question,\n",
        "    tool_desc_list = tool_desc_list,\n",
        "    tool_map = tool_map,\n",
        "    rich_output = True\n",
        ")"
      ],
      "metadata": {
        "id": "_7AeAU8rholS"
      },
      "execution_count": null,
      "outputs": []
    },
    {
      "cell_type": "code",
      "source": [
        "from rich import print\n",
        "from rich.panel import Panel"
      ],
      "metadata": {
        "id": "GtzWB4Fmem9p"
      },
      "execution_count": null,
      "outputs": []
    },
    {
      "cell_type": "code",
      "source": [
        "print(Panel(answer, title=\"Answer\"))\n"
      ],
      "metadata": {
        "id": "-9lCXhbDe4Xb"
      },
      "execution_count": null,
      "outputs": []
    }
  ]
}