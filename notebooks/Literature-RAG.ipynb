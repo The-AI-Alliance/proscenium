{
  "nbformat": 4,
  "nbformat_minor": 0,
  "metadata": {
    "colab": {
      "provenance": []
    },
    "kernelspec": {
      "name": "python3",
      "display_name": "Python 3"
    },
    "language_info": {
      "name": "python"
    }
  },
  "cells": [
    {
      "cell_type": "code",
      "execution_count": 1,
      "metadata": {
        "colab": {
          "base_uri": "https://localhost:8080/"
        },
        "id": "E1FxfLnYmRY7",
        "outputId": "a6be2b08-ee5c-4a0e-e81f-64340667cce1"
      },
      "outputs": [
        {
          "output_type": "stream",
          "name": "stdout",
          "text": [
            "fatal: destination path 'proscenium' already exists and is not an empty directory.\n"
          ]
        }
      ],
      "source": [
        "!git clone https://github.com/The-AI-Alliance/proscenium.git"
      ]
    },
    {
      "cell_type": "code",
      "source": [
        "%cd proscenium"
      ],
      "metadata": {
        "colab": {
          "base_uri": "https://localhost:8080/"
        },
        "id": "ggeRbYZ9mSsa",
        "outputId": "792f2c7f-64a4-487c-8d75-327aa9741e1c"
      },
      "execution_count": 2,
      "outputs": [
        {
          "output_type": "stream",
          "name": "stdout",
          "text": [
            "/content/proscenium\n"
          ]
        }
      ]
    },
    {
      "cell_type": "code",
      "source": [
        "!python -m pip install ."
      ],
      "metadata": {
        "colab": {
          "base_uri": "https://localhost:8080/"
        },
        "collapsed": true,
        "id": "u_UwY3bfmSqE",
        "outputId": "440ad195-ec18-4ef5-b3fb-5f8e39c2dbc7"
      },
      "execution_count": 3,
      "outputs": [
        {
          "output_type": "stream",
          "name": "stdout",
          "text": [
            "Processing /content/proscenium\n",
            "  Installing build dependencies ... \u001b[?25l\u001b[?25hdone\n",
            "  Getting requirements to build wheel ... \u001b[?25l\u001b[?25hdone\n",
            "  Preparing metadata (pyproject.toml) ... \u001b[?25l\u001b[?25hdone\n",
            "Requirement already satisfied: aisuite<0.2.0,>=0.1.10 in /usr/local/lib/python3.11/dist-packages (from aisuite[anthropic,openai]<0.2.0,>=0.1.10->proscenium==0.0.1.dev0) (0.1.10)\n",
            "Collecting datasets<4.0.0,>=3.3.2 (from proscenium==0.0.1.dev0)\n",
            "  Using cached datasets-3.4.1-py3-none-any.whl.metadata (19 kB)\n",
            "Requirement already satisfied: docstring_parser<0.17,>=0.16 in /usr/local/lib/python3.11/dist-packages (from proscenium==0.0.1.dev0) (0.16)\n",
            "Collecting eyecite<3.0.0,>=2.6.11 (from proscenium==0.0.1.dev0)\n",
            "  Using cached eyecite-2.6.11-py3-none-any.whl.metadata (22 kB)\n",
            "Collecting gofannon<0.26.0,>=0.25.11 (from proscenium==0.0.1.dev0)\n",
            "  Using cached gofannon-0.25.13-py3-none-any.whl.metadata (6.0 kB)\n",
            "Requirement already satisfied: langchain-community<0.4.0,>=0.3.18 in /usr/local/lib/python3.11/dist-packages (from proscenium==0.0.1.dev0) (0.3.20)\n",
            "Collecting langchain-huggingface<0.2.0,>=0.1.2 (from proscenium==0.0.1.dev0)\n",
            "  Using cached langchain_huggingface-0.1.2-py3-none-any.whl.metadata (1.3 kB)\n",
            "Collecting neo4j<6.0.0,>=5.28.1 (from proscenium==0.0.1.dev0)\n",
            "  Using cached neo4j-5.28.1-py3-none-any.whl.metadata (5.9 kB)\n",
            "Requirement already satisfied: pydantic<3.0.0,>=2.10.6 in /usr/local/lib/python3.11/dist-packages (from proscenium==0.0.1.dev0) (2.10.6)\n",
            "Requirement already satisfied: pymilvus<3.0.0,>=2.5.4 in /usr/local/lib/python3.11/dist-packages (from pymilvus[model]<3.0.0,>=2.5.4->proscenium==0.0.1.dev0) (2.5.6)\n",
            "Requirement already satisfied: python-dotenv<2.0.0,>=1.0.1 in /usr/local/lib/python3.11/dist-packages (from proscenium==0.0.1.dev0) (1.0.1)\n",
            "Requirement already satisfied: rich<14.0.0,>=13.9.4 in /usr/local/lib/python3.11/dist-packages (from proscenium==0.0.1.dev0) (13.9.4)\n",
            "Collecting stringcase<2.0.0,>=1.2.0 (from proscenium==0.0.1.dev0)\n",
            "  Using cached stringcase-1.2.0.tar.gz (3.0 kB)\n",
            "  Preparing metadata (setup.py) ... \u001b[?25l\u001b[?25hdone\n",
            "Collecting thespian<5.0.0,>=4.0.0 (from proscenium==0.0.1.dev0)\n",
            "  Using cached thespian-4.0.1.tar.gz (437 kB)\n",
            "  Preparing metadata (setup.py) ... \u001b[?25l\u001b[?25hdone\n",
            "Collecting tiktoken<0.10.0,>=0.9.0 (from proscenium==0.0.1.dev0)\n",
            "  Using cached tiktoken-0.9.0-cp311-cp311-manylinux_2_17_x86_64.manylinux2014_x86_64.whl.metadata (6.7 kB)\n",
            "Requirement already satisfied: typer<0.16.0,>=0.15.2 in /usr/local/lib/python3.11/dist-packages (from proscenium==0.0.1.dev0) (0.15.2)\n",
            "Requirement already satisfied: httpx<0.28.0,>=0.27.0 in /usr/local/lib/python3.11/dist-packages (from aisuite<0.2.0,>=0.1.10->aisuite[anthropic,openai]<0.2.0,>=0.1.10->proscenium==0.0.1.dev0) (0.27.2)\n",
            "Collecting anthropic<0.31.0,>=0.30.1 (from aisuite[anthropic,openai]<0.2.0,>=0.1.10->proscenium==0.0.1.dev0)\n",
            "  Using cached anthropic-0.30.1-py3-none-any.whl.metadata (18 kB)\n",
            "Requirement already satisfied: openai<2.0.0,>=1.35.8 in /usr/local/lib/python3.11/dist-packages (from aisuite[anthropic,openai]<0.2.0,>=0.1.10->proscenium==0.0.1.dev0) (1.66.5)\n",
            "Requirement already satisfied: filelock in /usr/local/lib/python3.11/dist-packages (from datasets<4.0.0,>=3.3.2->proscenium==0.0.1.dev0) (3.18.0)\n",
            "Requirement already satisfied: numpy>=1.17 in /usr/local/lib/python3.11/dist-packages (from datasets<4.0.0,>=3.3.2->proscenium==0.0.1.dev0) (2.0.2)\n",
            "Requirement already satisfied: pyarrow>=15.0.0 in /usr/local/lib/python3.11/dist-packages (from datasets<4.0.0,>=3.3.2->proscenium==0.0.1.dev0) (18.1.0)\n",
            "Collecting dill<0.3.9,>=0.3.0 (from datasets<4.0.0,>=3.3.2->proscenium==0.0.1.dev0)\n",
            "  Using cached dill-0.3.8-py3-none-any.whl.metadata (10 kB)\n",
            "Requirement already satisfied: pandas in /usr/local/lib/python3.11/dist-packages (from datasets<4.0.0,>=3.3.2->proscenium==0.0.1.dev0) (2.2.2)\n",
            "Requirement already satisfied: requests>=2.32.2 in /usr/local/lib/python3.11/dist-packages (from datasets<4.0.0,>=3.3.2->proscenium==0.0.1.dev0) (2.32.3)\n",
            "Requirement already satisfied: tqdm>=4.66.3 in /usr/local/lib/python3.11/dist-packages (from datasets<4.0.0,>=3.3.2->proscenium==0.0.1.dev0) (4.67.1)\n",
            "Collecting xxhash (from datasets<4.0.0,>=3.3.2->proscenium==0.0.1.dev0)\n",
            "  Using cached xxhash-3.5.0-cp311-cp311-manylinux_2_17_x86_64.manylinux2014_x86_64.whl.metadata (12 kB)\n",
            "Collecting multiprocess<0.70.17 (from datasets<4.0.0,>=3.3.2->proscenium==0.0.1.dev0)\n",
            "  Using cached multiprocess-0.70.16-py311-none-any.whl.metadata (7.2 kB)\n",
            "Collecting fsspec<=2024.12.0,>=2023.1.0 (from fsspec[http]<=2024.12.0,>=2023.1.0->datasets<4.0.0,>=3.3.2->proscenium==0.0.1.dev0)\n",
            "  Using cached fsspec-2024.12.0-py3-none-any.whl.metadata (11 kB)\n",
            "Requirement already satisfied: aiohttp in /usr/local/lib/python3.11/dist-packages (from datasets<4.0.0,>=3.3.2->proscenium==0.0.1.dev0) (3.11.14)\n",
            "Requirement already satisfied: huggingface-hub>=0.24.0 in /usr/local/lib/python3.11/dist-packages (from datasets<4.0.0,>=3.3.2->proscenium==0.0.1.dev0) (0.29.3)\n",
            "Requirement already satisfied: packaging in /usr/local/lib/python3.11/dist-packages (from datasets<4.0.0,>=3.3.2->proscenium==0.0.1.dev0) (24.2)\n",
            "Requirement already satisfied: pyyaml>=5.1 in /usr/local/lib/python3.11/dist-packages (from datasets<4.0.0,>=3.3.2->proscenium==0.0.1.dev0) (6.0.2)\n",
            "Collecting courts-db>=0.10.9 (from eyecite<3.0.0,>=2.6.11->proscenium==0.0.1.dev0)\n",
            "  Using cached courts_db-0.10.25-py2.py3-none-any.whl.metadata (6.5 kB)\n",
            "Collecting fast-diff-match-patch>=2.0.0 (from eyecite<3.0.0,>=2.6.11->proscenium==0.0.1.dev0)\n",
            "  Using cached fast_diff_match_patch-2.1.0-cp311-cp311-manylinux_2_17_x86_64.manylinux2014_x86_64.whl.metadata (5.2 kB)\n",
            "Requirement already satisfied: lxml>=4.6.3 in /usr/local/lib/python3.11/dist-packages (from eyecite<3.0.0,>=2.6.11->proscenium==0.0.1.dev0) (5.3.1)\n",
            "Collecting pyahocorasick>=1.2 (from eyecite<3.0.0,>=2.6.11->proscenium==0.0.1.dev0)\n",
            "  Using cached pyahocorasick-2.1.0-cp311-cp311-manylinux_2_17_x86_64.manylinux2014_x86_64.whl.metadata (13 kB)\n",
            "Requirement already satisfied: regex>=2020.1.8 in /usr/local/lib/python3.11/dist-packages (from eyecite<3.0.0,>=2.6.11->proscenium==0.0.1.dev0) (2024.11.6)\n",
            "Collecting reporters-db>=3.2.53 (from eyecite<3.0.0,>=2.6.11->proscenium==0.0.1.dev0)\n",
            "  Using cached reporters_db-3.2.54-py2.py3-none-any.whl.metadata (13 kB)\n",
            "Requirement already satisfied: GitPython<4.0.0,>=3.1.43 in /usr/local/lib/python3.11/dist-packages (from gofannon<0.26.0,>=0.25.11->proscenium==0.0.1.dev0) (3.1.44)\n",
            "Requirement already satisfied: jsonschema<5.0.0,>=4.23.0 in /usr/local/lib/python3.11/dist-packages (from gofannon<0.26.0,>=0.25.11->proscenium==0.0.1.dev0) (4.23.0)\n",
            "Collecting pygithub<3.0.0,>=2.6.1 (from gofannon<0.26.0,>=0.25.11->proscenium==0.0.1.dev0)\n",
            "  Using cached PyGithub-2.6.1-py3-none-any.whl.metadata (3.9 kB)\n",
            "Requirement already satisfied: langchain-core<1.0.0,>=0.3.45 in /usr/local/lib/python3.11/dist-packages (from langchain-community<0.4.0,>=0.3.18->proscenium==0.0.1.dev0) (0.3.46)\n",
            "Requirement already satisfied: langchain<1.0.0,>=0.3.21 in /usr/local/lib/python3.11/dist-packages (from langchain-community<0.4.0,>=0.3.18->proscenium==0.0.1.dev0) (0.3.21)\n",
            "Requirement already satisfied: SQLAlchemy<3,>=1.4 in /usr/local/lib/python3.11/dist-packages (from langchain-community<0.4.0,>=0.3.18->proscenium==0.0.1.dev0) (2.0.39)\n",
            "Requirement already satisfied: tenacity!=8.4.0,<10,>=8.1.0 in /usr/local/lib/python3.11/dist-packages (from langchain-community<0.4.0,>=0.3.18->proscenium==0.0.1.dev0) (9.0.0)\n",
            "Requirement already satisfied: dataclasses-json<0.7,>=0.5.7 in /usr/local/lib/python3.11/dist-packages (from langchain-community<0.4.0,>=0.3.18->proscenium==0.0.1.dev0) (0.6.7)\n",
            "Requirement already satisfied: pydantic-settings<3.0.0,>=2.4.0 in /usr/local/lib/python3.11/dist-packages (from langchain-community<0.4.0,>=0.3.18->proscenium==0.0.1.dev0) (2.8.1)\n",
            "Requirement already satisfied: langsmith<0.4,>=0.1.125 in /usr/local/lib/python3.11/dist-packages (from langchain-community<0.4.0,>=0.3.18->proscenium==0.0.1.dev0) (0.3.18)\n",
            "Requirement already satisfied: httpx-sse<1.0.0,>=0.4.0 in /usr/local/lib/python3.11/dist-packages (from langchain-community<0.4.0,>=0.3.18->proscenium==0.0.1.dev0) (0.4.0)\n",
            "Requirement already satisfied: sentence-transformers>=2.6.0 in /usr/local/lib/python3.11/dist-packages (from langchain-huggingface<0.2.0,>=0.1.2->proscenium==0.0.1.dev0) (3.4.1)\n",
            "Requirement already satisfied: tokenizers>=0.19.1 in /usr/local/lib/python3.11/dist-packages (from langchain-huggingface<0.2.0,>=0.1.2->proscenium==0.0.1.dev0) (0.21.1)\n",
            "Requirement already satisfied: transformers>=4.39.0 in /usr/local/lib/python3.11/dist-packages (from langchain-huggingface<0.2.0,>=0.1.2->proscenium==0.0.1.dev0) (4.49.0)\n",
            "Requirement already satisfied: pytz in /usr/local/lib/python3.11/dist-packages (from neo4j<6.0.0,>=5.28.1->proscenium==0.0.1.dev0) (2025.1)\n",
            "Requirement already satisfied: annotated-types>=0.6.0 in /usr/local/lib/python3.11/dist-packages (from pydantic<3.0.0,>=2.10.6->proscenium==0.0.1.dev0) (0.7.0)\n",
            "Requirement already satisfied: pydantic-core==2.27.2 in /usr/local/lib/python3.11/dist-packages (from pydantic<3.0.0,>=2.10.6->proscenium==0.0.1.dev0) (2.27.2)\n",
            "Requirement already satisfied: typing-extensions>=4.12.2 in /usr/local/lib/python3.11/dist-packages (from pydantic<3.0.0,>=2.10.6->proscenium==0.0.1.dev0) (4.12.2)\n",
            "Requirement already satisfied: setuptools>69 in /usr/local/lib/python3.11/dist-packages (from pymilvus<3.0.0,>=2.5.4->pymilvus[model]<3.0.0,>=2.5.4->proscenium==0.0.1.dev0) (75.1.0)\n",
            "Requirement already satisfied: grpcio<=1.67.1,>=1.49.1 in /usr/local/lib/python3.11/dist-packages (from pymilvus<3.0.0,>=2.5.4->pymilvus[model]<3.0.0,>=2.5.4->proscenium==0.0.1.dev0) (1.67.1)\n",
            "Requirement already satisfied: protobuf>=3.20.0 in /usr/local/lib/python3.11/dist-packages (from pymilvus<3.0.0,>=2.5.4->pymilvus[model]<3.0.0,>=2.5.4->proscenium==0.0.1.dev0) (5.29.4)\n",
            "Requirement already satisfied: ujson>=2.0.0 in /usr/local/lib/python3.11/dist-packages (from pymilvus<3.0.0,>=2.5.4->pymilvus[model]<3.0.0,>=2.5.4->proscenium==0.0.1.dev0) (5.10.0)\n",
            "Requirement already satisfied: milvus-lite>=2.4.0 in /usr/local/lib/python3.11/dist-packages (from pymilvus<3.0.0,>=2.5.4->pymilvus[model]<3.0.0,>=2.5.4->proscenium==0.0.1.dev0) (2.4.12)\n",
            "Requirement already satisfied: pymilvus.model>=0.3.0 in /usr/local/lib/python3.11/dist-packages (from pymilvus[model]<3.0.0,>=2.5.4->proscenium==0.0.1.dev0) (0.3.1)\n",
            "Requirement already satisfied: markdown-it-py>=2.2.0 in /usr/local/lib/python3.11/dist-packages (from rich<14.0.0,>=13.9.4->proscenium==0.0.1.dev0) (3.0.0)\n",
            "Requirement already satisfied: pygments<3.0.0,>=2.13.0 in /usr/local/lib/python3.11/dist-packages (from rich<14.0.0,>=13.9.4->proscenium==0.0.1.dev0) (2.18.0)\n",
            "Requirement already satisfied: click>=8.0.0 in /usr/local/lib/python3.11/dist-packages (from typer<0.16.0,>=0.15.2->proscenium==0.0.1.dev0) (8.1.8)\n",
            "Requirement already satisfied: shellingham>=1.3.0 in /usr/local/lib/python3.11/dist-packages (from typer<0.16.0,>=0.15.2->proscenium==0.0.1.dev0) (1.5.4)\n",
            "Requirement already satisfied: aiohappyeyeballs>=2.3.0 in /usr/local/lib/python3.11/dist-packages (from aiohttp->datasets<4.0.0,>=3.3.2->proscenium==0.0.1.dev0) (2.6.1)\n",
            "Requirement already satisfied: aiosignal>=1.1.2 in /usr/local/lib/python3.11/dist-packages (from aiohttp->datasets<4.0.0,>=3.3.2->proscenium==0.0.1.dev0) (1.3.2)\n",
            "Requirement already satisfied: attrs>=17.3.0 in /usr/local/lib/python3.11/dist-packages (from aiohttp->datasets<4.0.0,>=3.3.2->proscenium==0.0.1.dev0) (25.3.0)\n",
            "Requirement already satisfied: frozenlist>=1.1.1 in /usr/local/lib/python3.11/dist-packages (from aiohttp->datasets<4.0.0,>=3.3.2->proscenium==0.0.1.dev0) (1.5.0)\n",
            "Requirement already satisfied: multidict<7.0,>=4.5 in /usr/local/lib/python3.11/dist-packages (from aiohttp->datasets<4.0.0,>=3.3.2->proscenium==0.0.1.dev0) (6.2.0)\n",
            "Requirement already satisfied: propcache>=0.2.0 in /usr/local/lib/python3.11/dist-packages (from aiohttp->datasets<4.0.0,>=3.3.2->proscenium==0.0.1.dev0) (0.3.0)\n",
            "Requirement already satisfied: yarl<2.0,>=1.17.0 in /usr/local/lib/python3.11/dist-packages (from aiohttp->datasets<4.0.0,>=3.3.2->proscenium==0.0.1.dev0) (1.18.3)\n",
            "Requirement already satisfied: anyio<5,>=3.5.0 in /usr/local/lib/python3.11/dist-packages (from anthropic<0.31.0,>=0.30.1->aisuite[anthropic,openai]<0.2.0,>=0.1.10->proscenium==0.0.1.dev0) (4.9.0)\n",
            "Requirement already satisfied: distro<2,>=1.7.0 in /usr/local/lib/python3.11/dist-packages (from anthropic<0.31.0,>=0.30.1->aisuite[anthropic,openai]<0.2.0,>=0.1.10->proscenium==0.0.1.dev0) (1.9.0)\n",
            "Requirement already satisfied: jiter<1,>=0.4.0 in /usr/local/lib/python3.11/dist-packages (from anthropic<0.31.0,>=0.30.1->aisuite[anthropic,openai]<0.2.0,>=0.1.10->proscenium==0.0.1.dev0) (0.9.0)\n",
            "Requirement already satisfied: sniffio in /usr/local/lib/python3.11/dist-packages (from anthropic<0.31.0,>=0.30.1->aisuite[anthropic,openai]<0.2.0,>=0.1.10->proscenium==0.0.1.dev0) (1.3.1)\n",
            "Requirement already satisfied: marshmallow<4.0.0,>=3.18.0 in /usr/local/lib/python3.11/dist-packages (from dataclasses-json<0.7,>=0.5.7->langchain-community<0.4.0,>=0.3.18->proscenium==0.0.1.dev0) (3.26.1)\n",
            "Requirement already satisfied: typing-inspect<1,>=0.4.0 in /usr/local/lib/python3.11/dist-packages (from dataclasses-json<0.7,>=0.5.7->langchain-community<0.4.0,>=0.3.18->proscenium==0.0.1.dev0) (0.9.0)\n",
            "Requirement already satisfied: gitdb<5,>=4.0.1 in /usr/local/lib/python3.11/dist-packages (from GitPython<4.0.0,>=3.1.43->gofannon<0.26.0,>=0.25.11->proscenium==0.0.1.dev0) (4.0.12)\n",
            "Requirement already satisfied: certifi in /usr/local/lib/python3.11/dist-packages (from httpx<0.28.0,>=0.27.0->aisuite<0.2.0,>=0.1.10->aisuite[anthropic,openai]<0.2.0,>=0.1.10->proscenium==0.0.1.dev0) (2025.1.31)\n",
            "Requirement already satisfied: httpcore==1.* in /usr/local/lib/python3.11/dist-packages (from httpx<0.28.0,>=0.27.0->aisuite<0.2.0,>=0.1.10->aisuite[anthropic,openai]<0.2.0,>=0.1.10->proscenium==0.0.1.dev0) (1.0.7)\n",
            "Requirement already satisfied: idna in /usr/local/lib/python3.11/dist-packages (from httpx<0.28.0,>=0.27.0->aisuite<0.2.0,>=0.1.10->aisuite[anthropic,openai]<0.2.0,>=0.1.10->proscenium==0.0.1.dev0) (3.10)\n",
            "Requirement already satisfied: h11<0.15,>=0.13 in /usr/local/lib/python3.11/dist-packages (from httpcore==1.*->httpx<0.28.0,>=0.27.0->aisuite<0.2.0,>=0.1.10->aisuite[anthropic,openai]<0.2.0,>=0.1.10->proscenium==0.0.1.dev0) (0.14.0)\n",
            "Requirement already satisfied: jsonschema-specifications>=2023.03.6 in /usr/local/lib/python3.11/dist-packages (from jsonschema<5.0.0,>=4.23.0->gofannon<0.26.0,>=0.25.11->proscenium==0.0.1.dev0) (2024.10.1)\n",
            "Requirement already satisfied: referencing>=0.28.4 in /usr/local/lib/python3.11/dist-packages (from jsonschema<5.0.0,>=4.23.0->gofannon<0.26.0,>=0.25.11->proscenium==0.0.1.dev0) (0.36.2)\n",
            "Requirement already satisfied: rpds-py>=0.7.1 in /usr/local/lib/python3.11/dist-packages (from jsonschema<5.0.0,>=4.23.0->gofannon<0.26.0,>=0.25.11->proscenium==0.0.1.dev0) (0.23.1)\n",
            "Requirement already satisfied: langchain-text-splitters<1.0.0,>=0.3.7 in /usr/local/lib/python3.11/dist-packages (from langchain<1.0.0,>=0.3.21->langchain-community<0.4.0,>=0.3.18->proscenium==0.0.1.dev0) (0.3.7)\n",
            "Requirement already satisfied: jsonpatch<2.0,>=1.33 in /usr/local/lib/python3.11/dist-packages (from langchain-core<1.0.0,>=0.3.45->langchain-community<0.4.0,>=0.3.18->proscenium==0.0.1.dev0) (1.33)\n",
            "Requirement already satisfied: orjson<4.0.0,>=3.9.14 in /usr/local/lib/python3.11/dist-packages (from langsmith<0.4,>=0.1.125->langchain-community<0.4.0,>=0.3.18->proscenium==0.0.1.dev0) (3.10.15)\n",
            "Requirement already satisfied: requests-toolbelt<2.0.0,>=1.0.0 in /usr/local/lib/python3.11/dist-packages (from langsmith<0.4,>=0.1.125->langchain-community<0.4.0,>=0.3.18->proscenium==0.0.1.dev0) (1.0.0)\n",
            "Requirement already satisfied: zstandard<0.24.0,>=0.23.0 in /usr/local/lib/python3.11/dist-packages (from langsmith<0.4,>=0.1.125->langchain-community<0.4.0,>=0.3.18->proscenium==0.0.1.dev0) (0.23.0)\n",
            "Requirement already satisfied: mdurl~=0.1 in /usr/local/lib/python3.11/dist-packages (from markdown-it-py>=2.2.0->rich<14.0.0,>=13.9.4->proscenium==0.0.1.dev0) (0.1.2)\n",
            "Requirement already satisfied: python-dateutil>=2.8.2 in /usr/local/lib/python3.11/dist-packages (from pandas->datasets<4.0.0,>=3.3.2->proscenium==0.0.1.dev0) (2.8.2)\n",
            "Requirement already satisfied: tzdata>=2022.7 in /usr/local/lib/python3.11/dist-packages (from pandas->datasets<4.0.0,>=3.3.2->proscenium==0.0.1.dev0) (2025.1)\n",
            "Collecting pynacl>=1.4.0 (from pygithub<3.0.0,>=2.6.1->gofannon<0.26.0,>=0.25.11->proscenium==0.0.1.dev0)\n",
            "  Using cached PyNaCl-1.5.0-cp36-abi3-manylinux_2_17_x86_64.manylinux2014_x86_64.manylinux_2_24_x86_64.whl.metadata (8.6 kB)\n",
            "Requirement already satisfied: pyjwt>=2.4.0 in /usr/local/lib/python3.11/dist-packages (from pyjwt[crypto]>=2.4.0->pygithub<3.0.0,>=2.6.1->gofannon<0.26.0,>=0.25.11->proscenium==0.0.1.dev0) (2.10.1)\n",
            "Requirement already satisfied: urllib3>=1.26.0 in /usr/local/lib/python3.11/dist-packages (from pygithub<3.0.0,>=2.6.1->gofannon<0.26.0,>=0.25.11->proscenium==0.0.1.dev0) (2.3.0)\n",
            "Requirement already satisfied: Deprecated in /usr/local/lib/python3.11/dist-packages (from pygithub<3.0.0,>=2.6.1->gofannon<0.26.0,>=0.25.11->proscenium==0.0.1.dev0) (1.2.18)\n",
            "Requirement already satisfied: onnxruntime in /usr/local/lib/python3.11/dist-packages (from pymilvus.model>=0.3.0->pymilvus[model]<3.0.0,>=2.5.4->proscenium==0.0.1.dev0) (1.21.0)\n",
            "Requirement already satisfied: scipy>=1.10.0 in /usr/local/lib/python3.11/dist-packages (from pymilvus.model>=0.3.0->pymilvus[model]<3.0.0,>=2.5.4->proscenium==0.0.1.dev0) (1.14.1)\n",
            "Requirement already satisfied: six>=1.0.0 in /usr/local/lib/python3.11/dist-packages (from reporters-db>=3.2.53->eyecite<3.0.0,>=2.6.11->proscenium==0.0.1.dev0) (1.17.0)\n",
            "Requirement already satisfied: charset-normalizer<4,>=2 in /usr/local/lib/python3.11/dist-packages (from requests>=2.32.2->datasets<4.0.0,>=3.3.2->proscenium==0.0.1.dev0) (3.4.1)\n",
            "Requirement already satisfied: torch>=1.11.0 in /usr/local/lib/python3.11/dist-packages (from sentence-transformers>=2.6.0->langchain-huggingface<0.2.0,>=0.1.2->proscenium==0.0.1.dev0) (2.6.0+cu124)\n",
            "Requirement already satisfied: scikit-learn in /usr/local/lib/python3.11/dist-packages (from sentence-transformers>=2.6.0->langchain-huggingface<0.2.0,>=0.1.2->proscenium==0.0.1.dev0) (1.6.1)\n",
            "Requirement already satisfied: Pillow in /usr/local/lib/python3.11/dist-packages (from sentence-transformers>=2.6.0->langchain-huggingface<0.2.0,>=0.1.2->proscenium==0.0.1.dev0) (11.1.0)\n",
            "Requirement already satisfied: greenlet!=0.4.17 in /usr/local/lib/python3.11/dist-packages (from SQLAlchemy<3,>=1.4->langchain-community<0.4.0,>=0.3.18->proscenium==0.0.1.dev0) (3.1.1)\n",
            "Requirement already satisfied: safetensors>=0.4.1 in /usr/local/lib/python3.11/dist-packages (from transformers>=4.39.0->langchain-huggingface<0.2.0,>=0.1.2->proscenium==0.0.1.dev0) (0.5.3)\n",
            "Requirement already satisfied: smmap<6,>=3.0.1 in /usr/local/lib/python3.11/dist-packages (from gitdb<5,>=4.0.1->GitPython<4.0.0,>=3.1.43->gofannon<0.26.0,>=0.25.11->proscenium==0.0.1.dev0) (5.0.2)\n",
            "Requirement already satisfied: jsonpointer>=1.9 in /usr/local/lib/python3.11/dist-packages (from jsonpatch<2.0,>=1.33->langchain-core<1.0.0,>=0.3.45->langchain-community<0.4.0,>=0.3.18->proscenium==0.0.1.dev0) (3.0.0)\n",
            "Requirement already satisfied: cryptography>=3.4.0 in /usr/local/lib/python3.11/dist-packages (from pyjwt[crypto]>=2.4.0->pygithub<3.0.0,>=2.6.1->gofannon<0.26.0,>=0.25.11->proscenium==0.0.1.dev0) (43.0.3)\n",
            "Requirement already satisfied: cffi>=1.4.1 in /usr/local/lib/python3.11/dist-packages (from pynacl>=1.4.0->pygithub<3.0.0,>=2.6.1->gofannon<0.26.0,>=0.25.11->proscenium==0.0.1.dev0) (1.17.1)\n",
            "Requirement already satisfied: networkx in /usr/local/lib/python3.11/dist-packages (from torch>=1.11.0->sentence-transformers>=2.6.0->langchain-huggingface<0.2.0,>=0.1.2->proscenium==0.0.1.dev0) (3.4.2)\n",
            "Requirement already satisfied: jinja2 in /usr/local/lib/python3.11/dist-packages (from torch>=1.11.0->sentence-transformers>=2.6.0->langchain-huggingface<0.2.0,>=0.1.2->proscenium==0.0.1.dev0) (3.1.6)\n",
            "Collecting nvidia-cuda-nvrtc-cu12==12.4.127 (from torch>=1.11.0->sentence-transformers>=2.6.0->langchain-huggingface<0.2.0,>=0.1.2->proscenium==0.0.1.dev0)\n",
            "  Using cached nvidia_cuda_nvrtc_cu12-12.4.127-py3-none-manylinux2014_x86_64.whl.metadata (1.5 kB)\n",
            "Collecting nvidia-cuda-runtime-cu12==12.4.127 (from torch>=1.11.0->sentence-transformers>=2.6.0->langchain-huggingface<0.2.0,>=0.1.2->proscenium==0.0.1.dev0)\n",
            "  Using cached nvidia_cuda_runtime_cu12-12.4.127-py3-none-manylinux2014_x86_64.whl.metadata (1.5 kB)\n",
            "Collecting nvidia-cuda-cupti-cu12==12.4.127 (from torch>=1.11.0->sentence-transformers>=2.6.0->langchain-huggingface<0.2.0,>=0.1.2->proscenium==0.0.1.dev0)\n",
            "  Using cached nvidia_cuda_cupti_cu12-12.4.127-py3-none-manylinux2014_x86_64.whl.metadata (1.6 kB)\n",
            "Collecting nvidia-cudnn-cu12==9.1.0.70 (from torch>=1.11.0->sentence-transformers>=2.6.0->langchain-huggingface<0.2.0,>=0.1.2->proscenium==0.0.1.dev0)\n",
            "  Using cached nvidia_cudnn_cu12-9.1.0.70-py3-none-manylinux2014_x86_64.whl.metadata (1.6 kB)\n",
            "Collecting nvidia-cublas-cu12==12.4.5.8 (from torch>=1.11.0->sentence-transformers>=2.6.0->langchain-huggingface<0.2.0,>=0.1.2->proscenium==0.0.1.dev0)\n",
            "  Using cached nvidia_cublas_cu12-12.4.5.8-py3-none-manylinux2014_x86_64.whl.metadata (1.5 kB)\n",
            "Collecting nvidia-cufft-cu12==11.2.1.3 (from torch>=1.11.0->sentence-transformers>=2.6.0->langchain-huggingface<0.2.0,>=0.1.2->proscenium==0.0.1.dev0)\n",
            "  Using cached nvidia_cufft_cu12-11.2.1.3-py3-none-manylinux2014_x86_64.whl.metadata (1.5 kB)\n",
            "Collecting nvidia-curand-cu12==10.3.5.147 (from torch>=1.11.0->sentence-transformers>=2.6.0->langchain-huggingface<0.2.0,>=0.1.2->proscenium==0.0.1.dev0)\n",
            "  Using cached nvidia_curand_cu12-10.3.5.147-py3-none-manylinux2014_x86_64.whl.metadata (1.5 kB)\n",
            "Collecting nvidia-cusolver-cu12==11.6.1.9 (from torch>=1.11.0->sentence-transformers>=2.6.0->langchain-huggingface<0.2.0,>=0.1.2->proscenium==0.0.1.dev0)\n",
            "  Using cached nvidia_cusolver_cu12-11.6.1.9-py3-none-manylinux2014_x86_64.whl.metadata (1.6 kB)\n",
            "Collecting nvidia-cusparse-cu12==12.3.1.170 (from torch>=1.11.0->sentence-transformers>=2.6.0->langchain-huggingface<0.2.0,>=0.1.2->proscenium==0.0.1.dev0)\n",
            "  Using cached nvidia_cusparse_cu12-12.3.1.170-py3-none-manylinux2014_x86_64.whl.metadata (1.6 kB)\n",
            "Requirement already satisfied: nvidia-cusparselt-cu12==0.6.2 in /usr/local/lib/python3.11/dist-packages (from torch>=1.11.0->sentence-transformers>=2.6.0->langchain-huggingface<0.2.0,>=0.1.2->proscenium==0.0.1.dev0) (0.6.2)\n",
            "Requirement already satisfied: nvidia-nccl-cu12==2.21.5 in /usr/local/lib/python3.11/dist-packages (from torch>=1.11.0->sentence-transformers>=2.6.0->langchain-huggingface<0.2.0,>=0.1.2->proscenium==0.0.1.dev0) (2.21.5)\n",
            "Requirement already satisfied: nvidia-nvtx-cu12==12.4.127 in /usr/local/lib/python3.11/dist-packages (from torch>=1.11.0->sentence-transformers>=2.6.0->langchain-huggingface<0.2.0,>=0.1.2->proscenium==0.0.1.dev0) (12.4.127)\n",
            "Collecting nvidia-nvjitlink-cu12==12.4.127 (from torch>=1.11.0->sentence-transformers>=2.6.0->langchain-huggingface<0.2.0,>=0.1.2->proscenium==0.0.1.dev0)\n",
            "  Using cached nvidia_nvjitlink_cu12-12.4.127-py3-none-manylinux2014_x86_64.whl.metadata (1.5 kB)\n",
            "Requirement already satisfied: triton==3.2.0 in /usr/local/lib/python3.11/dist-packages (from torch>=1.11.0->sentence-transformers>=2.6.0->langchain-huggingface<0.2.0,>=0.1.2->proscenium==0.0.1.dev0) (3.2.0)\n",
            "Requirement already satisfied: sympy==1.13.1 in /usr/local/lib/python3.11/dist-packages (from torch>=1.11.0->sentence-transformers>=2.6.0->langchain-huggingface<0.2.0,>=0.1.2->proscenium==0.0.1.dev0) (1.13.1)\n",
            "Requirement already satisfied: mpmath<1.4,>=1.1.0 in /usr/local/lib/python3.11/dist-packages (from sympy==1.13.1->torch>=1.11.0->sentence-transformers>=2.6.0->langchain-huggingface<0.2.0,>=0.1.2->proscenium==0.0.1.dev0) (1.3.0)\n",
            "Requirement already satisfied: mypy-extensions>=0.3.0 in /usr/local/lib/python3.11/dist-packages (from typing-inspect<1,>=0.4.0->dataclasses-json<0.7,>=0.5.7->langchain-community<0.4.0,>=0.3.18->proscenium==0.0.1.dev0) (1.0.0)\n",
            "Requirement already satisfied: wrapt<2,>=1.10 in /usr/local/lib/python3.11/dist-packages (from Deprecated->pygithub<3.0.0,>=2.6.1->gofannon<0.26.0,>=0.25.11->proscenium==0.0.1.dev0) (1.17.2)\n",
            "Requirement already satisfied: coloredlogs in /usr/local/lib/python3.11/dist-packages (from onnxruntime->pymilvus.model>=0.3.0->pymilvus[model]<3.0.0,>=2.5.4->proscenium==0.0.1.dev0) (15.0.1)\n",
            "Requirement already satisfied: flatbuffers in /usr/local/lib/python3.11/dist-packages (from onnxruntime->pymilvus.model>=0.3.0->pymilvus[model]<3.0.0,>=2.5.4->proscenium==0.0.1.dev0) (25.2.10)\n",
            "Requirement already satisfied: joblib>=1.2.0 in /usr/local/lib/python3.11/dist-packages (from scikit-learn->sentence-transformers>=2.6.0->langchain-huggingface<0.2.0,>=0.1.2->proscenium==0.0.1.dev0) (1.4.2)\n",
            "Requirement already satisfied: threadpoolctl>=3.1.0 in /usr/local/lib/python3.11/dist-packages (from scikit-learn->sentence-transformers>=2.6.0->langchain-huggingface<0.2.0,>=0.1.2->proscenium==0.0.1.dev0) (3.6.0)\n",
            "Requirement already satisfied: pycparser in /usr/local/lib/python3.11/dist-packages (from cffi>=1.4.1->pynacl>=1.4.0->pygithub<3.0.0,>=2.6.1->gofannon<0.26.0,>=0.25.11->proscenium==0.0.1.dev0) (2.22)\n",
            "Requirement already satisfied: humanfriendly>=9.1 in /usr/local/lib/python3.11/dist-packages (from coloredlogs->onnxruntime->pymilvus.model>=0.3.0->pymilvus[model]<3.0.0,>=2.5.4->proscenium==0.0.1.dev0) (10.0)\n",
            "Requirement already satisfied: MarkupSafe>=2.0 in /usr/local/lib/python3.11/dist-packages (from jinja2->torch>=1.11.0->sentence-transformers>=2.6.0->langchain-huggingface<0.2.0,>=0.1.2->proscenium==0.0.1.dev0) (3.0.2)\n",
            "Using cached datasets-3.4.1-py3-none-any.whl (487 kB)\n",
            "Using cached eyecite-2.6.11-py3-none-any.whl (47 kB)\n",
            "Using cached gofannon-0.25.13-py3-none-any.whl (46 kB)\n",
            "Using cached langchain_huggingface-0.1.2-py3-none-any.whl (21 kB)\n",
            "Using cached neo4j-5.28.1-py3-none-any.whl (312 kB)\n",
            "Using cached tiktoken-0.9.0-cp311-cp311-manylinux_2_17_x86_64.manylinux2014_x86_64.whl (1.2 MB)\n",
            "Using cached anthropic-0.30.1-py3-none-any.whl (863 kB)\n",
            "Using cached courts_db-0.10.25-py2.py3-none-any.whl (148 kB)\n",
            "Using cached dill-0.3.8-py3-none-any.whl (116 kB)\n",
            "Using cached fast_diff_match_patch-2.1.0-cp311-cp311-manylinux_2_17_x86_64.manylinux2014_x86_64.whl (855 kB)\n",
            "Using cached fsspec-2024.12.0-py3-none-any.whl (183 kB)\n",
            "Using cached multiprocess-0.70.16-py311-none-any.whl (143 kB)\n",
            "Using cached pyahocorasick-2.1.0-cp311-cp311-manylinux_2_17_x86_64.manylinux2014_x86_64.whl (118 kB)\n",
            "Using cached PyGithub-2.6.1-py3-none-any.whl (410 kB)\n",
            "Using cached reporters_db-3.2.54-py2.py3-none-any.whl (171 kB)\n",
            "Using cached xxhash-3.5.0-cp311-cp311-manylinux_2_17_x86_64.manylinux2014_x86_64.whl (194 kB)\n",
            "Using cached PyNaCl-1.5.0-cp36-abi3-manylinux_2_17_x86_64.manylinux2014_x86_64.manylinux_2_24_x86_64.whl (856 kB)\n",
            "Using cached nvidia_cublas_cu12-12.4.5.8-py3-none-manylinux2014_x86_64.whl (363.4 MB)\n",
            "Using cached nvidia_cuda_cupti_cu12-12.4.127-py3-none-manylinux2014_x86_64.whl (13.8 MB)\n",
            "Using cached nvidia_cuda_nvrtc_cu12-12.4.127-py3-none-manylinux2014_x86_64.whl (24.6 MB)\n",
            "Using cached nvidia_cuda_runtime_cu12-12.4.127-py3-none-manylinux2014_x86_64.whl (883 kB)\n",
            "Using cached nvidia_cudnn_cu12-9.1.0.70-py3-none-manylinux2014_x86_64.whl (664.8 MB)\n",
            "Downloading nvidia_cufft_cu12-11.2.1.3-py3-none-manylinux2014_x86_64.whl (211.5 MB)\n",
            "\u001b[2K   \u001b[90m━━━━━━━━━━━━━━━━━━━━━━━━━━━━━━━━━━━━━━━━\u001b[0m \u001b[32m211.5/211.5 MB\u001b[0m \u001b[31m6.2 MB/s\u001b[0m eta \u001b[36m0:00:00\u001b[0m\n",
            "\u001b[?25hUsing cached nvidia_curand_cu12-10.3.5.147-py3-none-manylinux2014_x86_64.whl (56.3 MB)\n",
            "Using cached nvidia_cusolver_cu12-11.6.1.9-py3-none-manylinux2014_x86_64.whl (127.9 MB)\n",
            "Using cached nvidia_cusparse_cu12-12.3.1.170-py3-none-manylinux2014_x86_64.whl (207.5 MB)\n",
            "Using cached nvidia_nvjitlink_cu12-12.4.127-py3-none-manylinux2014_x86_64.whl (21.1 MB)\n",
            "Building wheels for collected packages: proscenium, stringcase, thespian\n",
            "  Building wheel for proscenium (pyproject.toml) ... \u001b[?25l\u001b[?25hdone\n",
            "  Created wheel for proscenium: filename=proscenium-0.0.1.dev0-py3-none-any.whl size=20975 sha256=28d7505dbf5a524950b09e3604db6b52b0b9674c2e80141d885befbf8c69a9d0\n",
            "  Stored in directory: /tmp/pip-ephem-wheel-cache-1yom64hp/wheels/0f/31/77/340f9d613dcef8a3818e623e5d49614761c3b102a69f74c54b\n",
            "  Building wheel for stringcase (setup.py) ... \u001b[?25l\u001b[?25hdone\n",
            "  Created wheel for stringcase: filename=stringcase-1.2.0-py3-none-any.whl size=3568 sha256=a45a3ccdc134d5cfb6640d6d31f20069d3c5feff88ff317d867ec8b2de98518a\n",
            "  Stored in directory: /root/.cache/pip/wheels/b4/33/6d/d0820be98063da218c3206fbad2381cd2db3fbb1a0f0d254b5\n",
            "  Building wheel for thespian (setup.py) ... \u001b[?25l\u001b[?25hdone\n",
            "  Created wheel for thespian: filename=thespian-4.0.1-py3-none-any.whl size=278972 sha256=80a90d98ef044180fb34df9ca1d57ffa951e889b4f8624d923fe702efa5de4cf\n",
            "  Stored in directory: /root/.cache/pip/wheels/01/ae/39/224eb7ed74303bf71be6bc9c6a9b4835d8f2845cfecef3efaf\n",
            "Successfully built proscenium stringcase thespian\n",
            "Installing collected packages: thespian, stringcase, fast-diff-match-patch, courts-db, xxhash, reporters-db, pyahocorasick, nvidia-nvjitlink-cu12, nvidia-curand-cu12, nvidia-cufft-cu12, nvidia-cuda-runtime-cu12, nvidia-cuda-nvrtc-cu12, nvidia-cuda-cupti-cu12, nvidia-cublas-cu12, neo4j, fsspec, dill, tiktoken, pynacl, nvidia-cusparse-cu12, nvidia-cudnn-cu12, multiprocess, eyecite, nvidia-cusolver-cu12, pygithub, datasets, anthropic, gofannon, langchain-huggingface, proscenium\n",
            "  Attempting uninstall: nvidia-nvjitlink-cu12\n",
            "    Found existing installation: nvidia-nvjitlink-cu12 12.5.82\n",
            "    Uninstalling nvidia-nvjitlink-cu12-12.5.82:\n",
            "      Successfully uninstalled nvidia-nvjitlink-cu12-12.5.82\n",
            "  Attempting uninstall: nvidia-curand-cu12\n",
            "    Found existing installation: nvidia-curand-cu12 10.3.6.82\n",
            "    Uninstalling nvidia-curand-cu12-10.3.6.82:\n",
            "      Successfully uninstalled nvidia-curand-cu12-10.3.6.82\n",
            "  Attempting uninstall: nvidia-cufft-cu12\n",
            "    Found existing installation: nvidia-cufft-cu12 11.2.3.61\n",
            "    Uninstalling nvidia-cufft-cu12-11.2.3.61:\n",
            "      Successfully uninstalled nvidia-cufft-cu12-11.2.3.61\n",
            "  Attempting uninstall: nvidia-cuda-runtime-cu12\n",
            "    Found existing installation: nvidia-cuda-runtime-cu12 12.5.82\n",
            "    Uninstalling nvidia-cuda-runtime-cu12-12.5.82:\n",
            "      Successfully uninstalled nvidia-cuda-runtime-cu12-12.5.82\n",
            "  Attempting uninstall: nvidia-cuda-nvrtc-cu12\n",
            "    Found existing installation: nvidia-cuda-nvrtc-cu12 12.5.82\n",
            "    Uninstalling nvidia-cuda-nvrtc-cu12-12.5.82:\n",
            "      Successfully uninstalled nvidia-cuda-nvrtc-cu12-12.5.82\n",
            "  Attempting uninstall: nvidia-cuda-cupti-cu12\n",
            "    Found existing installation: nvidia-cuda-cupti-cu12 12.5.82\n",
            "    Uninstalling nvidia-cuda-cupti-cu12-12.5.82:\n",
            "      Successfully uninstalled nvidia-cuda-cupti-cu12-12.5.82\n",
            "  Attempting uninstall: nvidia-cublas-cu12\n",
            "    Found existing installation: nvidia-cublas-cu12 12.5.3.2\n",
            "    Uninstalling nvidia-cublas-cu12-12.5.3.2:\n",
            "      Successfully uninstalled nvidia-cublas-cu12-12.5.3.2\n",
            "  Attempting uninstall: fsspec\n",
            "    Found existing installation: fsspec 2025.3.0\n",
            "    Uninstalling fsspec-2025.3.0:\n",
            "      Successfully uninstalled fsspec-2025.3.0\n",
            "  Attempting uninstall: nvidia-cusparse-cu12\n",
            "    Found existing installation: nvidia-cusparse-cu12 12.5.1.3\n",
            "    Uninstalling nvidia-cusparse-cu12-12.5.1.3:\n",
            "      Successfully uninstalled nvidia-cusparse-cu12-12.5.1.3\n",
            "  Attempting uninstall: nvidia-cudnn-cu12\n",
            "    Found existing installation: nvidia-cudnn-cu12 9.3.0.75\n",
            "    Uninstalling nvidia-cudnn-cu12-9.3.0.75:\n",
            "      Successfully uninstalled nvidia-cudnn-cu12-9.3.0.75\n",
            "  Attempting uninstall: nvidia-cusolver-cu12\n",
            "    Found existing installation: nvidia-cusolver-cu12 11.6.3.83\n",
            "    Uninstalling nvidia-cusolver-cu12-11.6.3.83:\n",
            "      Successfully uninstalled nvidia-cusolver-cu12-11.6.3.83\n",
            "\u001b[31mERROR: pip's dependency resolver does not currently take into account all the packages that are installed. This behaviour is the source of the following dependency conflicts.\n",
            "gcsfs 2025.3.0 requires fsspec==2025.3.0, but you have fsspec 2024.12.0 which is incompatible.\u001b[0m\u001b[31m\n",
            "\u001b[0mSuccessfully installed anthropic-0.30.1 courts-db-0.10.25 datasets-3.4.1 dill-0.3.8 eyecite-2.6.11 fast-diff-match-patch-2.1.0 fsspec-2024.12.0 gofannon-0.25.13 langchain-huggingface-0.1.2 multiprocess-0.70.16 neo4j-5.28.1 nvidia-cublas-cu12-12.4.5.8 nvidia-cuda-cupti-cu12-12.4.127 nvidia-cuda-nvrtc-cu12-12.4.127 nvidia-cuda-runtime-cu12-12.4.127 nvidia-cudnn-cu12-9.1.0.70 nvidia-cufft-cu12-11.2.1.3 nvidia-curand-cu12-10.3.5.147 nvidia-cusolver-cu12-11.6.1.9 nvidia-cusparse-cu12-12.3.1.170 nvidia-nvjitlink-cu12-12.4.127 proscenium-0.0.1.dev0 pyahocorasick-2.1.0 pygithub-2.6.1 pynacl-1.5.0 reporters-db-3.2.54 stringcase-1.2.0 thespian-4.0.1 tiktoken-0.9.0 xxhash-3.5.0\n"
          ]
        }
      ]
    },
    {
      "cell_type": "code",
      "source": [
        "import os\n",
        "from google.colab import userdata\n",
        "\n",
        "api_key = userdata.get('TOGETHER_API_KEY')\n",
        "os.environ['TOGETHER_API_KEY'] = api_key"
      ],
      "metadata": {
        "id": "nhoa_GJWmSnd"
      },
      "execution_count": 4,
      "outputs": []
    },
    {
      "cell_type": "code",
      "source": [
        "from rich import print\n",
        "from rich.panel import Panel\n",
        "from rich.prompt import Prompt\n",
        "\n",
        "import asyncio\n",
        "\n",
        "import os\n",
        "\n",
        "os.environ[\"TOKENIZERS_PARALLELISM\"] = \"false\"\n"
      ],
      "metadata": {
        "id": "S_iC1uYgmSk2"
      },
      "execution_count": 5,
      "outputs": []
    },
    {
      "cell_type": "code",
      "source": [
        "from demo.config import default_model_id\n",
        "\n",
        "model_id = default_model_id\n",
        "print(model_id)"
      ],
      "metadata": {
        "colab": {
          "base_uri": "https://localhost:8080/",
          "height": 34
        },
        "id": "xDt2b7FEmSiQ",
        "outputId": "af03eda2-bc4d-4fdc-f100-e20390cef720"
      },
      "execution_count": 6,
      "outputs": [
        {
          "output_type": "display_data",
          "data": {
            "text/plain": [
              "together:meta-llama/Llama-\u001b[1;36m3\u001b[0m-70b-chat-hf\n"
            ],
            "text/html": [
              "<pre style=\"white-space:pre;overflow-x:auto;line-height:normal;font-family:Menlo,'DejaVu Sans Mono',consolas,'Courier New',monospace\">together:meta-llama/Llama-<span style=\"color: #008080; text-decoration-color: #008080; font-weight: bold\">3</span>-70b-chat-hf\n",
              "</pre>\n"
            ]
          },
          "metadata": {}
        }
      ]
    },
    {
      "cell_type": "markdown",
      "source": [
        "# Prepare Vector Database from Document Chunks"
      ],
      "metadata": {
        "id": "LQIG0H2Ip8x5"
      }
    },
    {
      "cell_type": "code",
      "source": [
        "!pip install langchain_community"
      ],
      "metadata": {
        "colab": {
          "base_uri": "https://localhost:8080/"
        },
        "collapsed": true,
        "id": "5rDzm550qIlo",
        "outputId": "867ed221-d840-4721-f9ee-9a5eda774d07"
      },
      "execution_count": 7,
      "outputs": [
        {
          "output_type": "stream",
          "name": "stdout",
          "text": [
            "Requirement already satisfied: langchain_community in /usr/local/lib/python3.11/dist-packages (0.3.20)\n",
            "Requirement already satisfied: langchain-core<1.0.0,>=0.3.45 in /usr/local/lib/python3.11/dist-packages (from langchain_community) (0.3.46)\n",
            "Requirement already satisfied: langchain<1.0.0,>=0.3.21 in /usr/local/lib/python3.11/dist-packages (from langchain_community) (0.3.21)\n",
            "Requirement already satisfied: SQLAlchemy<3,>=1.4 in /usr/local/lib/python3.11/dist-packages (from langchain_community) (2.0.39)\n",
            "Requirement already satisfied: requests<3,>=2 in /usr/local/lib/python3.11/dist-packages (from langchain_community) (2.32.3)\n",
            "Requirement already satisfied: PyYAML>=5.3 in /usr/local/lib/python3.11/dist-packages (from langchain_community) (6.0.2)\n",
            "Requirement already satisfied: aiohttp<4.0.0,>=3.8.3 in /usr/local/lib/python3.11/dist-packages (from langchain_community) (3.11.14)\n",
            "Requirement already satisfied: tenacity!=8.4.0,<10,>=8.1.0 in /usr/local/lib/python3.11/dist-packages (from langchain_community) (9.0.0)\n",
            "Requirement already satisfied: dataclasses-json<0.7,>=0.5.7 in /usr/local/lib/python3.11/dist-packages (from langchain_community) (0.6.7)\n",
            "Requirement already satisfied: pydantic-settings<3.0.0,>=2.4.0 in /usr/local/lib/python3.11/dist-packages (from langchain_community) (2.8.1)\n",
            "Requirement already satisfied: langsmith<0.4,>=0.1.125 in /usr/local/lib/python3.11/dist-packages (from langchain_community) (0.3.18)\n",
            "Requirement already satisfied: httpx-sse<1.0.0,>=0.4.0 in /usr/local/lib/python3.11/dist-packages (from langchain_community) (0.4.0)\n",
            "Requirement already satisfied: numpy<3,>=1.26.2 in /usr/local/lib/python3.11/dist-packages (from langchain_community) (2.0.2)\n",
            "Requirement already satisfied: aiohappyeyeballs>=2.3.0 in /usr/local/lib/python3.11/dist-packages (from aiohttp<4.0.0,>=3.8.3->langchain_community) (2.6.1)\n",
            "Requirement already satisfied: aiosignal>=1.1.2 in /usr/local/lib/python3.11/dist-packages (from aiohttp<4.0.0,>=3.8.3->langchain_community) (1.3.2)\n",
            "Requirement already satisfied: attrs>=17.3.0 in /usr/local/lib/python3.11/dist-packages (from aiohttp<4.0.0,>=3.8.3->langchain_community) (25.3.0)\n",
            "Requirement already satisfied: frozenlist>=1.1.1 in /usr/local/lib/python3.11/dist-packages (from aiohttp<4.0.0,>=3.8.3->langchain_community) (1.5.0)\n",
            "Requirement already satisfied: multidict<7.0,>=4.5 in /usr/local/lib/python3.11/dist-packages (from aiohttp<4.0.0,>=3.8.3->langchain_community) (6.2.0)\n",
            "Requirement already satisfied: propcache>=0.2.0 in /usr/local/lib/python3.11/dist-packages (from aiohttp<4.0.0,>=3.8.3->langchain_community) (0.3.0)\n",
            "Requirement already satisfied: yarl<2.0,>=1.17.0 in /usr/local/lib/python3.11/dist-packages (from aiohttp<4.0.0,>=3.8.3->langchain_community) (1.18.3)\n",
            "Requirement already satisfied: marshmallow<4.0.0,>=3.18.0 in /usr/local/lib/python3.11/dist-packages (from dataclasses-json<0.7,>=0.5.7->langchain_community) (3.26.1)\n",
            "Requirement already satisfied: typing-inspect<1,>=0.4.0 in /usr/local/lib/python3.11/dist-packages (from dataclasses-json<0.7,>=0.5.7->langchain_community) (0.9.0)\n",
            "Requirement already satisfied: langchain-text-splitters<1.0.0,>=0.3.7 in /usr/local/lib/python3.11/dist-packages (from langchain<1.0.0,>=0.3.21->langchain_community) (0.3.7)\n",
            "Requirement already satisfied: pydantic<3.0.0,>=2.7.4 in /usr/local/lib/python3.11/dist-packages (from langchain<1.0.0,>=0.3.21->langchain_community) (2.10.6)\n",
            "Requirement already satisfied: jsonpatch<2.0,>=1.33 in /usr/local/lib/python3.11/dist-packages (from langchain-core<1.0.0,>=0.3.45->langchain_community) (1.33)\n",
            "Requirement already satisfied: packaging<25,>=23.2 in /usr/local/lib/python3.11/dist-packages (from langchain-core<1.0.0,>=0.3.45->langchain_community) (24.2)\n",
            "Requirement already satisfied: typing-extensions>=4.7 in /usr/local/lib/python3.11/dist-packages (from langchain-core<1.0.0,>=0.3.45->langchain_community) (4.12.2)\n",
            "Requirement already satisfied: httpx<1,>=0.23.0 in /usr/local/lib/python3.11/dist-packages (from langsmith<0.4,>=0.1.125->langchain_community) (0.27.2)\n",
            "Requirement already satisfied: orjson<4.0.0,>=3.9.14 in /usr/local/lib/python3.11/dist-packages (from langsmith<0.4,>=0.1.125->langchain_community) (3.10.15)\n",
            "Requirement already satisfied: requests-toolbelt<2.0.0,>=1.0.0 in /usr/local/lib/python3.11/dist-packages (from langsmith<0.4,>=0.1.125->langchain_community) (1.0.0)\n",
            "Requirement already satisfied: zstandard<0.24.0,>=0.23.0 in /usr/local/lib/python3.11/dist-packages (from langsmith<0.4,>=0.1.125->langchain_community) (0.23.0)\n",
            "Requirement already satisfied: python-dotenv>=0.21.0 in /usr/local/lib/python3.11/dist-packages (from pydantic-settings<3.0.0,>=2.4.0->langchain_community) (1.0.1)\n",
            "Requirement already satisfied: charset-normalizer<4,>=2 in /usr/local/lib/python3.11/dist-packages (from requests<3,>=2->langchain_community) (3.4.1)\n",
            "Requirement already satisfied: idna<4,>=2.5 in /usr/local/lib/python3.11/dist-packages (from requests<3,>=2->langchain_community) (3.10)\n",
            "Requirement already satisfied: urllib3<3,>=1.21.1 in /usr/local/lib/python3.11/dist-packages (from requests<3,>=2->langchain_community) (2.3.0)\n",
            "Requirement already satisfied: certifi>=2017.4.17 in /usr/local/lib/python3.11/dist-packages (from requests<3,>=2->langchain_community) (2025.1.31)\n",
            "Requirement already satisfied: greenlet!=0.4.17 in /usr/local/lib/python3.11/dist-packages (from SQLAlchemy<3,>=1.4->langchain_community) (3.1.1)\n",
            "Requirement already satisfied: anyio in /usr/local/lib/python3.11/dist-packages (from httpx<1,>=0.23.0->langsmith<0.4,>=0.1.125->langchain_community) (4.9.0)\n",
            "Requirement already satisfied: httpcore==1.* in /usr/local/lib/python3.11/dist-packages (from httpx<1,>=0.23.0->langsmith<0.4,>=0.1.125->langchain_community) (1.0.7)\n",
            "Requirement already satisfied: sniffio in /usr/local/lib/python3.11/dist-packages (from httpx<1,>=0.23.0->langsmith<0.4,>=0.1.125->langchain_community) (1.3.1)\n",
            "Requirement already satisfied: h11<0.15,>=0.13 in /usr/local/lib/python3.11/dist-packages (from httpcore==1.*->httpx<1,>=0.23.0->langsmith<0.4,>=0.1.125->langchain_community) (0.14.0)\n",
            "Requirement already satisfied: jsonpointer>=1.9 in /usr/local/lib/python3.11/dist-packages (from jsonpatch<2.0,>=1.33->langchain-core<1.0.0,>=0.3.45->langchain_community) (3.0.0)\n",
            "Requirement already satisfied: annotated-types>=0.6.0 in /usr/local/lib/python3.11/dist-packages (from pydantic<3.0.0,>=2.7.4->langchain<1.0.0,>=0.3.21->langchain_community) (0.7.0)\n",
            "Requirement already satisfied: pydantic-core==2.27.2 in /usr/local/lib/python3.11/dist-packages (from pydantic<3.0.0,>=2.7.4->langchain<1.0.0,>=0.3.21->langchain_community) (2.27.2)\n",
            "Requirement already satisfied: mypy-extensions>=0.3.0 in /usr/local/lib/python3.11/dist-packages (from typing-inspect<1,>=0.4.0->dataclasses-json<0.7,>=0.5.7->langchain_community) (1.0.0)\n"
          ]
        }
      ]
    },
    {
      "cell_type": "code",
      "source": [
        "import nest_asyncio\n",
        "nest_asyncio.apply()"
      ],
      "metadata": {
        "id": "tRDoy1KnrJg2"
      },
      "execution_count": 8,
      "outputs": []
    },
    {
      "cell_type": "code",
      "source": [
        "import demo.domains.literature as literature_config\n",
        "from proscenium.verbs.read import url_to_file\n",
        "\n",
        "asyncio.run(url_to_file(literature_config.url, literature_config.data_file))\n",
        "\n",
        "print(\"Data file to chunk:\", literature_config.data_file)\n"
      ],
      "metadata": {
        "colab": {
          "base_uri": "https://localhost:8080/",
          "height": 34
        },
        "id": "QmT-3-IvmSfY",
        "outputId": "4cbe4d18-2493-4e05-d59d-8cd6298e288d"
      },
      "execution_count": 9,
      "outputs": [
        {
          "output_type": "display_data",
          "data": {
            "text/plain": [
              "Data file to chunk: four_plays_of_aeschylus.txt\n"
            ],
            "text/html": [
              "<pre style=\"white-space:pre;overflow-x:auto;line-height:normal;font-family:Menlo,'DejaVu Sans Mono',consolas,'Courier New',monospace\">Data file to chunk: four_plays_of_aeschylus.txt\n",
              "</pre>\n"
            ]
          },
          "metadata": {}
        }
      ]
    },
    {
      "cell_type": "code",
      "source": [
        "!pip install pymilvus"
      ],
      "metadata": {
        "colab": {
          "base_uri": "https://localhost:8080/"
        },
        "collapsed": true,
        "id": "qu_nQBiQr8gW",
        "outputId": "0bcb2429-b983-4e12-db1d-ba7a90127ef0"
      },
      "execution_count": 10,
      "outputs": [
        {
          "output_type": "stream",
          "name": "stdout",
          "text": [
            "Requirement already satisfied: pymilvus in /usr/local/lib/python3.11/dist-packages (2.5.6)\n",
            "Requirement already satisfied: setuptools>69 in /usr/local/lib/python3.11/dist-packages (from pymilvus) (75.1.0)\n",
            "Requirement already satisfied: grpcio<=1.67.1,>=1.49.1 in /usr/local/lib/python3.11/dist-packages (from pymilvus) (1.67.1)\n",
            "Requirement already satisfied: protobuf>=3.20.0 in /usr/local/lib/python3.11/dist-packages (from pymilvus) (5.29.4)\n",
            "Requirement already satisfied: python-dotenv<2.0.0,>=1.0.1 in /usr/local/lib/python3.11/dist-packages (from pymilvus) (1.0.1)\n",
            "Requirement already satisfied: ujson>=2.0.0 in /usr/local/lib/python3.11/dist-packages (from pymilvus) (5.10.0)\n",
            "Requirement already satisfied: pandas>=1.2.4 in /usr/local/lib/python3.11/dist-packages (from pymilvus) (2.2.2)\n",
            "Requirement already satisfied: milvus-lite>=2.4.0 in /usr/local/lib/python3.11/dist-packages (from pymilvus) (2.4.12)\n",
            "Requirement already satisfied: tqdm in /usr/local/lib/python3.11/dist-packages (from milvus-lite>=2.4.0->pymilvus) (4.67.1)\n",
            "Requirement already satisfied: numpy>=1.23.2 in /usr/local/lib/python3.11/dist-packages (from pandas>=1.2.4->pymilvus) (2.0.2)\n",
            "Requirement already satisfied: python-dateutil>=2.8.2 in /usr/local/lib/python3.11/dist-packages (from pandas>=1.2.4->pymilvus) (2.8.2)\n",
            "Requirement already satisfied: pytz>=2020.1 in /usr/local/lib/python3.11/dist-packages (from pandas>=1.2.4->pymilvus) (2025.1)\n",
            "Requirement already satisfied: tzdata>=2022.7 in /usr/local/lib/python3.11/dist-packages (from pandas>=1.2.4->pymilvus) (2025.1)\n",
            "Requirement already satisfied: six>=1.5 in /usr/local/lib/python3.11/dist-packages (from python-dateutil>=2.8.2->pandas>=1.2.4->pymilvus) (1.17.0)\n"
          ]
        }
      ]
    },
    {
      "cell_type": "code",
      "source": [
        "!pip install pymilvus.model"
      ],
      "metadata": {
        "collapsed": true,
        "colab": {
          "base_uri": "https://localhost:8080/"
        },
        "id": "lJIjqXMHs_79",
        "outputId": "d779963f-54df-4a3b-9573-024ee691019a"
      },
      "execution_count": 11,
      "outputs": [
        {
          "output_type": "stream",
          "name": "stdout",
          "text": [
            "Requirement already satisfied: pymilvus.model in /usr/local/lib/python3.11/dist-packages (0.3.1)\n",
            "Requirement already satisfied: transformers>=4.36.0 in /usr/local/lib/python3.11/dist-packages (from pymilvus.model) (4.49.0)\n",
            "Requirement already satisfied: onnxruntime in /usr/local/lib/python3.11/dist-packages (from pymilvus.model) (1.21.0)\n",
            "Requirement already satisfied: scipy>=1.10.0 in /usr/local/lib/python3.11/dist-packages (from pymilvus.model) (1.14.1)\n",
            "Requirement already satisfied: protobuf in /usr/local/lib/python3.11/dist-packages (from pymilvus.model) (5.29.4)\n",
            "Requirement already satisfied: numpy in /usr/local/lib/python3.11/dist-packages (from pymilvus.model) (2.0.2)\n",
            "Requirement already satisfied: filelock in /usr/local/lib/python3.11/dist-packages (from transformers>=4.36.0->pymilvus.model) (3.18.0)\n",
            "Requirement already satisfied: huggingface-hub<1.0,>=0.26.0 in /usr/local/lib/python3.11/dist-packages (from transformers>=4.36.0->pymilvus.model) (0.29.3)\n",
            "Requirement already satisfied: packaging>=20.0 in /usr/local/lib/python3.11/dist-packages (from transformers>=4.36.0->pymilvus.model) (24.2)\n",
            "Requirement already satisfied: pyyaml>=5.1 in /usr/local/lib/python3.11/dist-packages (from transformers>=4.36.0->pymilvus.model) (6.0.2)\n",
            "Requirement already satisfied: regex!=2019.12.17 in /usr/local/lib/python3.11/dist-packages (from transformers>=4.36.0->pymilvus.model) (2024.11.6)\n",
            "Requirement already satisfied: requests in /usr/local/lib/python3.11/dist-packages (from transformers>=4.36.0->pymilvus.model) (2.32.3)\n",
            "Requirement already satisfied: tokenizers<0.22,>=0.21 in /usr/local/lib/python3.11/dist-packages (from transformers>=4.36.0->pymilvus.model) (0.21.1)\n",
            "Requirement already satisfied: safetensors>=0.4.1 in /usr/local/lib/python3.11/dist-packages (from transformers>=4.36.0->pymilvus.model) (0.5.3)\n",
            "Requirement already satisfied: tqdm>=4.27 in /usr/local/lib/python3.11/dist-packages (from transformers>=4.36.0->pymilvus.model) (4.67.1)\n",
            "Requirement already satisfied: coloredlogs in /usr/local/lib/python3.11/dist-packages (from onnxruntime->pymilvus.model) (15.0.1)\n",
            "Requirement already satisfied: flatbuffers in /usr/local/lib/python3.11/dist-packages (from onnxruntime->pymilvus.model) (25.2.10)\n",
            "Requirement already satisfied: sympy in /usr/local/lib/python3.11/dist-packages (from onnxruntime->pymilvus.model) (1.13.1)\n",
            "Requirement already satisfied: fsspec>=2023.5.0 in /usr/local/lib/python3.11/dist-packages (from huggingface-hub<1.0,>=0.26.0->transformers>=4.36.0->pymilvus.model) (2024.12.0)\n",
            "Requirement already satisfied: typing-extensions>=3.7.4.3 in /usr/local/lib/python3.11/dist-packages (from huggingface-hub<1.0,>=0.26.0->transformers>=4.36.0->pymilvus.model) (4.12.2)\n",
            "Requirement already satisfied: humanfriendly>=9.1 in /usr/local/lib/python3.11/dist-packages (from coloredlogs->onnxruntime->pymilvus.model) (10.0)\n",
            "Requirement already satisfied: charset-normalizer<4,>=2 in /usr/local/lib/python3.11/dist-packages (from requests->transformers>=4.36.0->pymilvus.model) (3.4.1)\n",
            "Requirement already satisfied: idna<4,>=2.5 in /usr/local/lib/python3.11/dist-packages (from requests->transformers>=4.36.0->pymilvus.model) (3.10)\n",
            "Requirement already satisfied: urllib3<3,>=1.21.1 in /usr/local/lib/python3.11/dist-packages (from requests->transformers>=4.36.0->pymilvus.model) (2.3.0)\n",
            "Requirement already satisfied: certifi>=2017.4.17 in /usr/local/lib/python3.11/dist-packages (from requests->transformers>=4.36.0->pymilvus.model) (2025.1.31)\n",
            "Requirement already satisfied: mpmath<1.4,>=1.1.0 in /usr/local/lib/python3.11/dist-packages (from sympy->onnxruntime->pymilvus.model) (1.3.0)\n"
          ]
        }
      ]
    },
    {
      "cell_type": "code",
      "source": [
        "from proscenium.verbs.vector_database import embedding_function\n",
        "\n",
        "embedding_fn = embedding_function(literature_config.embedding_model_id)\n",
        "print(\"Embedding model\", literature_config.embedding_model_id)"
      ],
      "metadata": {
        "colab": {
          "base_uri": "https://localhost:8080/",
          "height": 34
        },
        "collapsed": true,
        "id": "5_OCVu_NmScy",
        "outputId": "2422ae30-482b-4a73-d859-d6da2d5c9d12"
      },
      "execution_count": 12,
      "outputs": [
        {
          "output_type": "display_data",
          "data": {
            "text/plain": [
              "Embedding model all-MiniLM-L6-v2\n"
            ],
            "text/html": [
              "<pre style=\"white-space:pre;overflow-x:auto;line-height:normal;font-family:Menlo,'DejaVu Sans Mono',consolas,'Courier New',monospace\">Embedding model all-MiniLM-L6-v2\n",
              "</pre>\n"
            ]
          },
          "metadata": {}
        }
      ]
    },
    {
      "cell_type": "code",
      "source": [
        "from proscenium.verbs.vector_database import create_vector_db\n",
        "\n",
        "milvus_uri = \"file:/milvus.db\"\n",
        "\n",
        "vector_db_client = create_vector_db(milvus_uri, embedding_fn, overwrite=True)\n",
        "print(\"Vector db at uri\", milvus_uri)"
      ],
      "metadata": {
        "colab": {
          "base_uri": "https://localhost:8080/",
          "height": 34
        },
        "id": "XBbGDyi_mSaL",
        "outputId": "0f37d2c7-d8a4-4664-8dc8-d941f9ae71bd"
      },
      "execution_count": 13,
      "outputs": [
        {
          "output_type": "display_data",
          "data": {
            "text/plain": [
              "Vector db at uri file:\u001b[35m/\u001b[0m\u001b[95mmilvus.db\u001b[0m\n"
            ],
            "text/html": [
              "<pre style=\"white-space:pre;overflow-x:auto;line-height:normal;font-family:Menlo,'DejaVu Sans Mono',consolas,'Courier New',monospace\">Vector db at uri file:<span style=\"color: #800080; text-decoration-color: #800080\">/</span><span style=\"color: #ff00ff; text-decoration-color: #ff00ff\">milvus.db</span>\n",
              "</pre>\n"
            ]
          },
          "metadata": {}
        }
      ]
    },
    {
      "cell_type": "code",
      "source": [
        "!pip install aisuite"
      ],
      "metadata": {
        "colab": {
          "base_uri": "https://localhost:8080/"
        },
        "collapsed": true,
        "id": "svD0fx77tWIT",
        "outputId": "09df1cbf-21af-4311-d2bd-db61f9978f75"
      },
      "execution_count": 14,
      "outputs": [
        {
          "output_type": "stream",
          "name": "stdout",
          "text": [
            "Requirement already satisfied: aisuite in /usr/local/lib/python3.11/dist-packages (0.1.10)\n",
            "Requirement already satisfied: httpx<0.28.0,>=0.27.0 in /usr/local/lib/python3.11/dist-packages (from aisuite) (0.27.2)\n",
            "Requirement already satisfied: anyio in /usr/local/lib/python3.11/dist-packages (from httpx<0.28.0,>=0.27.0->aisuite) (4.9.0)\n",
            "Requirement already satisfied: certifi in /usr/local/lib/python3.11/dist-packages (from httpx<0.28.0,>=0.27.0->aisuite) (2025.1.31)\n",
            "Requirement already satisfied: httpcore==1.* in /usr/local/lib/python3.11/dist-packages (from httpx<0.28.0,>=0.27.0->aisuite) (1.0.7)\n",
            "Requirement already satisfied: idna in /usr/local/lib/python3.11/dist-packages (from httpx<0.28.0,>=0.27.0->aisuite) (3.10)\n",
            "Requirement already satisfied: sniffio in /usr/local/lib/python3.11/dist-packages (from httpx<0.28.0,>=0.27.0->aisuite) (1.3.1)\n",
            "Requirement already satisfied: h11<0.15,>=0.13 in /usr/local/lib/python3.11/dist-packages (from httpcore==1.*->httpx<0.28.0,>=0.27.0->aisuite) (0.14.0)\n",
            "Requirement already satisfied: typing_extensions>=4.5 in /usr/local/lib/python3.11/dist-packages (from anyio->httpx<0.28.0,>=0.27.0->aisuite) (4.12.2)\n"
          ]
        }
      ]
    },
    {
      "cell_type": "code",
      "source": [
        "from proscenium.scripts.rag import build_vector_db\n",
        "\n",
        "build_vector_db(literature_config.data_file, vector_db_client, embedding_fn)\n",
        "\n",
        "# vector_db_client.close()"
      ],
      "metadata": {
        "colab": {
          "base_uri": "https://localhost:8080/",
          "height": 529
        },
        "id": "JDPrapyZmSXU",
        "outputId": "a4c97253-120d-481d-d244-6afac6f48502"
      },
      "execution_count": 15,
      "outputs": [
        {
          "output_type": "display_data",
          "data": {
            "text/plain": [
              "Data file four_plays_of_aeschylus.txt has \u001b[1;36m268\u001b[0m chunks\n"
            ],
            "text/html": [
              "<pre style=\"white-space:pre;overflow-x:auto;line-height:normal;font-family:Menlo,'DejaVu Sans Mono',consolas,'Courier New',monospace\">Data file four_plays_of_aeschylus.txt has <span style=\"color: #008080; text-decoration-color: #008080; font-weight: bold\">268</span> chunks\n",
              "</pre>\n"
            ]
          },
          "metadata": {}
        },
        {
          "output_type": "display_data",
          "data": {
            "text/plain": [
              "\u001b[1;36m268\u001b[0m chunks inserted\n"
            ],
            "text/html": [
              "<pre style=\"white-space:pre;overflow-x:auto;line-height:normal;font-family:Menlo,'DejaVu Sans Mono',consolas,'Courier New',monospace\"><span style=\"color: #008080; text-decoration-color: #008080; font-weight: bold\">268</span> chunks inserted\n",
              "</pre>\n"
            ]
          },
          "metadata": {}
        },
        {
          "output_type": "display_data",
          "data": {
            "text/plain": [
              "╭─────────────────────────────────────────────── Collection chunks ───────────────────────────────────────────────╮\n",
              "│ ╭────────────────────────────────────────────────── Params ───────────────────────────────────────────────────╮ │\n",
              "│ │                                                                                                             │ │\n",
              "│ │     Collection Name: chunks                                                                                 │ │\n",
              "│ │     Auto ID: True                                                                                           │ │\n",
              "│ │     Num Shards: 0                                                                                           │ │\n",
              "│ │     Description: Chunks Schema                                                                              │ │\n",
              "│ │     Functions: []                                                                                           │ │\n",
              "│ │     Aliases: []                                                                                             │ │\n",
              "│ │     Collection ID: 0                                                                                        │ │\n",
              "│ │     Consistency Level: 0                                                                                    │ │\n",
              "│ │     Properties: {}                                                                                          │ │\n",
              "│ │     Num Partitions: 0                                                                                       │ │\n",
              "│ │     Enable Dynamic Field: True                                                                              │ │\n",
              "│ ╰─────────────────────────────────────────────────────────────────────────────────────────────────────────────╯ │\n",
              "│ \u001b[3m                                         Fields                                         \u001b[0m                        │\n",
              "│ ┏━━━━━┳━━━━━━━━┳━━━━━━━━━━━━━┳━━━━━━━━━━━━━━┳━━━━━━━━━━━━━━━━━━━┳━━━━━━━━━┳━━━━━━━━━━━━┓                        │\n",
              "│ ┃\u001b[1m \u001b[0m\u001b[1mid \u001b[0m\u001b[1m \u001b[0m┃\u001b[1m \u001b[0m\u001b[1mname  \u001b[0m\u001b[1m \u001b[0m┃\u001b[1m \u001b[0m\u001b[1mdescription\u001b[0m\u001b[1m \u001b[0m┃\u001b[1m \u001b[0m\u001b[1mtype        \u001b[0m\u001b[1m \u001b[0m┃\u001b[1m \u001b[0m\u001b[1mparams           \u001b[0m\u001b[1m \u001b[0m┃\u001b[1m \u001b[0m\u001b[1mauto_id\u001b[0m\u001b[1m \u001b[0m┃\u001b[1m \u001b[0m\u001b[1mis_primary\u001b[0m\u001b[1m \u001b[0m┃                        │\n",
              "│ ┡━━━━━╇━━━━━━━━╇━━━━━━━━━━━━━╇━━━━━━━━━━━━━━╇━━━━━━━━━━━━━━━━━━━╇━━━━━━━━━╇━━━━━━━━━━━━┩                        │\n",
              "│ │\u001b[34m \u001b[0m\u001b[34m100\u001b[0m\u001b[34m \u001b[0m│\u001b[32m \u001b[0m\u001b[32mid    \u001b[0m\u001b[32m \u001b[0m│\u001b[32m \u001b[0m\u001b[32m           \u001b[0m\u001b[32m \u001b[0m│\u001b[32m \u001b[0m\u001b[32mINT64       \u001b[0m\u001b[32m \u001b[0m│\u001b[32m \u001b[0m\u001b[32m                 \u001b[0m\u001b[32m \u001b[0m│\u001b[32m \u001b[0m\u001b[32mTrue   \u001b[0m\u001b[32m \u001b[0m│\u001b[32m \u001b[0m\u001b[32mTrue      \u001b[0m\u001b[32m \u001b[0m│                        │\n",
              "│ ├─────┼────────┼─────────────┼──────────────┼───────────────────┼─────────┼────────────┤                        │\n",
              "│ │\u001b[34m \u001b[0m\u001b[34m101\u001b[0m\u001b[34m \u001b[0m│\u001b[32m \u001b[0m\u001b[32mtext  \u001b[0m\u001b[32m \u001b[0m│\u001b[32m \u001b[0m\u001b[32m           \u001b[0m\u001b[32m \u001b[0m│\u001b[32m \u001b[0m\u001b[32mVARCHAR     \u001b[0m\u001b[32m \u001b[0m│\u001b[32m \u001b[0m\u001b[32mmax_length: 50000\u001b[0m\u001b[32m \u001b[0m│\u001b[32m \u001b[0m\u001b[32m-      \u001b[0m\u001b[32m \u001b[0m│\u001b[32m \u001b[0m\u001b[32m-         \u001b[0m\u001b[32m \u001b[0m│                        │\n",
              "│ ├─────┼────────┼─────────────┼──────────────┼───────────────────┼─────────┼────────────┤                        │\n",
              "│ │\u001b[34m \u001b[0m\u001b[34m102\u001b[0m\u001b[34m \u001b[0m│\u001b[32m \u001b[0m\u001b[32mvector\u001b[0m\u001b[32m \u001b[0m│\u001b[32m \u001b[0m\u001b[32m           \u001b[0m\u001b[32m \u001b[0m│\u001b[32m \u001b[0m\u001b[32mFLOAT_VECTOR\u001b[0m\u001b[32m \u001b[0m│\u001b[32m \u001b[0m\u001b[32mdim: 384         \u001b[0m\u001b[32m \u001b[0m│\u001b[32m \u001b[0m\u001b[32m-      \u001b[0m\u001b[32m \u001b[0m│\u001b[32m \u001b[0m\u001b[32m-         \u001b[0m\u001b[32m \u001b[0m│                        │\n",
              "│ └─────┴────────┴─────────────┴──────────────┴───────────────────┴─────────┴────────────┘                        │\n",
              "│ ╭─────────────────────────────────────────────────── Stats ───────────────────────────────────────────────────╮ │\n",
              "│ │ row_count: 268                                                                                              │ │\n",
              "│ ╰─────────────────────────────────────────────────────────────────────────────────────────────────────────────╯ │\n",
              "╰─────────────────────────────────────────────────────────────────────────────────────────────────────────────────╯\n"
            ],
            "text/html": [
              "<pre style=\"white-space:pre;overflow-x:auto;line-height:normal;font-family:Menlo,'DejaVu Sans Mono',consolas,'Courier New',monospace\">╭─────────────────────────────────────────────── Collection chunks ───────────────────────────────────────────────╮\n",
              "│ ╭────────────────────────────────────────────────── Params ───────────────────────────────────────────────────╮ │\n",
              "│ │                                                                                                             │ │\n",
              "│ │     Collection Name: chunks                                                                                 │ │\n",
              "│ │     Auto ID: True                                                                                           │ │\n",
              "│ │     Num Shards: 0                                                                                           │ │\n",
              "│ │     Description: Chunks Schema                                                                              │ │\n",
              "│ │     Functions: []                                                                                           │ │\n",
              "│ │     Aliases: []                                                                                             │ │\n",
              "│ │     Collection ID: 0                                                                                        │ │\n",
              "│ │     Consistency Level: 0                                                                                    │ │\n",
              "│ │     Properties: {}                                                                                          │ │\n",
              "│ │     Num Partitions: 0                                                                                       │ │\n",
              "│ │     Enable Dynamic Field: True                                                                              │ │\n",
              "│ ╰─────────────────────────────────────────────────────────────────────────────────────────────────────────────╯ │\n",
              "│ <span style=\"font-style: italic\">                                         Fields                                         </span>                        │\n",
              "│ ┏━━━━━┳━━━━━━━━┳━━━━━━━━━━━━━┳━━━━━━━━━━━━━━┳━━━━━━━━━━━━━━━━━━━┳━━━━━━━━━┳━━━━━━━━━━━━┓                        │\n",
              "│ ┃<span style=\"font-weight: bold\"> id  </span>┃<span style=\"font-weight: bold\"> name   </span>┃<span style=\"font-weight: bold\"> description </span>┃<span style=\"font-weight: bold\"> type         </span>┃<span style=\"font-weight: bold\"> params            </span>┃<span style=\"font-weight: bold\"> auto_id </span>┃<span style=\"font-weight: bold\"> is_primary </span>┃                        │\n",
              "│ ┡━━━━━╇━━━━━━━━╇━━━━━━━━━━━━━╇━━━━━━━━━━━━━━╇━━━━━━━━━━━━━━━━━━━╇━━━━━━━━━╇━━━━━━━━━━━━┩                        │\n",
              "│ │<span style=\"color: #000080; text-decoration-color: #000080\"> 100 </span>│<span style=\"color: #008000; text-decoration-color: #008000\"> id     </span>│<span style=\"color: #008000; text-decoration-color: #008000\">             </span>│<span style=\"color: #008000; text-decoration-color: #008000\"> INT64        </span>│<span style=\"color: #008000; text-decoration-color: #008000\">                   </span>│<span style=\"color: #008000; text-decoration-color: #008000\"> True    </span>│<span style=\"color: #008000; text-decoration-color: #008000\"> True       </span>│                        │\n",
              "│ ├─────┼────────┼─────────────┼──────────────┼───────────────────┼─────────┼────────────┤                        │\n",
              "│ │<span style=\"color: #000080; text-decoration-color: #000080\"> 101 </span>│<span style=\"color: #008000; text-decoration-color: #008000\"> text   </span>│<span style=\"color: #008000; text-decoration-color: #008000\">             </span>│<span style=\"color: #008000; text-decoration-color: #008000\"> VARCHAR      </span>│<span style=\"color: #008000; text-decoration-color: #008000\"> max_length: 50000 </span>│<span style=\"color: #008000; text-decoration-color: #008000\"> -       </span>│<span style=\"color: #008000; text-decoration-color: #008000\"> -          </span>│                        │\n",
              "│ ├─────┼────────┼─────────────┼──────────────┼───────────────────┼─────────┼────────────┤                        │\n",
              "│ │<span style=\"color: #000080; text-decoration-color: #000080\"> 102 </span>│<span style=\"color: #008000; text-decoration-color: #008000\"> vector </span>│<span style=\"color: #008000; text-decoration-color: #008000\">             </span>│<span style=\"color: #008000; text-decoration-color: #008000\"> FLOAT_VECTOR </span>│<span style=\"color: #008000; text-decoration-color: #008000\"> dim: 384          </span>│<span style=\"color: #008000; text-decoration-color: #008000\"> -       </span>│<span style=\"color: #008000; text-decoration-color: #008000\"> -          </span>│                        │\n",
              "│ └─────┴────────┴─────────────┴──────────────┴───────────────────┴─────────┴────────────┘                        │\n",
              "│ ╭─────────────────────────────────────────────────── Stats ───────────────────────────────────────────────────╮ │\n",
              "│ │ row_count: 268                                                                                              │ │\n",
              "│ ╰─────────────────────────────────────────────────────────────────────────────────────────────────────────────╯ │\n",
              "╰─────────────────────────────────────────────────────────────────────────────────────────────────────────────────╯\n",
              "</pre>\n"
            ]
          },
          "metadata": {}
        }
      ]
    },
    {
      "cell_type": "markdown",
      "source": [
        "# Answer User Question"
      ],
      "metadata": {
        "id": "H_RgYK_ZskDV"
      }
    },
    {
      "cell_type": "code",
      "source": [
        "question = \"What did Hermes say to Prometheus about giving fire to humans?\""
      ],
      "metadata": {
        "id": "VxuBMD3rsjoy"
      },
      "execution_count": 16,
      "outputs": []
    },
    {
      "cell_type": "code",
      "source": [
        "#embedding_fn = embedding_function(literature_config.embedding_model_id)\n",
        "#print(\"Embedding model:\", literature_config.embedding_model_id)\n",
        "\n",
        "#vector_db_client = vector_db(milvus_uri)\n",
        "#print(\"Vector db at uri\", milvus_uri)\n"
      ],
      "metadata": {
        "id": "uatwtobFmSUc"
      },
      "execution_count": 17,
      "outputs": []
    },
    {
      "cell_type": "code",
      "source": [
        "from proscenium.scripts.rag import answer_question\n",
        "\n",
        "answer = answer_question(question, literature_config.model_id, vector_db_client, embedding_fn)\n",
        "\n",
        "print(Panel(answer, title=\"Assistant\"))"
      ],
      "metadata": {
        "colab": {
          "base_uri": "https://localhost:8080/",
          "height": 1000
        },
        "id": "4DcRYOR2mSQz",
        "outputId": "52e48cab-9ee0-4e17-9363-da250ae64cc1"
      },
      "execution_count": 20,
      "outputs": [
        {
          "output_type": "display_data",
          "data": {
            "text/plain": [
              "╭───────────────────────────────────────────────────── User ──────────────────────────────────────────────────────╮\n",
              "│ What did Hermes say to Prometheus about giving fire to humans?                                                  │\n",
              "╰─────────────────────────────────────────────────────────────────────────────────────────────────────────────────╯\n"
            ],
            "text/html": [
              "<pre style=\"white-space:pre;overflow-x:auto;line-height:normal;font-family:Menlo,'DejaVu Sans Mono',consolas,'Courier New',monospace\">╭───────────────────────────────────────────────────── User ──────────────────────────────────────────────────────╮\n",
              "│ What did Hermes say to Prometheus about giving fire to humans?                                                  │\n",
              "╰─────────────────────────────────────────────────────────────────────────────────────────────────────────────────╯\n",
              "</pre>\n"
            ]
          },
          "metadata": {}
        },
        {
          "output_type": "display_data",
          "data": {
            "text/plain": [
              "Found \u001b[1;36m4\u001b[0m closest chunks\n"
            ],
            "text/html": [
              "<pre style=\"white-space:pre;overflow-x:auto;line-height:normal;font-family:Menlo,'DejaVu Sans Mono',consolas,'Courier New',monospace\">Found <span style=\"color: #008080; text-decoration-color: #008080; font-weight: bold\">4</span> closest chunks\n",
              "</pre>\n"
            ]
          },
          "metadata": {}
        },
        {
          "output_type": "display_data",
          "data": {
            "text/plain": [
              "\u001b[3m                                            Closest Chunks                                            \u001b[0m\n",
              "┏━━━━━━━━━━━━━━━━━━━━┳━━━━━━━━━━━━━━━━━━━━┳━━━━━━━━━━━━━━━━━━━━━━━━━━━━━━━━━━━━━━━━━━━━━━━━━━━━━━━━━━┓\n",
              "┃\u001b[1m \u001b[0m\u001b[1m                id\u001b[0m\u001b[1m \u001b[0m┃\u001b[1m \u001b[0m\u001b[1mdistance          \u001b[0m\u001b[1m \u001b[0m┃\u001b[1m \u001b[0m\u001b[1m                                             entity.text\u001b[0m\u001b[1m \u001b[0m┃\n",
              "┡━━━━━━━━━━━━━━━━━━━━╇━━━━━━━━━━━━━━━━━━━━╇━━━━━━━━━━━━━━━━━━━━━━━━━━━━━━━━━━━━━━━━━━━━━━━━━━━━━━━━━━┩\n",
              "│\u001b[36m \u001b[0m\u001b[36m456885564141994220\u001b[0m\u001b[36m \u001b[0m│\u001b[35m \u001b[0m\u001b[35m0.6078414916992188\u001b[0m\u001b[35m \u001b[0m│\u001b[32m \u001b[0m\u001b[32m                                             PROMETHEUS.\u001b[0m\u001b[32m \u001b[0m│\n",
              "│\u001b[36m                    \u001b[0m│\u001b[35m                    \u001b[0m│\u001b[32m \u001b[0m\u001b[32m             Proud? in such pride then be my foemen set,\u001b[0m\u001b[32m \u001b[0m│\n",
              "│\u001b[36m                    \u001b[0m│\u001b[35m                    \u001b[0m│\u001b[32m \u001b[0m\u001b[32m                 And I to see—and of such foes art thou!\u001b[0m\u001b[32m \u001b[0m│\n",
              "│\u001b[36m                    \u001b[0m│\u001b[35m                    \u001b[0m│\u001b[32m \u001b[0m\u001b[32m                                                        \u001b[0m\u001b[32m \u001b[0m│\n",
              "│\u001b[36m                    \u001b[0m│\u001b[35m                    \u001b[0m│\u001b[32m \u001b[0m\u001b[32m                                                 HERMES.\u001b[0m\u001b[32m \u001b[0m│\n",
              "│\u001b[36m                    \u001b[0m│\u001b[35m                    \u001b[0m│\u001b[32m \u001b[0m\u001b[32m           What, blam’st thou me too for thy sufferings?\u001b[0m\u001b[32m \u001b[0m│\n",
              "│\u001b[36m                    \u001b[0m│\u001b[35m                    \u001b[0m│\u001b[32m \u001b[0m\u001b[32m                                                        \u001b[0m\u001b[32m \u001b[0m│\n",
              "│\u001b[36m                    \u001b[0m│\u001b[35m                    \u001b[0m│\u001b[32m \u001b[0m\u001b[32m                                             PROMETHEUS.\u001b[0m\u001b[32m \u001b[0m│\n",
              "│\u001b[36m                    \u001b[0m│\u001b[35m                    \u001b[0m│\u001b[32m \u001b[0m\u001b[32m           Mark a plain word—I loathe all gods that are,\u001b[0m\u001b[32m \u001b[0m│\n",
              "│\u001b[36m                    \u001b[0m│\u001b[35m                    \u001b[0m│\u001b[32m \u001b[0m\u001b[32m            Who reaped my kindness and repay with wrong.\u001b[0m\u001b[32m \u001b[0m│\n",
              "│\u001b[36m                    \u001b[0m│\u001b[35m                    \u001b[0m│\u001b[32m \u001b[0m\u001b[32m                                                        \u001b[0m\u001b[32m \u001b[0m│\n",
              "│\u001b[36m                    \u001b[0m│\u001b[35m                    \u001b[0m│\u001b[32m \u001b[0m\u001b[32m                                                 HERMES.\u001b[0m\u001b[32m \u001b[0m│\n",
              "│\u001b[36m                    \u001b[0m│\u001b[35m                    \u001b[0m│\u001b[32m \u001b[0m\u001b[32m                  I hear no little madness in thy words.\u001b[0m\u001b[32m \u001b[0m│\n",
              "│\u001b[36m                    \u001b[0m│\u001b[35m                    \u001b[0m│\u001b[32m \u001b[0m\u001b[32m                                                        \u001b[0m\u001b[32m \u001b[0m│\n",
              "│\u001b[36m                    \u001b[0m│\u001b[35m                    \u001b[0m│\u001b[32m \u001b[0m\u001b[32m                                             PROMETHEUS.\u001b[0m\u001b[32m \u001b[0m│\n",
              "│\u001b[36m                    \u001b[0m│\u001b[35m                    \u001b[0m│\u001b[32m \u001b[0m\u001b[32m               Madness be mine, if scorn of foes be mad.\u001b[0m\u001b[32m \u001b[0m│\n",
              "│\u001b[36m                    \u001b[0m│\u001b[35m                    \u001b[0m│\u001b[32m \u001b[0m\u001b[32m                                                        \u001b[0m\u001b[32m \u001b[0m│\n",
              "│\u001b[36m                    \u001b[0m│\u001b[35m                    \u001b[0m│\u001b[32m \u001b[0m\u001b[32m                                                 HERMES.\u001b[0m\u001b[32m \u001b[0m│\n",
              "│\u001b[36m                    \u001b[0m│\u001b[35m                    \u001b[0m│\u001b[32m \u001b[0m\u001b[32m              Past bearing were thy pride, in happiness.\u001b[0m\u001b[32m \u001b[0m│\n",
              "│\u001b[36m                    \u001b[0m│\u001b[35m                    \u001b[0m│\u001b[32m \u001b[0m\u001b[32m                                                        \u001b[0m\u001b[32m \u001b[0m│\n",
              "│\u001b[36m                    \u001b[0m│\u001b[35m                    \u001b[0m│\u001b[32m \u001b[0m\u001b[32m                                             PROMETHEUS.\u001b[0m\u001b[32m \u001b[0m│\n",
              "│\u001b[36m                    \u001b[0m│\u001b[35m                    \u001b[0m│\u001b[32m \u001b[0m\u001b[32m                                                  Ah me!\u001b[0m\u001b[32m \u001b[0m│\n",
              "│\u001b[36m                    \u001b[0m│\u001b[35m                    \u001b[0m│\u001b[32m \u001b[0m\u001b[32m                                                        \u001b[0m\u001b[32m \u001b[0m│\n",
              "│\u001b[36m                    \u001b[0m│\u001b[35m                    \u001b[0m│\u001b[32m \u001b[0m\u001b[32m                                                 HERMES.\u001b[0m\u001b[32m \u001b[0m│\n",
              "│\u001b[36m                    \u001b[0m│\u001b[35m                    \u001b[0m│\u001b[32m \u001b[0m\u001b[32m                    Zeus knoweth nought of sorrow’s cry!\u001b[0m\u001b[32m \u001b[0m│\n",
              "│\u001b[36m                    \u001b[0m│\u001b[35m                    \u001b[0m│\u001b[32m \u001b[0m\u001b[32m                                                        \u001b[0m\u001b[32m \u001b[0m│\n",
              "│\u001b[36m                    \u001b[0m│\u001b[35m                    \u001b[0m│\u001b[32m \u001b[0m\u001b[32m                                             PROMETHEUS.\u001b[0m\u001b[32m \u001b[0m│\n",
              "│\u001b[36m                    \u001b[0m│\u001b[35m                    \u001b[0m│\u001b[32m \u001b[0m\u001b[32m       He shall! Time’s lapse bringeth all lessons home.\u001b[0m\u001b[32m \u001b[0m│\n",
              "│\u001b[36m                    \u001b[0m│\u001b[35m                    \u001b[0m│\u001b[32m \u001b[0m\u001b[32m                                                        \u001b[0m\u001b[32m \u001b[0m│\n",
              "│\u001b[36m                    \u001b[0m│\u001b[35m                    \u001b[0m│\u001b[32m \u001b[0m\u001b[32m                                                 HERMES.\u001b[0m\u001b[32m \u001b[0m│\n",
              "│\u001b[36m                    \u001b[0m│\u001b[35m                    \u001b[0m│\u001b[32m \u001b[0m\u001b[32m            To thee it brings not yet discretion’s curb.\u001b[0m\u001b[32m \u001b[0m│\n",
              "│\u001b[36m                    \u001b[0m│\u001b[35m                    \u001b[0m│\u001b[32m \u001b[0m\u001b[32m                                                        \u001b[0m\u001b[32m \u001b[0m│\n",
              "│\u001b[36m                    \u001b[0m│\u001b[35m                    \u001b[0m│\u001b[32m \u001b[0m\u001b[32m                                             PROMETHEUS.\u001b[0m\u001b[32m \u001b[0m│\n",
              "│\u001b[36m                    \u001b[0m│\u001b[35m                    \u001b[0m│\u001b[32m \u001b[0m\u001b[32m                No—else I had not wrangled with a slave!\u001b[0m\u001b[32m \u001b[0m│\n",
              "│\u001b[36m                    \u001b[0m│\u001b[35m                    \u001b[0m│\u001b[32m \u001b[0m\u001b[32m                                                        \u001b[0m\u001b[32m \u001b[0m│\n",
              "│\u001b[36m                    \u001b[0m│\u001b[35m                    \u001b[0m│\u001b[32m \u001b[0m\u001b[32m                                                 HERMES.\u001b[0m\u001b[32m \u001b[0m│\n",
              "│\u001b[36m                    \u001b[0m│\u001b[35m                    \u001b[0m│\u001b[32m \u001b[0m\u001b[32m         Then thou concealest all that Zeus would learn?\u001b[0m\u001b[32m \u001b[0m│\n",
              "│\u001b[36m                    \u001b[0m│\u001b[35m                    \u001b[0m│\u001b[32m \u001b[0m\u001b[32m                                                        \u001b[0m\u001b[32m \u001b[0m│\n",
              "│\u001b[36m                    \u001b[0m│\u001b[35m                    \u001b[0m│\u001b[32m \u001b[0m\u001b[32m                                             PROMETHEUS.\u001b[0m\u001b[32m \u001b[0m│\n",
              "│\u001b[36m                    \u001b[0m│\u001b[35m                    \u001b[0m│\u001b[32m \u001b[0m\u001b[32m            As though I owed him aught and should repay!\u001b[0m\u001b[32m \u001b[0m│\n",
              "│\u001b[36m                    \u001b[0m│\u001b[35m                    \u001b[0m│\u001b[32m \u001b[0m\u001b[32m                                                        \u001b[0m\u001b[32m \u001b[0m│\n",
              "│\u001b[36m                    \u001b[0m│\u001b[35m                    \u001b[0m│\u001b[32m \u001b[0m\u001b[32m                                                 HERMES.\u001b[0m\u001b[32m \u001b[0m│\n",
              "│\u001b[36m                    \u001b[0m│\u001b[35m                    \u001b[0m│\u001b[32m \u001b[0m\u001b[32m            Scornful thy word, as though I were a child—\u001b[0m\u001b[32m \u001b[0m│\n",
              "├────────────────────┼────────────────────┼──────────────────────────────────────────────────────────┤\n",
              "│\u001b[36m \u001b[0m\u001b[36m456885564141994203\u001b[0m\u001b[36m \u001b[0m│\u001b[35m \u001b[0m\u001b[35m0.5721834301948547\u001b[0m\u001b[35m \u001b[0m│\u001b[32m \u001b[0m\u001b[32m                                             PROMETHEUS.\u001b[0m\u001b[32m \u001b[0m│\n",
              "│\u001b[36m                    \u001b[0m│\u001b[35m                    \u001b[0m│\u001b[32m \u001b[0m\u001b[32m            Lo, clearly will I show forth all thy quest—\u001b[0m\u001b[32m \u001b[0m│\n",
              "│\u001b[36m                    \u001b[0m│\u001b[35m                    \u001b[0m│\u001b[32m \u001b[0m\u001b[32m         Not in dark speech, but with such simple phrase\u001b[0m\u001b[32m \u001b[0m│\n",
              "│\u001b[36m                    \u001b[0m│\u001b[35m                    \u001b[0m│\u001b[32m \u001b[0m\u001b[32m                As doth befit the utterance of a friend.\u001b[0m\u001b[32m \u001b[0m│\n",
              "│\u001b[36m                    \u001b[0m│\u001b[35m                    \u001b[0m│\u001b[32m \u001b[0m\u001b[32m                  I am Prometheus, who gave fire to men.\u001b[0m\u001b[32m \u001b[0m│\n",
              "│\u001b[36m                    \u001b[0m│\u001b[35m                    \u001b[0m│\u001b[32m \u001b[0m\u001b[32m                                                        \u001b[0m\u001b[32m \u001b[0m│\n",
              "│\u001b[36m                    \u001b[0m│\u001b[35m                    \u001b[0m│\u001b[32m \u001b[0m\u001b[32m                                                     IO.\u001b[0m\u001b[32m \u001b[0m│\n",
              "│\u001b[36m                    \u001b[0m│\u001b[35m                    \u001b[0m│\u001b[32m \u001b[0m\u001b[32m                O daring, proven champion of man’s race,\u001b[0m\u001b[32m \u001b[0m│\n",
              "│\u001b[36m                    \u001b[0m│\u001b[35m                    \u001b[0m│\u001b[32m \u001b[0m\u001b[32m             What sin, Prometheus, dost thou thus atone?\u001b[0m\u001b[32m \u001b[0m│\n",
              "│\u001b[36m                    \u001b[0m│\u001b[35m                    \u001b[0m│\u001b[32m \u001b[0m\u001b[32m                                                        \u001b[0m\u001b[32m \u001b[0m│\n",
              "│\u001b[36m                    \u001b[0m│\u001b[35m                    \u001b[0m│\u001b[32m \u001b[0m\u001b[32m                                             PROMETHEUS.\u001b[0m\u001b[32m \u001b[0m│\n",
              "│\u001b[36m                    \u001b[0m│\u001b[35m                    \u001b[0m│\u001b[32m \u001b[0m\u001b[32m            One moment since, I told my woes and ceased.\u001b[0m\u001b[32m \u001b[0m│\n",
              "│\u001b[36m                    \u001b[0m│\u001b[35m                    \u001b[0m│\u001b[32m \u001b[0m\u001b[32m                                                        \u001b[0m\u001b[32m \u001b[0m│\n",
              "│\u001b[36m                    \u001b[0m│\u001b[35m                    \u001b[0m│\u001b[32m \u001b[0m\u001b[32m                                                     IO.\u001b[0m\u001b[32m \u001b[0m│\n",
              "│\u001b[36m                    \u001b[0m│\u001b[35m                    \u001b[0m│\u001b[32m \u001b[0m\u001b[32m            Then should I plead my suit to thee in vain?\u001b[0m\u001b[32m \u001b[0m│\n",
              "│\u001b[36m                    \u001b[0m│\u001b[35m                    \u001b[0m│\u001b[32m \u001b[0m\u001b[32m                                                        \u001b[0m\u001b[32m \u001b[0m│\n",
              "│\u001b[36m                    \u001b[0m│\u001b[35m                    \u001b[0m│\u001b[32m \u001b[0m\u001b[32m                                             PROMETHEUS.\u001b[0m\u001b[32m \u001b[0m│\n",
              "│\u001b[36m                    \u001b[0m│\u001b[35m                    \u001b[0m│\u001b[32m \u001b[0m\u001b[32m     Nay, speak thy need; nought would I hide from thee.\u001b[0m\u001b[32m \u001b[0m│\n",
              "│\u001b[36m                    \u001b[0m│\u001b[35m                    \u001b[0m│\u001b[32m \u001b[0m\u001b[32m                                                        \u001b[0m\u001b[32m \u001b[0m│\n",
              "│\u001b[36m                    \u001b[0m│\u001b[35m                    \u001b[0m│\u001b[32m \u001b[0m\u001b[32m                                                     IO.\u001b[0m\u001b[32m \u001b[0m│\n",
              "│\u001b[36m                    \u001b[0m│\u001b[35m                    \u001b[0m│\u001b[32m \u001b[0m\u001b[32m           Pronounce who nailed thee to the rocky cleft.\u001b[0m\u001b[32m \u001b[0m│\n",
              "│\u001b[36m                    \u001b[0m│\u001b[35m                    \u001b[0m│\u001b[32m \u001b[0m\u001b[32m                                                        \u001b[0m\u001b[32m \u001b[0m│\n",
              "│\u001b[36m                    \u001b[0m│\u001b[35m                    \u001b[0m│\u001b[32m \u001b[0m\u001b[32m                                             PROMETHEUS.\u001b[0m\u001b[32m \u001b[0m│\n",
              "│\u001b[36m                    \u001b[0m│\u001b[35m                    \u001b[0m│\u001b[32m \u001b[0m\u001b[32m               Zeus, by intent; Hephaestus, by his hand.\u001b[0m\u001b[32m \u001b[0m│\n",
              "│\u001b[36m                    \u001b[0m│\u001b[35m                    \u001b[0m│\u001b[32m \u001b[0m\u001b[32m                                                        \u001b[0m\u001b[32m \u001b[0m│\n",
              "│\u001b[36m                    \u001b[0m│\u001b[35m                    \u001b[0m│\u001b[32m \u001b[0m\u001b[32m                                                     IO.\u001b[0m\u001b[32m \u001b[0m│\n",
              "│\u001b[36m                    \u001b[0m│\u001b[35m                    \u001b[0m│\u001b[32m \u001b[0m\u001b[32m               For what wrongdoing do these pains atone?\u001b[0m\u001b[32m \u001b[0m│\n",
              "│\u001b[36m                    \u001b[0m│\u001b[35m                    \u001b[0m│\u001b[32m \u001b[0m\u001b[32m                                                        \u001b[0m\u001b[32m \u001b[0m│\n",
              "│\u001b[36m                    \u001b[0m│\u001b[35m                    \u001b[0m│\u001b[32m \u001b[0m\u001b[32m                                             PROMETHEUS.\u001b[0m\u001b[32m \u001b[0m│\n",
              "│\u001b[36m                    \u001b[0m│\u001b[35m                    \u001b[0m│\u001b[32m \u001b[0m\u001b[32m             What I have said, is said; suffice it thee!\u001b[0m\u001b[32m \u001b[0m│\n",
              "│\u001b[36m                    \u001b[0m│\u001b[35m                    \u001b[0m│\u001b[32m \u001b[0m\u001b[32m                                                        \u001b[0m\u001b[32m \u001b[0m│\n",
              "│\u001b[36m                    \u001b[0m│\u001b[35m                    \u001b[0m│\u001b[32m \u001b[0m\u001b[32m                                                     IO.\u001b[0m\u001b[32m \u001b[0m│\n",
              "│\u001b[36m                    \u001b[0m│\u001b[35m                    \u001b[0m│\u001b[32m \u001b[0m\u001b[32m                 Yet somewhat add; forewarn me in my woe\u001b[0m\u001b[32m \u001b[0m│\n",
              "│\u001b[36m                    \u001b[0m│\u001b[35m                    \u001b[0m│\u001b[32m \u001b[0m\u001b[32m         What time shall bring my wandering to its goal?\u001b[0m\u001b[32m \u001b[0m│\n",
              "│\u001b[36m                    \u001b[0m│\u001b[35m                    \u001b[0m│\u001b[32m \u001b[0m\u001b[32m                                                        \u001b[0m\u001b[32m \u001b[0m│\n",
              "│\u001b[36m                    \u001b[0m│\u001b[35m                    \u001b[0m│\u001b[32m \u001b[0m\u001b[32m                                             PROMETHEUS.\u001b[0m\u001b[32m \u001b[0m│\n",
              "│\u001b[36m                    \u001b[0m│\u001b[35m                    \u001b[0m│\u001b[32m \u001b[0m\u001b[32m              Fore-knowledge is fore-sorrow; ask it not.\u001b[0m\u001b[32m \u001b[0m│\n",
              "│\u001b[36m                    \u001b[0m│\u001b[35m                    \u001b[0m│\u001b[32m \u001b[0m\u001b[32m                                                        \u001b[0m\u001b[32m \u001b[0m│\n",
              "│\u001b[36m                    \u001b[0m│\u001b[35m                    \u001b[0m│\u001b[32m \u001b[0m\u001b[32m                                                     IO.\u001b[0m\u001b[32m \u001b[0m│\n",
              "│\u001b[36m                    \u001b[0m│\u001b[35m                    \u001b[0m│\u001b[32m \u001b[0m\u001b[32m                 Nay, hide not from me destiny’s decree.\u001b[0m\u001b[32m \u001b[0m│\n",
              "│\u001b[36m                    \u001b[0m│\u001b[35m                    \u001b[0m│\u001b[32m \u001b[0m\u001b[32m                                                        \u001b[0m\u001b[32m \u001b[0m│\n",
              "│\u001b[36m                    \u001b[0m│\u001b[35m                    \u001b[0m│\u001b[32m \u001b[0m\u001b[32m                                             PROMETHEUS.\u001b[0m\u001b[32m \u001b[0m│\n",
              "│\u001b[36m                    \u001b[0m│\u001b[35m                    \u001b[0m│\u001b[32m \u001b[0m\u001b[32m            I grudge thee not the gift which I withhold.\u001b[0m\u001b[32m \u001b[0m│\n",
              "│\u001b[36m                    \u001b[0m│\u001b[35m                    \u001b[0m│\u001b[32m \u001b[0m\u001b[32m                                                        \u001b[0m\u001b[32m \u001b[0m│\n",
              "│\u001b[36m                    \u001b[0m│\u001b[35m                    \u001b[0m│\u001b[32m \u001b[0m\u001b[32m                                                     IO.\u001b[0m\u001b[32m \u001b[0m│\n",
              "│\u001b[36m                    \u001b[0m│\u001b[35m                    \u001b[0m│\u001b[32m \u001b[0m\u001b[32m              Then wherefore tarry ere thou tell me all?\u001b[0m\u001b[32m \u001b[0m│\n",
              "├────────────────────┼────────────────────┼──────────────────────────────────────────────────────────┤\n",
              "│\u001b[36m \u001b[0m\u001b[36m456885564141994218\u001b[0m\u001b[36m \u001b[0m│\u001b[35m \u001b[0m\u001b[35m0.5535010099411011\u001b[0m\u001b[35m \u001b[0m│\u001b[32m \u001b[0m\u001b[32m                                                 HERMES.\u001b[0m\u001b[32m \u001b[0m│\n",
              "│\u001b[36m                    \u001b[0m│\u001b[35m                    \u001b[0m│\u001b[32m \u001b[0m\u001b[32m                Thou, double-dyed in gall of bitterness,\u001b[0m\u001b[32m \u001b[0m│\n",
              "│\u001b[36m                    \u001b[0m│\u001b[35m                    \u001b[0m│\u001b[32m \u001b[0m\u001b[32m            Trickster and sinner against gods, by giving\u001b[0m\u001b[32m \u001b[0m│\n",
              "│\u001b[36m                    \u001b[0m│\u001b[35m                    \u001b[0m│\u001b[32m \u001b[0m\u001b[32m                      The stolen fire to perishable men!\u001b[0m\u001b[32m \u001b[0m│\n",
              "│\u001b[36m                    \u001b[0m│\u001b[35m                    \u001b[0m│\u001b[32m \u001b[0m\u001b[32m              Attend—the Sire supreme doth bid thee tell\u001b[0m\u001b[32m \u001b[0m│\n",
              "│\u001b[36m                    \u001b[0m│\u001b[35m                    \u001b[0m│\u001b[32m \u001b[0m\u001b[32m            What is the wedlock which thou vauntest now,\u001b[0m\u001b[32m \u001b[0m│\n",
              "│\u001b[36m                    \u001b[0m│\u001b[35m                    \u001b[0m│\u001b[32m \u001b[0m\u001b[32m                      Whereby he falleth from supremacy?\u001b[0m\u001b[32m \u001b[0m│\n",
              "│\u001b[36m                    \u001b[0m│\u001b[35m                    \u001b[0m│\u001b[32m \u001b[0m\u001b[32m  Speak forth the whole, make all thine utterance clear,\u001b[0m\u001b[32m \u001b[0m│\n",
              "│\u001b[36m                    \u001b[0m│\u001b[35m                    \u001b[0m│\u001b[32m \u001b[0m\u001b[32m             Have done with words inscrutable, nor cause\u001b[0m\u001b[32m \u001b[0m│\n",
              "│\u001b[36m                    \u001b[0m│\u001b[35m                    \u001b[0m│\u001b[32m \u001b[0m\u001b[32m                     To me, Prometheus! any further toil\u001b[0m\u001b[32m \u001b[0m│\n",
              "│\u001b[36m                    \u001b[0m│\u001b[35m                    \u001b[0m│\u001b[32m \u001b[0m\u001b[32m                 Or twofold journeying. Go to—thou seest\u001b[0m\u001b[32m \u001b[0m│\n",
              "│\u001b[36m                    \u001b[0m│\u001b[35m                    \u001b[0m│\u001b[32m \u001b[0m\u001b[32m            Zeus doth not soften at such words as thine!\u001b[0m\u001b[32m \u001b[0m│\n",
              "├────────────────────┼────────────────────┼──────────────────────────────────────────────────────────┤\n",
              "│\u001b[36m \u001b[0m\u001b[36m456885564141994221\u001b[0m\u001b[36m \u001b[0m│\u001b[35m \u001b[0m\u001b[35m0.5514397621154785\u001b[0m\u001b[35m \u001b[0m│\u001b[32m \u001b[0m\u001b[32m                                             PROMETHEUS.\u001b[0m\u001b[32m \u001b[0m│\n",
              "│\u001b[36m                    \u001b[0m│\u001b[35m                    \u001b[0m│\u001b[32m \u001b[0m\u001b[32m             Child, ay—or whatsoe’er hath less of brain—\u001b[0m\u001b[32m \u001b[0m│\n",
              "│\u001b[36m                    \u001b[0m│\u001b[35m                    \u001b[0m│\u001b[32m \u001b[0m\u001b[32m           Thou, deeming thou canst wring my secret out!\u001b[0m\u001b[32m \u001b[0m│\n",
              "│\u001b[36m                    \u001b[0m│\u001b[35m                    \u001b[0m│\u001b[32m \u001b[0m\u001b[32m           No mangling torture, no, nor sleight of power\u001b[0m\u001b[32m \u001b[0m│\n",
              "│\u001b[36m                    \u001b[0m│\u001b[35m                    \u001b[0m│\u001b[32m \u001b[0m\u001b[32m           There is, by which he shall compel my speech,\u001b[0m\u001b[32m \u001b[0m│\n",
              "│\u001b[36m                    \u001b[0m│\u001b[35m                    \u001b[0m│\u001b[32m \u001b[0m\u001b[32m            Until these shaming bonds be loosed from me.\u001b[0m\u001b[32m \u001b[0m│\n",
              "│\u001b[36m                    \u001b[0m│\u001b[35m                    \u001b[0m│\u001b[32m \u001b[0m\u001b[32m               So, let him fling his blazing levin-bolt!\u001b[0m\u001b[32m \u001b[0m│\n",
              "│\u001b[36m                    \u001b[0m│\u001b[35m                    \u001b[0m│\u001b[32m \u001b[0m\u001b[32m           Let him with white and winged flakes of snow,\u001b[0m\u001b[32m \u001b[0m│\n",
              "│\u001b[36m                    \u001b[0m│\u001b[35m                    \u001b[0m│\u001b[32m \u001b[0m\u001b[32m    And rumbling earthquakes, whelm and shake the world!\u001b[0m\u001b[32m \u001b[0m│\n",
              "│\u001b[36m                    \u001b[0m│\u001b[35m                    \u001b[0m│\u001b[32m \u001b[0m\u001b[32m              For nought of this shall bend me to reveal\u001b[0m\u001b[32m \u001b[0m│\n",
              "│\u001b[36m                    \u001b[0m│\u001b[35m                    \u001b[0m│\u001b[32m \u001b[0m\u001b[32m         The power ordained to hurl him from his throne.\u001b[0m\u001b[32m \u001b[0m│\n",
              "│\u001b[36m                    \u001b[0m│\u001b[35m                    \u001b[0m│\u001b[32m \u001b[0m\u001b[32m                                                        \u001b[0m\u001b[32m \u001b[0m│\n",
              "│\u001b[36m                    \u001b[0m│\u001b[35m                    \u001b[0m│\u001b[32m \u001b[0m\u001b[32m                                                 HERMES.\u001b[0m\u001b[32m \u001b[0m│\n",
              "│\u001b[36m                    \u001b[0m│\u001b[35m                    \u001b[0m│\u001b[32m \u001b[0m\u001b[32m            Bethink thee if such words can mend thy lot.\u001b[0m\u001b[32m \u001b[0m│\n",
              "│\u001b[36m                    \u001b[0m│\u001b[35m                    \u001b[0m│\u001b[32m \u001b[0m\u001b[32m                                                        \u001b[0m\u001b[32m \u001b[0m│\n",
              "│\u001b[36m                    \u001b[0m│\u001b[35m                    \u001b[0m│\u001b[32m \u001b[0m\u001b[32m                                             PROMETHEUS.\u001b[0m\u001b[32m \u001b[0m│\n",
              "│\u001b[36m                    \u001b[0m│\u001b[35m                    \u001b[0m│\u001b[32m \u001b[0m\u001b[32m             All have I long foreseen, and all resolved.\u001b[0m\u001b[32m \u001b[0m│\n",
              "│\u001b[36m                    \u001b[0m│\u001b[35m                    \u001b[0m│\u001b[32m \u001b[0m\u001b[32m                                                        \u001b[0m\u001b[32m \u001b[0m│\n",
              "│\u001b[36m                    \u001b[0m│\u001b[35m                    \u001b[0m│\u001b[32m \u001b[0m\u001b[32m                                                 HERMES.\u001b[0m\u001b[32m \u001b[0m│\n",
              "│\u001b[36m                    \u001b[0m│\u001b[35m                    \u001b[0m│\u001b[32m \u001b[0m\u001b[32m         Perverse of will! constrain, constrain thy soul\u001b[0m\u001b[32m \u001b[0m│\n",
              "│\u001b[36m                    \u001b[0m│\u001b[35m                    \u001b[0m│\u001b[32m \u001b[0m\u001b[32m              To think more wisely in the grasp of doom!\u001b[0m\u001b[32m \u001b[0m│\n",
              "└────────────────────┴────────────────────┴──────────────────────────────────────────────────────────┘\n"
            ],
            "text/html": [
              "<pre style=\"white-space:pre;overflow-x:auto;line-height:normal;font-family:Menlo,'DejaVu Sans Mono',consolas,'Courier New',monospace\"><span style=\"font-style: italic\">                                            Closest Chunks                                            </span>\n",
              "┏━━━━━━━━━━━━━━━━━━━━┳━━━━━━━━━━━━━━━━━━━━┳━━━━━━━━━━━━━━━━━━━━━━━━━━━━━━━━━━━━━━━━━━━━━━━━━━━━━━━━━━┓\n",
              "┃<span style=\"font-weight: bold\">                 id </span>┃<span style=\"font-weight: bold\"> distance           </span>┃<span style=\"font-weight: bold\">                                              entity.text </span>┃\n",
              "┡━━━━━━━━━━━━━━━━━━━━╇━━━━━━━━━━━━━━━━━━━━╇━━━━━━━━━━━━━━━━━━━━━━━━━━━━━━━━━━━━━━━━━━━━━━━━━━━━━━━━━━┩\n",
              "│<span style=\"color: #008080; text-decoration-color: #008080\"> 456885564141994220 </span>│<span style=\"color: #800080; text-decoration-color: #800080\"> 0.6078414916992188 </span>│<span style=\"color: #008000; text-decoration-color: #008000\">                                              PROMETHEUS. </span>│\n",
              "│<span style=\"color: #008080; text-decoration-color: #008080\">                    </span>│<span style=\"color: #800080; text-decoration-color: #800080\">                    </span>│<span style=\"color: #008000; text-decoration-color: #008000\">              Proud? in such pride then be my foemen set, </span>│\n",
              "│<span style=\"color: #008080; text-decoration-color: #008080\">                    </span>│<span style=\"color: #800080; text-decoration-color: #800080\">                    </span>│<span style=\"color: #008000; text-decoration-color: #008000\">                  And I to see—and of such foes art thou! </span>│\n",
              "│<span style=\"color: #008080; text-decoration-color: #008080\">                    </span>│<span style=\"color: #800080; text-decoration-color: #800080\">                    </span>│<span style=\"color: #008000; text-decoration-color: #008000\">                                                          </span>│\n",
              "│<span style=\"color: #008080; text-decoration-color: #008080\">                    </span>│<span style=\"color: #800080; text-decoration-color: #800080\">                    </span>│<span style=\"color: #008000; text-decoration-color: #008000\">                                                  HERMES. </span>│\n",
              "│<span style=\"color: #008080; text-decoration-color: #008080\">                    </span>│<span style=\"color: #800080; text-decoration-color: #800080\">                    </span>│<span style=\"color: #008000; text-decoration-color: #008000\">            What, blam’st thou me too for thy sufferings? </span>│\n",
              "│<span style=\"color: #008080; text-decoration-color: #008080\">                    </span>│<span style=\"color: #800080; text-decoration-color: #800080\">                    </span>│<span style=\"color: #008000; text-decoration-color: #008000\">                                                          </span>│\n",
              "│<span style=\"color: #008080; text-decoration-color: #008080\">                    </span>│<span style=\"color: #800080; text-decoration-color: #800080\">                    </span>│<span style=\"color: #008000; text-decoration-color: #008000\">                                              PROMETHEUS. </span>│\n",
              "│<span style=\"color: #008080; text-decoration-color: #008080\">                    </span>│<span style=\"color: #800080; text-decoration-color: #800080\">                    </span>│<span style=\"color: #008000; text-decoration-color: #008000\">            Mark a plain word—I loathe all gods that are, </span>│\n",
              "│<span style=\"color: #008080; text-decoration-color: #008080\">                    </span>│<span style=\"color: #800080; text-decoration-color: #800080\">                    </span>│<span style=\"color: #008000; text-decoration-color: #008000\">             Who reaped my kindness and repay with wrong. </span>│\n",
              "│<span style=\"color: #008080; text-decoration-color: #008080\">                    </span>│<span style=\"color: #800080; text-decoration-color: #800080\">                    </span>│<span style=\"color: #008000; text-decoration-color: #008000\">                                                          </span>│\n",
              "│<span style=\"color: #008080; text-decoration-color: #008080\">                    </span>│<span style=\"color: #800080; text-decoration-color: #800080\">                    </span>│<span style=\"color: #008000; text-decoration-color: #008000\">                                                  HERMES. </span>│\n",
              "│<span style=\"color: #008080; text-decoration-color: #008080\">                    </span>│<span style=\"color: #800080; text-decoration-color: #800080\">                    </span>│<span style=\"color: #008000; text-decoration-color: #008000\">                   I hear no little madness in thy words. </span>│\n",
              "│<span style=\"color: #008080; text-decoration-color: #008080\">                    </span>│<span style=\"color: #800080; text-decoration-color: #800080\">                    </span>│<span style=\"color: #008000; text-decoration-color: #008000\">                                                          </span>│\n",
              "│<span style=\"color: #008080; text-decoration-color: #008080\">                    </span>│<span style=\"color: #800080; text-decoration-color: #800080\">                    </span>│<span style=\"color: #008000; text-decoration-color: #008000\">                                              PROMETHEUS. </span>│\n",
              "│<span style=\"color: #008080; text-decoration-color: #008080\">                    </span>│<span style=\"color: #800080; text-decoration-color: #800080\">                    </span>│<span style=\"color: #008000; text-decoration-color: #008000\">                Madness be mine, if scorn of foes be mad. </span>│\n",
              "│<span style=\"color: #008080; text-decoration-color: #008080\">                    </span>│<span style=\"color: #800080; text-decoration-color: #800080\">                    </span>│<span style=\"color: #008000; text-decoration-color: #008000\">                                                          </span>│\n",
              "│<span style=\"color: #008080; text-decoration-color: #008080\">                    </span>│<span style=\"color: #800080; text-decoration-color: #800080\">                    </span>│<span style=\"color: #008000; text-decoration-color: #008000\">                                                  HERMES. </span>│\n",
              "│<span style=\"color: #008080; text-decoration-color: #008080\">                    </span>│<span style=\"color: #800080; text-decoration-color: #800080\">                    </span>│<span style=\"color: #008000; text-decoration-color: #008000\">               Past bearing were thy pride, in happiness. </span>│\n",
              "│<span style=\"color: #008080; text-decoration-color: #008080\">                    </span>│<span style=\"color: #800080; text-decoration-color: #800080\">                    </span>│<span style=\"color: #008000; text-decoration-color: #008000\">                                                          </span>│\n",
              "│<span style=\"color: #008080; text-decoration-color: #008080\">                    </span>│<span style=\"color: #800080; text-decoration-color: #800080\">                    </span>│<span style=\"color: #008000; text-decoration-color: #008000\">                                              PROMETHEUS. </span>│\n",
              "│<span style=\"color: #008080; text-decoration-color: #008080\">                    </span>│<span style=\"color: #800080; text-decoration-color: #800080\">                    </span>│<span style=\"color: #008000; text-decoration-color: #008000\">                                                   Ah me! </span>│\n",
              "│<span style=\"color: #008080; text-decoration-color: #008080\">                    </span>│<span style=\"color: #800080; text-decoration-color: #800080\">                    </span>│<span style=\"color: #008000; text-decoration-color: #008000\">                                                          </span>│\n",
              "│<span style=\"color: #008080; text-decoration-color: #008080\">                    </span>│<span style=\"color: #800080; text-decoration-color: #800080\">                    </span>│<span style=\"color: #008000; text-decoration-color: #008000\">                                                  HERMES. </span>│\n",
              "│<span style=\"color: #008080; text-decoration-color: #008080\">                    </span>│<span style=\"color: #800080; text-decoration-color: #800080\">                    </span>│<span style=\"color: #008000; text-decoration-color: #008000\">                     Zeus knoweth nought of sorrow’s cry! </span>│\n",
              "│<span style=\"color: #008080; text-decoration-color: #008080\">                    </span>│<span style=\"color: #800080; text-decoration-color: #800080\">                    </span>│<span style=\"color: #008000; text-decoration-color: #008000\">                                                          </span>│\n",
              "│<span style=\"color: #008080; text-decoration-color: #008080\">                    </span>│<span style=\"color: #800080; text-decoration-color: #800080\">                    </span>│<span style=\"color: #008000; text-decoration-color: #008000\">                                              PROMETHEUS. </span>│\n",
              "│<span style=\"color: #008080; text-decoration-color: #008080\">                    </span>│<span style=\"color: #800080; text-decoration-color: #800080\">                    </span>│<span style=\"color: #008000; text-decoration-color: #008000\">        He shall! Time’s lapse bringeth all lessons home. </span>│\n",
              "│<span style=\"color: #008080; text-decoration-color: #008080\">                    </span>│<span style=\"color: #800080; text-decoration-color: #800080\">                    </span>│<span style=\"color: #008000; text-decoration-color: #008000\">                                                          </span>│\n",
              "│<span style=\"color: #008080; text-decoration-color: #008080\">                    </span>│<span style=\"color: #800080; text-decoration-color: #800080\">                    </span>│<span style=\"color: #008000; text-decoration-color: #008000\">                                                  HERMES. </span>│\n",
              "│<span style=\"color: #008080; text-decoration-color: #008080\">                    </span>│<span style=\"color: #800080; text-decoration-color: #800080\">                    </span>│<span style=\"color: #008000; text-decoration-color: #008000\">             To thee it brings not yet discretion’s curb. </span>│\n",
              "│<span style=\"color: #008080; text-decoration-color: #008080\">                    </span>│<span style=\"color: #800080; text-decoration-color: #800080\">                    </span>│<span style=\"color: #008000; text-decoration-color: #008000\">                                                          </span>│\n",
              "│<span style=\"color: #008080; text-decoration-color: #008080\">                    </span>│<span style=\"color: #800080; text-decoration-color: #800080\">                    </span>│<span style=\"color: #008000; text-decoration-color: #008000\">                                              PROMETHEUS. </span>│\n",
              "│<span style=\"color: #008080; text-decoration-color: #008080\">                    </span>│<span style=\"color: #800080; text-decoration-color: #800080\">                    </span>│<span style=\"color: #008000; text-decoration-color: #008000\">                 No—else I had not wrangled with a slave! </span>│\n",
              "│<span style=\"color: #008080; text-decoration-color: #008080\">                    </span>│<span style=\"color: #800080; text-decoration-color: #800080\">                    </span>│<span style=\"color: #008000; text-decoration-color: #008000\">                                                          </span>│\n",
              "│<span style=\"color: #008080; text-decoration-color: #008080\">                    </span>│<span style=\"color: #800080; text-decoration-color: #800080\">                    </span>│<span style=\"color: #008000; text-decoration-color: #008000\">                                                  HERMES. </span>│\n",
              "│<span style=\"color: #008080; text-decoration-color: #008080\">                    </span>│<span style=\"color: #800080; text-decoration-color: #800080\">                    </span>│<span style=\"color: #008000; text-decoration-color: #008000\">          Then thou concealest all that Zeus would learn? </span>│\n",
              "│<span style=\"color: #008080; text-decoration-color: #008080\">                    </span>│<span style=\"color: #800080; text-decoration-color: #800080\">                    </span>│<span style=\"color: #008000; text-decoration-color: #008000\">                                                          </span>│\n",
              "│<span style=\"color: #008080; text-decoration-color: #008080\">                    </span>│<span style=\"color: #800080; text-decoration-color: #800080\">                    </span>│<span style=\"color: #008000; text-decoration-color: #008000\">                                              PROMETHEUS. </span>│\n",
              "│<span style=\"color: #008080; text-decoration-color: #008080\">                    </span>│<span style=\"color: #800080; text-decoration-color: #800080\">                    </span>│<span style=\"color: #008000; text-decoration-color: #008000\">             As though I owed him aught and should repay! </span>│\n",
              "│<span style=\"color: #008080; text-decoration-color: #008080\">                    </span>│<span style=\"color: #800080; text-decoration-color: #800080\">                    </span>│<span style=\"color: #008000; text-decoration-color: #008000\">                                                          </span>│\n",
              "│<span style=\"color: #008080; text-decoration-color: #008080\">                    </span>│<span style=\"color: #800080; text-decoration-color: #800080\">                    </span>│<span style=\"color: #008000; text-decoration-color: #008000\">                                                  HERMES. </span>│\n",
              "│<span style=\"color: #008080; text-decoration-color: #008080\">                    </span>│<span style=\"color: #800080; text-decoration-color: #800080\">                    </span>│<span style=\"color: #008000; text-decoration-color: #008000\">             Scornful thy word, as though I were a child— </span>│\n",
              "├────────────────────┼────────────────────┼──────────────────────────────────────────────────────────┤\n",
              "│<span style=\"color: #008080; text-decoration-color: #008080\"> 456885564141994203 </span>│<span style=\"color: #800080; text-decoration-color: #800080\"> 0.5721834301948547 </span>│<span style=\"color: #008000; text-decoration-color: #008000\">                                              PROMETHEUS. </span>│\n",
              "│<span style=\"color: #008080; text-decoration-color: #008080\">                    </span>│<span style=\"color: #800080; text-decoration-color: #800080\">                    </span>│<span style=\"color: #008000; text-decoration-color: #008000\">             Lo, clearly will I show forth all thy quest— </span>│\n",
              "│<span style=\"color: #008080; text-decoration-color: #008080\">                    </span>│<span style=\"color: #800080; text-decoration-color: #800080\">                    </span>│<span style=\"color: #008000; text-decoration-color: #008000\">          Not in dark speech, but with such simple phrase </span>│\n",
              "│<span style=\"color: #008080; text-decoration-color: #008080\">                    </span>│<span style=\"color: #800080; text-decoration-color: #800080\">                    </span>│<span style=\"color: #008000; text-decoration-color: #008000\">                 As doth befit the utterance of a friend. </span>│\n",
              "│<span style=\"color: #008080; text-decoration-color: #008080\">                    </span>│<span style=\"color: #800080; text-decoration-color: #800080\">                    </span>│<span style=\"color: #008000; text-decoration-color: #008000\">                   I am Prometheus, who gave fire to men. </span>│\n",
              "│<span style=\"color: #008080; text-decoration-color: #008080\">                    </span>│<span style=\"color: #800080; text-decoration-color: #800080\">                    </span>│<span style=\"color: #008000; text-decoration-color: #008000\">                                                          </span>│\n",
              "│<span style=\"color: #008080; text-decoration-color: #008080\">                    </span>│<span style=\"color: #800080; text-decoration-color: #800080\">                    </span>│<span style=\"color: #008000; text-decoration-color: #008000\">                                                      IO. </span>│\n",
              "│<span style=\"color: #008080; text-decoration-color: #008080\">                    </span>│<span style=\"color: #800080; text-decoration-color: #800080\">                    </span>│<span style=\"color: #008000; text-decoration-color: #008000\">                 O daring, proven champion of man’s race, </span>│\n",
              "│<span style=\"color: #008080; text-decoration-color: #008080\">                    </span>│<span style=\"color: #800080; text-decoration-color: #800080\">                    </span>│<span style=\"color: #008000; text-decoration-color: #008000\">              What sin, Prometheus, dost thou thus atone? </span>│\n",
              "│<span style=\"color: #008080; text-decoration-color: #008080\">                    </span>│<span style=\"color: #800080; text-decoration-color: #800080\">                    </span>│<span style=\"color: #008000; text-decoration-color: #008000\">                                                          </span>│\n",
              "│<span style=\"color: #008080; text-decoration-color: #008080\">                    </span>│<span style=\"color: #800080; text-decoration-color: #800080\">                    </span>│<span style=\"color: #008000; text-decoration-color: #008000\">                                              PROMETHEUS. </span>│\n",
              "│<span style=\"color: #008080; text-decoration-color: #008080\">                    </span>│<span style=\"color: #800080; text-decoration-color: #800080\">                    </span>│<span style=\"color: #008000; text-decoration-color: #008000\">             One moment since, I told my woes and ceased. </span>│\n",
              "│<span style=\"color: #008080; text-decoration-color: #008080\">                    </span>│<span style=\"color: #800080; text-decoration-color: #800080\">                    </span>│<span style=\"color: #008000; text-decoration-color: #008000\">                                                          </span>│\n",
              "│<span style=\"color: #008080; text-decoration-color: #008080\">                    </span>│<span style=\"color: #800080; text-decoration-color: #800080\">                    </span>│<span style=\"color: #008000; text-decoration-color: #008000\">                                                      IO. </span>│\n",
              "│<span style=\"color: #008080; text-decoration-color: #008080\">                    </span>│<span style=\"color: #800080; text-decoration-color: #800080\">                    </span>│<span style=\"color: #008000; text-decoration-color: #008000\">             Then should I plead my suit to thee in vain? </span>│\n",
              "│<span style=\"color: #008080; text-decoration-color: #008080\">                    </span>│<span style=\"color: #800080; text-decoration-color: #800080\">                    </span>│<span style=\"color: #008000; text-decoration-color: #008000\">                                                          </span>│\n",
              "│<span style=\"color: #008080; text-decoration-color: #008080\">                    </span>│<span style=\"color: #800080; text-decoration-color: #800080\">                    </span>│<span style=\"color: #008000; text-decoration-color: #008000\">                                              PROMETHEUS. </span>│\n",
              "│<span style=\"color: #008080; text-decoration-color: #008080\">                    </span>│<span style=\"color: #800080; text-decoration-color: #800080\">                    </span>│<span style=\"color: #008000; text-decoration-color: #008000\">      Nay, speak thy need; nought would I hide from thee. </span>│\n",
              "│<span style=\"color: #008080; text-decoration-color: #008080\">                    </span>│<span style=\"color: #800080; text-decoration-color: #800080\">                    </span>│<span style=\"color: #008000; text-decoration-color: #008000\">                                                          </span>│\n",
              "│<span style=\"color: #008080; text-decoration-color: #008080\">                    </span>│<span style=\"color: #800080; text-decoration-color: #800080\">                    </span>│<span style=\"color: #008000; text-decoration-color: #008000\">                                                      IO. </span>│\n",
              "│<span style=\"color: #008080; text-decoration-color: #008080\">                    </span>│<span style=\"color: #800080; text-decoration-color: #800080\">                    </span>│<span style=\"color: #008000; text-decoration-color: #008000\">            Pronounce who nailed thee to the rocky cleft. </span>│\n",
              "│<span style=\"color: #008080; text-decoration-color: #008080\">                    </span>│<span style=\"color: #800080; text-decoration-color: #800080\">                    </span>│<span style=\"color: #008000; text-decoration-color: #008000\">                                                          </span>│\n",
              "│<span style=\"color: #008080; text-decoration-color: #008080\">                    </span>│<span style=\"color: #800080; text-decoration-color: #800080\">                    </span>│<span style=\"color: #008000; text-decoration-color: #008000\">                                              PROMETHEUS. </span>│\n",
              "│<span style=\"color: #008080; text-decoration-color: #008080\">                    </span>│<span style=\"color: #800080; text-decoration-color: #800080\">                    </span>│<span style=\"color: #008000; text-decoration-color: #008000\">                Zeus, by intent; Hephaestus, by his hand. </span>│\n",
              "│<span style=\"color: #008080; text-decoration-color: #008080\">                    </span>│<span style=\"color: #800080; text-decoration-color: #800080\">                    </span>│<span style=\"color: #008000; text-decoration-color: #008000\">                                                          </span>│\n",
              "│<span style=\"color: #008080; text-decoration-color: #008080\">                    </span>│<span style=\"color: #800080; text-decoration-color: #800080\">                    </span>│<span style=\"color: #008000; text-decoration-color: #008000\">                                                      IO. </span>│\n",
              "│<span style=\"color: #008080; text-decoration-color: #008080\">                    </span>│<span style=\"color: #800080; text-decoration-color: #800080\">                    </span>│<span style=\"color: #008000; text-decoration-color: #008000\">                For what wrongdoing do these pains atone? </span>│\n",
              "│<span style=\"color: #008080; text-decoration-color: #008080\">                    </span>│<span style=\"color: #800080; text-decoration-color: #800080\">                    </span>│<span style=\"color: #008000; text-decoration-color: #008000\">                                                          </span>│\n",
              "│<span style=\"color: #008080; text-decoration-color: #008080\">                    </span>│<span style=\"color: #800080; text-decoration-color: #800080\">                    </span>│<span style=\"color: #008000; text-decoration-color: #008000\">                                              PROMETHEUS. </span>│\n",
              "│<span style=\"color: #008080; text-decoration-color: #008080\">                    </span>│<span style=\"color: #800080; text-decoration-color: #800080\">                    </span>│<span style=\"color: #008000; text-decoration-color: #008000\">              What I have said, is said; suffice it thee! </span>│\n",
              "│<span style=\"color: #008080; text-decoration-color: #008080\">                    </span>│<span style=\"color: #800080; text-decoration-color: #800080\">                    </span>│<span style=\"color: #008000; text-decoration-color: #008000\">                                                          </span>│\n",
              "│<span style=\"color: #008080; text-decoration-color: #008080\">                    </span>│<span style=\"color: #800080; text-decoration-color: #800080\">                    </span>│<span style=\"color: #008000; text-decoration-color: #008000\">                                                      IO. </span>│\n",
              "│<span style=\"color: #008080; text-decoration-color: #008080\">                    </span>│<span style=\"color: #800080; text-decoration-color: #800080\">                    </span>│<span style=\"color: #008000; text-decoration-color: #008000\">                  Yet somewhat add; forewarn me in my woe </span>│\n",
              "│<span style=\"color: #008080; text-decoration-color: #008080\">                    </span>│<span style=\"color: #800080; text-decoration-color: #800080\">                    </span>│<span style=\"color: #008000; text-decoration-color: #008000\">          What time shall bring my wandering to its goal? </span>│\n",
              "│<span style=\"color: #008080; text-decoration-color: #008080\">                    </span>│<span style=\"color: #800080; text-decoration-color: #800080\">                    </span>│<span style=\"color: #008000; text-decoration-color: #008000\">                                                          </span>│\n",
              "│<span style=\"color: #008080; text-decoration-color: #008080\">                    </span>│<span style=\"color: #800080; text-decoration-color: #800080\">                    </span>│<span style=\"color: #008000; text-decoration-color: #008000\">                                              PROMETHEUS. </span>│\n",
              "│<span style=\"color: #008080; text-decoration-color: #008080\">                    </span>│<span style=\"color: #800080; text-decoration-color: #800080\">                    </span>│<span style=\"color: #008000; text-decoration-color: #008000\">               Fore-knowledge is fore-sorrow; ask it not. </span>│\n",
              "│<span style=\"color: #008080; text-decoration-color: #008080\">                    </span>│<span style=\"color: #800080; text-decoration-color: #800080\">                    </span>│<span style=\"color: #008000; text-decoration-color: #008000\">                                                          </span>│\n",
              "│<span style=\"color: #008080; text-decoration-color: #008080\">                    </span>│<span style=\"color: #800080; text-decoration-color: #800080\">                    </span>│<span style=\"color: #008000; text-decoration-color: #008000\">                                                      IO. </span>│\n",
              "│<span style=\"color: #008080; text-decoration-color: #008080\">                    </span>│<span style=\"color: #800080; text-decoration-color: #800080\">                    </span>│<span style=\"color: #008000; text-decoration-color: #008000\">                  Nay, hide not from me destiny’s decree. </span>│\n",
              "│<span style=\"color: #008080; text-decoration-color: #008080\">                    </span>│<span style=\"color: #800080; text-decoration-color: #800080\">                    </span>│<span style=\"color: #008000; text-decoration-color: #008000\">                                                          </span>│\n",
              "│<span style=\"color: #008080; text-decoration-color: #008080\">                    </span>│<span style=\"color: #800080; text-decoration-color: #800080\">                    </span>│<span style=\"color: #008000; text-decoration-color: #008000\">                                              PROMETHEUS. </span>│\n",
              "│<span style=\"color: #008080; text-decoration-color: #008080\">                    </span>│<span style=\"color: #800080; text-decoration-color: #800080\">                    </span>│<span style=\"color: #008000; text-decoration-color: #008000\">             I grudge thee not the gift which I withhold. </span>│\n",
              "│<span style=\"color: #008080; text-decoration-color: #008080\">                    </span>│<span style=\"color: #800080; text-decoration-color: #800080\">                    </span>│<span style=\"color: #008000; text-decoration-color: #008000\">                                                          </span>│\n",
              "│<span style=\"color: #008080; text-decoration-color: #008080\">                    </span>│<span style=\"color: #800080; text-decoration-color: #800080\">                    </span>│<span style=\"color: #008000; text-decoration-color: #008000\">                                                      IO. </span>│\n",
              "│<span style=\"color: #008080; text-decoration-color: #008080\">                    </span>│<span style=\"color: #800080; text-decoration-color: #800080\">                    </span>│<span style=\"color: #008000; text-decoration-color: #008000\">               Then wherefore tarry ere thou tell me all? </span>│\n",
              "├────────────────────┼────────────────────┼──────────────────────────────────────────────────────────┤\n",
              "│<span style=\"color: #008080; text-decoration-color: #008080\"> 456885564141994218 </span>│<span style=\"color: #800080; text-decoration-color: #800080\"> 0.5535010099411011 </span>│<span style=\"color: #008000; text-decoration-color: #008000\">                                                  HERMES. </span>│\n",
              "│<span style=\"color: #008080; text-decoration-color: #008080\">                    </span>│<span style=\"color: #800080; text-decoration-color: #800080\">                    </span>│<span style=\"color: #008000; text-decoration-color: #008000\">                 Thou, double-dyed in gall of bitterness, </span>│\n",
              "│<span style=\"color: #008080; text-decoration-color: #008080\">                    </span>│<span style=\"color: #800080; text-decoration-color: #800080\">                    </span>│<span style=\"color: #008000; text-decoration-color: #008000\">             Trickster and sinner against gods, by giving </span>│\n",
              "│<span style=\"color: #008080; text-decoration-color: #008080\">                    </span>│<span style=\"color: #800080; text-decoration-color: #800080\">                    </span>│<span style=\"color: #008000; text-decoration-color: #008000\">                       The stolen fire to perishable men! </span>│\n",
              "│<span style=\"color: #008080; text-decoration-color: #008080\">                    </span>│<span style=\"color: #800080; text-decoration-color: #800080\">                    </span>│<span style=\"color: #008000; text-decoration-color: #008000\">               Attend—the Sire supreme doth bid thee tell </span>│\n",
              "│<span style=\"color: #008080; text-decoration-color: #008080\">                    </span>│<span style=\"color: #800080; text-decoration-color: #800080\">                    </span>│<span style=\"color: #008000; text-decoration-color: #008000\">             What is the wedlock which thou vauntest now, </span>│\n",
              "│<span style=\"color: #008080; text-decoration-color: #008080\">                    </span>│<span style=\"color: #800080; text-decoration-color: #800080\">                    </span>│<span style=\"color: #008000; text-decoration-color: #008000\">                       Whereby he falleth from supremacy? </span>│\n",
              "│<span style=\"color: #008080; text-decoration-color: #008080\">                    </span>│<span style=\"color: #800080; text-decoration-color: #800080\">                    </span>│<span style=\"color: #008000; text-decoration-color: #008000\">   Speak forth the whole, make all thine utterance clear, </span>│\n",
              "│<span style=\"color: #008080; text-decoration-color: #008080\">                    </span>│<span style=\"color: #800080; text-decoration-color: #800080\">                    </span>│<span style=\"color: #008000; text-decoration-color: #008000\">              Have done with words inscrutable, nor cause </span>│\n",
              "│<span style=\"color: #008080; text-decoration-color: #008080\">                    </span>│<span style=\"color: #800080; text-decoration-color: #800080\">                    </span>│<span style=\"color: #008000; text-decoration-color: #008000\">                      To me, Prometheus! any further toil </span>│\n",
              "│<span style=\"color: #008080; text-decoration-color: #008080\">                    </span>│<span style=\"color: #800080; text-decoration-color: #800080\">                    </span>│<span style=\"color: #008000; text-decoration-color: #008000\">                  Or twofold journeying. Go to—thou seest </span>│\n",
              "│<span style=\"color: #008080; text-decoration-color: #008080\">                    </span>│<span style=\"color: #800080; text-decoration-color: #800080\">                    </span>│<span style=\"color: #008000; text-decoration-color: #008000\">             Zeus doth not soften at such words as thine! </span>│\n",
              "├────────────────────┼────────────────────┼──────────────────────────────────────────────────────────┤\n",
              "│<span style=\"color: #008080; text-decoration-color: #008080\"> 456885564141994221 </span>│<span style=\"color: #800080; text-decoration-color: #800080\"> 0.5514397621154785 </span>│<span style=\"color: #008000; text-decoration-color: #008000\">                                              PROMETHEUS. </span>│\n",
              "│<span style=\"color: #008080; text-decoration-color: #008080\">                    </span>│<span style=\"color: #800080; text-decoration-color: #800080\">                    </span>│<span style=\"color: #008000; text-decoration-color: #008000\">              Child, ay—or whatsoe’er hath less of brain— </span>│\n",
              "│<span style=\"color: #008080; text-decoration-color: #008080\">                    </span>│<span style=\"color: #800080; text-decoration-color: #800080\">                    </span>│<span style=\"color: #008000; text-decoration-color: #008000\">            Thou, deeming thou canst wring my secret out! </span>│\n",
              "│<span style=\"color: #008080; text-decoration-color: #008080\">                    </span>│<span style=\"color: #800080; text-decoration-color: #800080\">                    </span>│<span style=\"color: #008000; text-decoration-color: #008000\">            No mangling torture, no, nor sleight of power </span>│\n",
              "│<span style=\"color: #008080; text-decoration-color: #008080\">                    </span>│<span style=\"color: #800080; text-decoration-color: #800080\">                    </span>│<span style=\"color: #008000; text-decoration-color: #008000\">            There is, by which he shall compel my speech, </span>│\n",
              "│<span style=\"color: #008080; text-decoration-color: #008080\">                    </span>│<span style=\"color: #800080; text-decoration-color: #800080\">                    </span>│<span style=\"color: #008000; text-decoration-color: #008000\">             Until these shaming bonds be loosed from me. </span>│\n",
              "│<span style=\"color: #008080; text-decoration-color: #008080\">                    </span>│<span style=\"color: #800080; text-decoration-color: #800080\">                    </span>│<span style=\"color: #008000; text-decoration-color: #008000\">                So, let him fling his blazing levin-bolt! </span>│\n",
              "│<span style=\"color: #008080; text-decoration-color: #008080\">                    </span>│<span style=\"color: #800080; text-decoration-color: #800080\">                    </span>│<span style=\"color: #008000; text-decoration-color: #008000\">            Let him with white and winged flakes of snow, </span>│\n",
              "│<span style=\"color: #008080; text-decoration-color: #008080\">                    </span>│<span style=\"color: #800080; text-decoration-color: #800080\">                    </span>│<span style=\"color: #008000; text-decoration-color: #008000\">     And rumbling earthquakes, whelm and shake the world! </span>│\n",
              "│<span style=\"color: #008080; text-decoration-color: #008080\">                    </span>│<span style=\"color: #800080; text-decoration-color: #800080\">                    </span>│<span style=\"color: #008000; text-decoration-color: #008000\">               For nought of this shall bend me to reveal </span>│\n",
              "│<span style=\"color: #008080; text-decoration-color: #008080\">                    </span>│<span style=\"color: #800080; text-decoration-color: #800080\">                    </span>│<span style=\"color: #008000; text-decoration-color: #008000\">          The power ordained to hurl him from his throne. </span>│\n",
              "│<span style=\"color: #008080; text-decoration-color: #008080\">                    </span>│<span style=\"color: #800080; text-decoration-color: #800080\">                    </span>│<span style=\"color: #008000; text-decoration-color: #008000\">                                                          </span>│\n",
              "│<span style=\"color: #008080; text-decoration-color: #008080\">                    </span>│<span style=\"color: #800080; text-decoration-color: #800080\">                    </span>│<span style=\"color: #008000; text-decoration-color: #008000\">                                                  HERMES. </span>│\n",
              "│<span style=\"color: #008080; text-decoration-color: #008080\">                    </span>│<span style=\"color: #800080; text-decoration-color: #800080\">                    </span>│<span style=\"color: #008000; text-decoration-color: #008000\">             Bethink thee if such words can mend thy lot. </span>│\n",
              "│<span style=\"color: #008080; text-decoration-color: #008080\">                    </span>│<span style=\"color: #800080; text-decoration-color: #800080\">                    </span>│<span style=\"color: #008000; text-decoration-color: #008000\">                                                          </span>│\n",
              "│<span style=\"color: #008080; text-decoration-color: #008080\">                    </span>│<span style=\"color: #800080; text-decoration-color: #800080\">                    </span>│<span style=\"color: #008000; text-decoration-color: #008000\">                                              PROMETHEUS. </span>│\n",
              "│<span style=\"color: #008080; text-decoration-color: #008080\">                    </span>│<span style=\"color: #800080; text-decoration-color: #800080\">                    </span>│<span style=\"color: #008000; text-decoration-color: #008000\">              All have I long foreseen, and all resolved. </span>│\n",
              "│<span style=\"color: #008080; text-decoration-color: #008080\">                    </span>│<span style=\"color: #800080; text-decoration-color: #800080\">                    </span>│<span style=\"color: #008000; text-decoration-color: #008000\">                                                          </span>│\n",
              "│<span style=\"color: #008080; text-decoration-color: #008080\">                    </span>│<span style=\"color: #800080; text-decoration-color: #800080\">                    </span>│<span style=\"color: #008000; text-decoration-color: #008000\">                                                  HERMES. </span>│\n",
              "│<span style=\"color: #008080; text-decoration-color: #008080\">                    </span>│<span style=\"color: #800080; text-decoration-color: #800080\">                    </span>│<span style=\"color: #008000; text-decoration-color: #008000\">          Perverse of will! constrain, constrain thy soul </span>│\n",
              "│<span style=\"color: #008080; text-decoration-color: #008080\">                    </span>│<span style=\"color: #800080; text-decoration-color: #800080\">                    </span>│<span style=\"color: #008000; text-decoration-color: #008000\">               To think more wisely in the grasp of doom! </span>│\n",
              "└────────────────────┴────────────────────┴──────────────────────────────────────────────────────────┘\n",
              "</pre>\n"
            ]
          },
          "metadata": {}
        },
        {
          "output_type": "display_data",
          "data": {
            "text/plain": [
              "RAG prompt created. Calling inference at together:meta-llama/Llama-\u001b[1;36m3\u001b[0m-70b-chat-hf \n",
              "\n",
              "\n"
            ],
            "text/html": [
              "<pre style=\"white-space:pre;overflow-x:auto;line-height:normal;font-family:Menlo,'DejaVu Sans Mono',consolas,'Courier New',monospace\">RAG prompt created. Calling inference at together:meta-llama/Llama-<span style=\"color: #008080; text-decoration-color: #008080; font-weight: bold\">3</span>-70b-chat-hf \n",
              "\n",
              "\n",
              "</pre>\n"
            ]
          },
          "metadata": {}
        },
        {
          "output_type": "display_data",
          "data": {
            "text/plain": [
              "╭─────────────────────────────────────────────────── Assistant ───────────────────────────────────────────────────╮\n",
              "│ Hermes did not say anything to Prometheus about giving fire to humans in the provided chunks. The information   │\n",
              "│ about Prometheus giving fire to humans is mentioned in Chunk 456885564141994203, but it is Prometheus who says  │\n",
              "│ it to Io, not Hermes.                                                                                           │\n",
              "╰─────────────────────────────────────────────────────────────────────────────────────────────────────────────────╯\n"
            ],
            "text/html": [
              "<pre style=\"white-space:pre;overflow-x:auto;line-height:normal;font-family:Menlo,'DejaVu Sans Mono',consolas,'Courier New',monospace\">╭─────────────────────────────────────────────────── Assistant ───────────────────────────────────────────────────╮\n",
              "│ Hermes did not say anything to Prometheus about giving fire to humans in the provided chunks. The information   │\n",
              "│ about Prometheus giving fire to humans is mentioned in Chunk 456885564141994203, but it is Prometheus who says  │\n",
              "│ it to Io, not Hermes.                                                                                           │\n",
              "╰─────────────────────────────────────────────────────────────────────────────────────────────────────────────────╯\n",
              "</pre>\n"
            ]
          },
          "metadata": {}
        }
      ]
    }
  ]
}